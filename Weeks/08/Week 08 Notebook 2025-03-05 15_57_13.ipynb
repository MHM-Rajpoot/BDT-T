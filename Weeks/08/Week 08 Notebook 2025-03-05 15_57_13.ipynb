{
 "cells": [
  {
   "cell_type": "code",
   "execution_count": 0,
   "metadata": {
    "application/vnd.databricks.v1+cell": {
     "cellMetadata": {
      "byteLimit": 2048000,
      "rowLimit": 10000
     },
     "inputWidgets": {},
     "nuid": "e334b82d-4bbb-4c96-b772-252518a6de47",
     "showTitle": false,
     "tableResultSettingsMap": {},
     "title": ""
    }
   },
   "outputs": [
    {
     "output_type": "stream",
     "name": "stdout",
     "output_type": "stream",
     "text": [
      "Out[22]: [FileInfo(path='dbfs:/FileStore/tables/NLP.txt', name='NLP.txt', size=954, modificationTime=1740587584000),\n FileInfo(path='dbfs:/FileStore/tables/Occupancy_Detection_Data.csv', name='Occupancy_Detection_Data.csv', size=50968, modificationTime=1741130932000),\n FileInfo(path='dbfs:/FileStore/tables/account-models/', name='account-models/', size=0, modificationTime=0),\n FileInfo(path='dbfs:/FileStore/tables/accounts/', name='accounts/', size=0, modificationTime=0),\n FileInfo(path='dbfs:/FileStore/tables/accounts.zip', name='accounts.zip', size=5297592, modificationTime=1738257353000),\n FileInfo(path='dbfs:/FileStore/tables/activations/', name='activations/', size=0, modificationTime=0),\n FileInfo(path='dbfs:/FileStore/tables/activations.zip', name='activations.zip', size=8411369, modificationTime=1738254367000),\n FileInfo(path='dbfs:/FileStore/tables/emails/', name='emails/', size=0, modificationTime=0),\n FileInfo(path='dbfs:/FileStore/tables/flood.csv', name='flood.csv', size=128984, modificationTime=1739450025000),\n FileInfo(path='dbfs:/FileStore/tables/iotstream/', name='iotstream/', size=0, modificationTime=0),\n FileInfo(path='dbfs:/FileStore/tables/logs/', name='logs/', size=0, modificationTime=0),\n FileInfo(path='dbfs:/FileStore/tables/logs.zip', name='logs.zip', size=18168065, modificationTime=1738257359000),\n FileInfo(path='dbfs:/FileStore/tables/movies.csv', name='movies.csv', size=494431, modificationTime=1741191171000),\n FileInfo(path='dbfs:/FileStore/tables/myratings.csv', name='myratings.csv', size=10683, modificationTime=1741191791000),\n FileInfo(path='dbfs:/FileStore/tables/ratings.csv', name='ratings.csv', size=2483723, modificationTime=1741191171000),\n FileInfo(path='dbfs:/FileStore/tables/test-1.json', name='test-1.json', size=17958, modificationTime=1737563304000),\n FileInfo(path='dbfs:/FileStore/tables/test-2.json', name='test-2.json', size=17958, modificationTime=1737563665000),\n FileInfo(path='dbfs:/FileStore/tables/test-3.json', name='test-3.json', size=17958, modificationTime=1737578276000),\n FileInfo(path='dbfs:/FileStore/tables/test.json', name='test.json', size=17958, modificationTime=1737563170000),\n FileInfo(path='dbfs:/FileStore/tables/webpage/', name='webpage/', size=0, modificationTime=0),\n FileInfo(path='dbfs:/FileStore/tables/webpage.zip', name='webpage.zip', size=1582, modificationTime=1738774537000),\n FileInfo(path='dbfs:/FileStore/tables/webpage_files_all/', name='webpage_files_all/', size=0, modificationTime=0),\n FileInfo(path='dbfs:/FileStore/tables/webpage_files_jpg/', name='webpage_files_jpg/', size=0, modificationTime=0)]"
     ]
    }
   ],
   "source": [
    "dbutils.fs.ls(\"FileStore/tables/\")"
   ]
  },
  {
   "cell_type": "code",
   "execution_count": 0,
   "metadata": {
    "application/vnd.databricks.v1+cell": {
     "cellMetadata": {
      "byteLimit": 2048000,
      "rowLimit": 10000
     },
     "inputWidgets": {},
     "nuid": "918f1bbe-bdde-4079-b273-90d3e0f0f6a7",
     "showTitle": false,
     "tableResultSettingsMap": {},
     "title": ""
    }
   },
   "outputs": [],
   "source": [
    "import mlflow\n",
    "mlflow.pyspark.ml.autolog()"
   ]
  },
  {
   "cell_type": "code",
   "execution_count": 0,
   "metadata": {
    "application/vnd.databricks.v1+cell": {
     "cellMetadata": {
      "byteLimit": 2048000,
      "rowLimit": 10000
     },
     "inputWidgets": {},
     "nuid": "255aabe3-d2bb-4df7-8b1f-eb050968d68c",
     "showTitle": false,
     "tableResultSettingsMap": {},
     "title": ""
    }
   },
   "outputs": [],
   "source": [
    "movies = spark.read.csv(\"/FileStore/tables/movies.csv\", header= True, inferSchema= True)"
   ]
  },
  {
   "cell_type": "code",
   "execution_count": 0,
   "metadata": {
    "application/vnd.databricks.v1+cell": {
     "cellMetadata": {
      "byteLimit": 2048000,
      "rowLimit": 10000
     },
     "inputWidgets": {},
     "nuid": "0f876074-1c9e-4f67-9637-dd1c3e257306",
     "showTitle": false,
     "tableResultSettingsMap": {},
     "title": ""
    }
   },
   "outputs": [],
   "source": [
    "ratings = spark.read.csv(\"/FileStore/tables/ratings.csv\", header= True, inferSchema= True)"
   ]
  },
  {
   "cell_type": "code",
   "execution_count": 0,
   "metadata": {
    "application/vnd.databricks.v1+cell": {
     "cellMetadata": {
      "byteLimit": 2048000,
      "rowLimit": 10000
     },
     "inputWidgets": {},
     "nuid": "36d90d9a-3f01-4ade-87f9-381ed3294745",
     "showTitle": false,
     "tableResultSettingsMap": {},
     "title": ""
    }
   },
   "outputs": [],
   "source": [
    "myratings = spark.read.csv(\"/FileStore/tables/myratings.csv\", header= True, inferSchema= True)"
   ]
  },
  {
   "cell_type": "code",
   "execution_count": 0,
   "metadata": {
    "application/vnd.databricks.v1+cell": {
     "cellMetadata": {
      "byteLimit": 2048000,
      "rowLimit": 10000
     },
     "inputWidgets": {},
     "nuid": "c1d1e04d-cbac-4b8f-b032-7f3c72826d7e",
     "showTitle": false,
     "tableResultSettingsMap": {},
     "title": ""
    }
   },
   "outputs": [
    {
     "output_type": "stream",
     "name": "stdout",
     "output_type": "stream",
     "text": [
      "+------+-------+--------------------+------+\n|userId|movieId|               title|rating|\n+------+-------+--------------------+------+\n|     0|    356| Forrest Gump (1994)|     3|\n|     0|    318|Shawshank Redempt...|     4|\n|     0|    296| Pulp Fiction (1994)|     1|\n|     0|    593|Silence of the La...|     0|\n|     0|   2571|  Matrix, The (1999)|     5|\n|     0|    260|Star Wars: Episod...|     4|\n|     0|    480|Jurassic Park (1993)|     4|\n|     0|    110|   Braveheart (1995)|     3|\n|     0|    589|Terminator 2: Jud...|     4|\n|     0|    527|Schindler's List ...|     5|\n|     0|   2959|   Fight Club (1999)|  null|\n|     0|      1|    Toy Story (1995)|  null|\n|     0|   1196|Star Wars: Episod...|  null|\n|     0|     50|Usual Suspects, T...|  null|\n|     0|   2858|American Beauty (...|  null|\n|     0|     47|Seven (a.k.a. Se7...|  null|\n|     0|    780|Independence Day ...|  null|\n|     0|    150|    Apollo 13 (1995)|  null|\n|     0|   1198|Raiders of the Lo...|  null|\n|     0|   4993|Lord of the Rings...|  null|\n+------+-------+--------------------+------+\nonly showing top 20 rows\n\n"
     ]
    }
   ],
   "source": [
    "myratings.show()"
   ]
  },
  {
   "cell_type": "code",
   "execution_count": 0,
   "metadata": {
    "application/vnd.databricks.v1+cell": {
     "cellMetadata": {
      "byteLimit": 2048000,
      "rowLimit": 10000
     },
     "inputWidgets": {},
     "nuid": "75657bca-2c9f-4068-ac3b-13f7e7e2c593",
     "showTitle": false,
     "tableResultSettingsMap": {},
     "title": ""
    }
   },
   "outputs": [],
   "source": [
    "myratings = myratings.dropna()"
   ]
  },
  {
   "cell_type": "code",
   "execution_count": 0,
   "metadata": {
    "application/vnd.databricks.v1+cell": {
     "cellMetadata": {
      "byteLimit": 2048000,
      "rowLimit": 10000
     },
     "inputWidgets": {},
     "nuid": "1950cbab-55ef-47cc-82f0-cd1928eb888b",
     "showTitle": false,
     "tableResultSettingsMap": {},
     "title": ""
    }
   },
   "outputs": [
    {
     "output_type": "stream",
     "name": "stdout",
     "output_type": "stream",
     "text": [
      "+------+-------+--------------------+------+\n|userId|movieId|               title|rating|\n+------+-------+--------------------+------+\n|     0|    356| Forrest Gump (1994)|     3|\n|     0|    318|Shawshank Redempt...|     4|\n|     0|    296| Pulp Fiction (1994)|     1|\n|     0|    593|Silence of the La...|     0|\n|     0|   2571|  Matrix, The (1999)|     5|\n|     0|    260|Star Wars: Episod...|     4|\n|     0|    480|Jurassic Park (1993)|     4|\n|     0|    110|   Braveheart (1995)|     3|\n|     0|    589|Terminator 2: Jud...|     4|\n|     0|    527|Schindler's List ...|     5|\n+------+-------+--------------------+------+\n\n"
     ]
    }
   ],
   "source": [
    "myratings.show()"
   ]
  },
  {
   "cell_type": "code",
   "execution_count": 0,
   "metadata": {
    "application/vnd.databricks.v1+cell": {
     "cellMetadata": {
      "byteLimit": 2048000,
      "rowLimit": 10000
     },
     "inputWidgets": {},
     "nuid": "48402b43-10a7-4c4b-b424-bb29394c06e7",
     "showTitle": false,
     "tableResultSettingsMap": {},
     "title": ""
    }
   },
   "outputs": [
    {
     "output_type": "stream",
     "name": "stdout",
     "output_type": "stream",
     "text": [
      "+------+-------+------+---------+\n|userId|movieId|rating|timestamp|\n+------+-------+------+---------+\n|1     |1      |4.0   |964982703|\n|1     |3      |4.0   |964981247|\n|1     |6      |4.0   |964982224|\n|1     |47     |5.0   |964983815|\n|1     |50     |5.0   |964982931|\n|1     |70     |3.0   |964982400|\n|1     |101    |5.0   |964980868|\n|1     |110    |4.0   |964982176|\n|1     |151    |5.0   |964984041|\n|1     |157    |5.0   |964984100|\n|1     |163    |5.0   |964983650|\n|1     |216    |5.0   |964981208|\n|1     |223    |3.0   |964980985|\n|1     |231    |5.0   |964981179|\n|1     |235    |4.0   |964980908|\n|1     |260    |5.0   |964981680|\n|1     |296    |3.0   |964982967|\n|1     |316    |3.0   |964982310|\n|1     |333    |5.0   |964981179|\n|1     |349    |4.0   |964982563|\n+------+-------+------+---------+\nonly showing top 20 rows\n\n"
     ]
    }
   ],
   "source": [
    "ratings.show(truncate =  False)"
   ]
  },
  {
   "cell_type": "code",
   "execution_count": 0,
   "metadata": {
    "application/vnd.databricks.v1+cell": {
     "cellMetadata": {
      "byteLimit": 2048000,
      "rowLimit": 10000
     },
     "inputWidgets": {},
     "nuid": "f7fb490a-3270-4377-80b9-6f96f73b298f",
     "showTitle": false,
     "tableResultSettingsMap": {},
     "title": ""
    }
   },
   "outputs": [
    {
     "output_type": "stream",
     "name": "stdout",
     "output_type": "stream",
     "text": [
      "+-------+-------------------------------------+-------------------------------------------+\n|movieId|title                                |genres                                     |\n+-------+-------------------------------------+-------------------------------------------+\n|1      |Toy Story (1995)                     |Adventure|Animation|Children|Comedy|Fantasy|\n|2      |Jumanji (1995)                       |Adventure|Children|Fantasy                 |\n|3      |Grumpier Old Men (1995)              |Comedy|Romance                             |\n|4      |Waiting to Exhale (1995)             |Comedy|Drama|Romance                       |\n|5      |Father of the Bride Part II (1995)   |Comedy                                     |\n|6      |Heat (1995)                          |Action|Crime|Thriller                      |\n|7      |Sabrina (1995)                       |Comedy|Romance                             |\n|8      |Tom and Huck (1995)                  |Adventure|Children                         |\n|9      |Sudden Death (1995)                  |Action                                     |\n|10     |GoldenEye (1995)                     |Action|Adventure|Thriller                  |\n|11     |American President, The (1995)       |Comedy|Drama|Romance                       |\n|12     |Dracula: Dead and Loving It (1995)   |Comedy|Horror                              |\n|13     |Balto (1995)                         |Adventure|Animation|Children               |\n|14     |Nixon (1995)                         |Drama                                      |\n|15     |Cutthroat Island (1995)              |Action|Adventure|Romance                   |\n|16     |Casino (1995)                        |Crime|Drama                                |\n|17     |Sense and Sensibility (1995)         |Drama|Romance                              |\n|18     |Four Rooms (1995)                    |Comedy                                     |\n|19     |Ace Ventura: When Nature Calls (1995)|Comedy                                     |\n|20     |Money Train (1995)                   |Action|Comedy|Crime|Drama|Thriller         |\n+-------+-------------------------------------+-------------------------------------------+\nonly showing top 20 rows\n\n"
     ]
    }
   ],
   "source": [
    "movies.show(truncate= False)"
   ]
  },
  {
   "cell_type": "code",
   "execution_count": 0,
   "metadata": {
    "application/vnd.databricks.v1+cell": {
     "cellMetadata": {
      "byteLimit": 2048000,
      "rowLimit": 10000
     },
     "inputWidgets": {},
     "nuid": "194aea52-59d0-48dc-8f2d-04a4d4791db5",
     "showTitle": false,
     "tableResultSettingsMap": {},
     "title": ""
    }
   },
   "outputs": [],
   "source": [
    "myratings =  myratings.drop(\"title\")"
   ]
  },
  {
   "cell_type": "code",
   "execution_count": 0,
   "metadata": {
    "application/vnd.databricks.v1+cell": {
     "cellMetadata": {
      "byteLimit": 2048000,
      "rowLimit": 10000
     },
     "inputWidgets": {},
     "nuid": "141570ca-4309-4d49-b0b8-d46fca12f88c",
     "showTitle": false,
     "tableResultSettingsMap": {},
     "title": ""
    }
   },
   "outputs": [],
   "source": [
    "ratings =  ratings.drop(\"timestamp\")"
   ]
  },
  {
   "cell_type": "markdown",
   "metadata": {
    "application/vnd.databricks.v1+cell": {
     "cellMetadata": {},
     "inputWidgets": {},
     "nuid": "ef295e66-c190-4fec-b610-8b15ae2833df",
     "showTitle": false,
     "tableResultSettingsMap": {},
     "title": ""
    }
   },
   "source": [
    "### Challange 1"
   ]
  },
  {
   "cell_type": "code",
   "execution_count": 0,
   "metadata": {
    "application/vnd.databricks.v1+cell": {
     "cellMetadata": {
      "byteLimit": 2048000,
      "rowLimit": 10000
     },
     "inputWidgets": {},
     "nuid": "014ffca4-828d-4dcf-a1cb-09b01ae77eb7",
     "showTitle": false,
     "tableResultSettingsMap": {},
     "title": ""
    }
   },
   "outputs": [
    {
     "output_type": "display_data",
     "data": {
      "text/html": [
       "<style scoped>\n",
       "  .table-result-container {\n",
       "    max-height: 300px;\n",
       "    overflow: auto;\n",
       "  }\n",
       "  table, th, td {\n",
       "    border: 1px solid black;\n",
       "    border-collapse: collapse;\n",
       "  }\n",
       "  th, td {\n",
       "    padding: 5px;\n",
       "  }\n",
       "  th {\n",
       "    text-align: left;\n",
       "  }\n",
       "</style><div class='table-result-container'><table class='table-result'><thead style='background-color: white'><tr><th>userId</th><th>count</th></tr></thead><tbody><tr><td>148</td><td>48</td></tr><tr><td>463</td><td>33</td></tr><tr><td>471</td><td>28</td></tr><tr><td>496</td><td>29</td></tr><tr><td>243</td><td>36</td></tr><tr><td>392</td><td>25</td></tr><tr><td>540</td><td>42</td></tr><tr><td>31</td><td>50</td></tr><tr><td>516</td><td>26</td></tr><tr><td>85</td><td>34</td></tr><tr><td>137</td><td>141</td></tr><tr><td>251</td><td>23</td></tr><tr><td>451</td><td>34</td></tr><tr><td>580</td><td>436</td></tr><tr><td>65</td><td>34</td></tr><tr><td>458</td><td>59</td></tr><tr><td>53</td><td>20</td></tr><tr><td>255</td><td>44</td></tr><tr><td>481</td><td>31</td></tr><tr><td>588</td><td>56</td></tr><tr><td>133</td><td>35</td></tr><tr><td>296</td><td>27</td></tr><tr><td>472</td><td>29</td></tr><tr><td>78</td><td>61</td></tr><tr><td>322</td><td>107</td></tr><tr><td>513</td><td>32</td></tr><tr><td>321</td><td>56</td></tr><tr><td>362</td><td>109</td></tr><tr><td>375</td><td>33</td></tr><tr><td>593</td><td>103</td></tr><tr><td>597</td><td>443</td></tr><tr><td>108</td><td>76</td></tr><tr><td>155</td><td>46</td></tr><tr><td>34</td><td>86</td></tr><tr><td>193</td><td>35</td></tr><tr><td>211</td><td>89</td></tr><tr><td>368</td><td>469</td></tr><tr><td>530</td><td>27</td></tr><tr><td>101</td><td>61</td></tr><tr><td>115</td><td>112</td></tr><tr><td>126</td><td>38</td></tr><tr><td>81</td><td>26</td></tr><tr><td>385</td><td>201</td></tr><tr><td>28</td><td>570</td></tr><tr><td>183</td><td>57</td></tr><tr><td>210</td><td>138</td></tr><tr><td>436</td><td>106</td></tr><tr><td>497</td><td>51</td></tr><tr><td>596</td><td>411</td></tr><tr><td>300</td><td>32</td></tr><tr><td>406</td><td>20</td></tr><tr><td>412</td><td>102</td></tr><tr><td>587</td><td>165</td></tr><tr><td>76</td><td>119</td></tr><tr><td>26</td><td>21</td></tr><tr><td>27</td><td>135</td></tr><tr><td>332</td><td>267</td></tr><tr><td>501</td><td>45</td></tr><tr><td>577</td><td>161</td></tr><tr><td>384</td><td>70</td></tr><tr><td>44</td><td>48</td></tr><tr><td>159</td><td>97</td></tr><tr><td>192</td><td>22</td></tr><tr><td>271</td><td>43</td></tr><tr><td>606</td><td>1115</td></tr><tr><td>253</td><td>47</td></tr><tr><td>103</td><td>377</td></tr><tr><td>236</td><td>30</td></tr><tr><td>329</td><td>23</td></tr><tr><td>460</td><td>82</td></tr><tr><td>12</td><td>32</td></tr><tr><td>336</td><td>56</td></tr><tr><td>350</td><td>40</td></tr><tr><td>223</td><td>75</td></tr><tr><td>388</td><td>29</td></tr><tr><td>417</td><td>67</td></tr><tr><td>548</td><td>26</td></tr><tr><td>602</td><td>135</td></tr><tr><td>91</td><td>575</td></tr><tr><td>409</td><td>126</td></tr><tr><td>578</td><td>27</td></tr><tr><td>333</td><td>25</td></tr><tr><td>222</td><td>250</td></tr><tr><td>285</td><td>36</td></tr><tr><td>601</td><td>101</td></tr><tr><td>22</td><td>119</td></tr><tr><td>128</td><td>33</td></tr><tr><td>209</td><td>35</td></tr><tr><td>330</td><td>247</td></tr><tr><td>372</td><td>236</td></tr><tr><td>604</td><td>100</td></tr><tr><td>122</td><td>292</td></tr><tr><td>230</td><td>139</td></tr><tr><td>319</td><td>35</td></tr><tr><td>493</td><td>61</td></tr><tr><td>93</td><td>97</td></tr><tr><td>157</td><td>21</td></tr><tr><td>190</td><td>66</td></tr><tr><td>225</td><td>75</td></tr><tr><td>232</td><td>862</td></tr><tr><td>233</td><td>150</td></tr><tr><td>246</td><td>204</td></tr><tr><td>346</td><td>164</td></tr><tr><td>360</td><td>25</td></tr><tr><td>367</td><td>185</td></tr><tr><td>476</td><td>69</td></tr><tr><td>539</td><td>38</td></tr><tr><td>599</td><td>2478</td></tr><tr><td>111</td><td>646</td></tr><tr><td>224</td><td>54</td></tr><tr><td>519</td><td>26</td></tr><tr><td>47</td><td>140</td></tr><tr><td>140</td><td>608</td></tr><tr><td>177</td><td>904</td></tr><tr><td>416</td><td>51</td></tr><tr><td>556</td><td>32</td></tr><tr><td>132</td><td>347</td></tr><tr><td>152</td><td>63</td></tr><tr><td>444</td><td>42</td></tr><tr><td>185</td><td>47</td></tr><tr><td>305</td><td>677</td></tr><tr><td>353</td><td>90</td></tr><tr><td>355</td><td>26</td></tr><tr><td>291</td><td>31</td></tr><tr><td>325</td><td>270</td></tr><tr><td>386</td><td>68</td></tr><tr><td>435</td><td>42</td></tr><tr><td>473</td><td>37</td></tr><tr><td>581</td><td>40</td></tr><tr><td>603</td><td>943</td></tr><tr><td>146</td><td>32</td></tr><tr><td>259</td><td>29</td></tr><tr><td>512</td><td>50</td></tr><tr><td>1</td><td>232</td></tr><tr><td>206</td><td>25</td></tr><tr><td>52</td><td>130</td></tr><tr><td>297</td><td>72</td></tr><tr><td>363</td><td>30</td></tr><tr><td>212</td><td>248</td></tr><tr><td>274</td><td>1346</td></tr><tr><td>182</td><td>977</td></tr><tr><td>442</td><td>20</td></tr><tr><td>13</td><td>31</td></tr><tr><td>218</td><td>26</td></tr><tr><td>280</td><td>196</td></tr><tr><td>348</td><td>55</td></tr><tr><td>440</td><td>33</td></tr><tr><td>6</td><td>314</td></tr><tr><td>16</td><td>98</td></tr><tr><td>86</td><td>70</td></tr><tr><td>474</td><td>2108</td></tr><tr><td>168</td><td>94</td></tr><tr><td>205</td><td>27</td></tr><tr><td>572</td><td>155</td></tr><tr><td>3</td><td>39</td></tr><tr><td>142</td><td>38</td></tr><tr><td>178</td><td>77</td></tr><tr><td>308</td><td>115</td></tr><tr><td>328</td><td>255</td></tr><tr><td>20</td><td>242</td></tr><tr><td>40</td><td>103</td></tr><tr><td>164</td><td>36</td></tr><tr><td>429</td><td>58</td></tr><tr><td>470</td><td>80</td></tr><tr><td>169</td><td>269</td></tr><tr><td>500</td><td>86</td></tr><tr><td>139</td><td>194</td></tr><tr><td>283</td><td>35</td></tr><tr><td>359</td><td>74</td></tr><tr><td>479</td><td>181</td></tr><tr><td>295</td><td>41</td></tr><tr><td>340</td><td>28</td></tr><tr><td>431</td><td>20</td></tr><tr><td>94</td><td>56</td></tr><tr><td>250</td><td>27</td></tr><tr><td>377</td><td>131</td></tr><tr><td>402</td><td>48</td></tr><tr><td>432</td><td>260</td></tr><tr><td>582</td><td>56</td></tr><tr><td>57</td><td>476</td></tr><tr><td>570</td><td>191</td></tr><tr><td>292</td><td>446</td></tr><tr><td>306</td><td>112</td></tr><tr><td>339</td><td>371</td></tr><tr><td>54</td><td>33</td></tr><tr><td>120</td><td>22</td></tr><tr><td>559</td><td>140</td></tr><tr><td>491</td><td>64</td></tr><tr><td>96</td><td>78</td></tr><tr><td>235</td><td>65</td></tr><tr><td>545</td><td>23</td></tr><tr><td>452</td><td>202</td></tr><tr><td>48</td><td>33</td></tr><tr><td>266</td><td>180</td></tr><tr><td>507</td><td>21</td></tr><tr><td>544</td><td>22</td></tr><tr><td>5</td><td>44</td></tr><tr><td>163</td><td>23</td></tr><tr><td>191</td><td>85</td></tr><tr><td>268</td><td>129</td></tr><tr><td>258</td><td>25</td></tr><tr><td>279</td><td>176</td></tr><tr><td>19</td><td>703</td></tr><tr><td>397</td><td>23</td></tr><tr><td>430</td><td>58</td></tr><tr><td>92</td><td>24</td></tr><tr><td>419</td><td>155</td></tr><tr><td>542</td><td>113</td></tr><tr><td>553</td><td>83</td></tr><tr><td>560</td><td>458</td></tr><tr><td>415</td><td>94</td></tr><tr><td>257</td><td>20</td></tr><tr><td>299</td><td>23</td></tr><tr><td>64</td><td>517</td></tr><tr><td>117</td><td>165</td></tr><tr><td>227</td><td>94</td></tr><tr><td>579</td><td>73</td></tr><tr><td>504</td><td>87</td></tr><tr><td>554</td><td>89</td></tr><tr><td>598</td><td>21</td></tr><tr><td>41</td><td>217</td></tr><tr><td>154</td><td>34</td></tr><tr><td>309</td><td>103</td></tr><tr><td>425</td><td>306</td></tr><tr><td>347</td><td>45</td></tr><tr><td>447</td><td>78</td></tr><tr><td>455</td><td>57</td></tr><tr><td>484</td><td>275</td></tr><tr><td>607</td><td>187</td></tr><tr><td>15</td><td>135</td></tr><tr><td>43</td><td>114</td></tr><tr><td>262</td><td>57</td></tr><tr><td>511</td><td>52</td></tr><tr><td>112</td><td>65</td></tr><tr><td>269</td><td>29</td></tr><tr><td>327</td><td>48</td></tr><tr><td>563</td><td>213</td></tr><tr><td>165</td><td>65</td></tr><tr><td>358</td><td>41</td></tr><tr><td>366</td><td>31</td></tr><tr><td>179</td><td>69</td></tr><tr><td>189</td><td>20</td></tr><tr><td>207</td><td>20</td></tr><tr><td>489</td><td>648</td></tr><tr><td>590</td><td>728</td></tr><tr><td>37</td><td>21</td></tr><tr><td>383</td><td>34</td></tr><tr><td>61</td><td>39</td></tr><tr><td>127</td><td>22</td></tr><tr><td>316</td><td>53</td></tr><tr><td>461</td><td>27</td></tr><tr><td>502</td><td>35</td></tr><tr><td>523</td><td>75</td></tr><tr><td>88</td><td>56</td></tr><tr><td>197</td><td>35</td></tr><tr><td>486</td><td>56</td></tr><tr><td>531</td><td>22</td></tr><tr><td>318</td><td>879</td></tr><tr><td>462</td><td>455</td></tr><tr><td>547</td><td>21</td></tr><tr><td>107</td><td>34</td></tr><tr><td>202</td><td>403</td></tr><tr><td>263</td><td>210</td></tr><tr><td>374</td><td>33</td></tr><tr><td>564</td><td>157</td></tr><tr><td>9</td><td>46</td></tr><tr><td>17</td><td>105</td></tr><tr><td>231</td><td>24</td></tr><tr><td>552</td><td>188</td></tr><tr><td>324</td><td>21</td></tr><tr><td>586</td><td>208</td></tr><tr><td>609</td><td>37</td></tr><tr><td>72</td><td>45</td></tr><tr><td>286</td><td>106</td></tr><tr><td>398</td><td>46</td></tr><tr><td>505</td><td>31</td></tr><tr><td>538</td><td>37</td></tr><tr><td>175</td><td>24</td></tr><tr><td>387</td><td>1027</td></tr><tr><td>423</td><td>23</td></tr><tr><td>381</td><td>474</td></tr><tr><td>498</td><td>35</td></tr><tr><td>35</td><td>23</td></tr><tr><td>503</td><td>95</td></tr><tr><td>583</td><td>56</td></tr><tr><td>594</td><td>232</td></tr><tr><td>610</td><td>1302</td></tr><tr><td>310</td><td>64</td></tr><tr><td>485</td><td>23</td></tr><tr><td>568</td><td>23</td></tr><tr><td>196</td><td>32</td></tr><tr><td>437</td><td>122</td></tr><tr><td>456</td><td>43</td></tr><tr><td>217</td><td>613</td></tr><tr><td>290</td><td>267</td></tr><tr><td>441</td><td>45</td></tr><tr><td>229</td><td>65</td></tr><tr><td>307</td><td>975</td></tr><tr><td>326</td><td>152</td></tr><tr><td>537</td><td>47</td></tr><tr><td>114</td><td>31</td></tr><tr><td>173</td><td>25</td></tr><tr><td>220</td><td>207</td></tr><tr><td>278</td><td>20</td></tr><tr><td>301</td><td>114</td></tr><tr><td>494</td><td>22</td></tr><tr><td>4</td><td>216</td></tr><tr><td>55</td><td>25</td></tr><tr><td>59</td><td>107</td></tr><tr><td>445</td><td>77</td></tr><tr><td>8</td><td>47</td></tr><tr><td>100</td><td>148</td></tr><tr><td>241</td><td>76</td></tr><tr><td>449</td><td>38</td></tr><tr><td>450</td><td>51</td></tr><tr><td>495</td><td>265</td></tr><tr><td>161</td><td>39</td></tr><tr><td>555</td><td>578</td></tr><tr><td>23</td><td>121</td></tr><tr><td>39</td><td>100</td></tr><tr><td>49</td><td>21</td></tr><tr><td>176</td><td>36</td></tr><tr><td>380</td><td>1218</td></tr><tr><td>520</td><td>186</td></tr><tr><td>7</td><td>152</td></tr><tr><td>162</td><td>38</td></tr><tr><td>514</td><td>397</td></tr><tr><td>549</td><td>21</td></tr><tr><td>130</td><td>28</td></tr><tr><td>238</td><td>44</td></tr><tr><td>244</td><td>93</td></tr><tr><td>446</td><td>84</td></tr><tr><td>84</td><td>293</td></tr><tr><td>136</td><td>111</td></tr><tr><td>453</td><td>311</td></tr><tr><td>247</td><td>150</td></tr><tr><td>314</td><td>128</td></tr><tr><td>87</td><td>21</td></tr><tr><td>565</td><td>29</td></tr><tr><td>171</td><td>82</td></tr><tr><td>273</td><td>55</td></tr><tr><td>343</td><td>59</td></tr><tr><td>434</td><td>233</td></tr><tr><td>439</td><td>21</td></tr><tr><td>443</td><td>37</td></tr><tr><td>585</td><td>61</td></tr><tr><td>51</td><td>359</td></tr><tr><td>194</td><td>20</td></tr><tr><td>277</td><td>28</td></tr><tr><td>331</td><td>168</td></tr><tr><td>428</td><td>300</td></tr><tr><td>465</td><td>115</td></tr><tr><td>391</td><td>386</td></tr><tr><td>438</td><td>635</td></tr><tr><td>532</td><td>50</td></tr><tr><td>69</td><td>46</td></tr><tr><td>129</td><td>140</td></tr><tr><td>166</td><td>190</td></tr><tr><td>448</td><td>1864</td></tr><tr><td>467</td><td>22</td></tr><tr><td>97</td><td>36</td></tr><tr><td>400</td><td>43</td></tr><tr><td>543</td><td>76</td></tr><tr><td>524</td><td>131</td></tr><tr><td>533</td><td>38</td></tr><tr><td>234</td><td>202</td></tr><tr><td>239</td><td>279</td></tr><tr><td>264</td><td>56</td></tr><tr><td>312</td><td>223</td></tr><tr><td>389</td><td>34</td></tr><tr><td>63</td><td>271</td></tr><tr><td>395</td><td>61</td></tr><tr><td>403</td><td>34</td></tr><tr><td>459</td><td>26</td></tr><tr><td>509</td><td>467</td></tr><tr><td>10</td><td>140</td></tr><tr><td>77</td><td>29</td></tr><tr><td>102</td><td>56</td></tr><tr><td>361</td><td>97</td></tr><tr><td>589</td><td>40</td></tr><tr><td>50</td><td>310</td></tr><tr><td>518</td><td>24</td></tr><tr><td>267</td><td>57</td></tr><tr><td>293</td><td>21</td></tr><tr><td>404</td><td>60</td></tr><tr><td>527</td><td>167</td></tr><tr><td>45</td><td>399</td></tr><tr><td>569</td><td>20</td></tr><tr><td>216</td><td>164</td></tr><tr><td>38</td><td>78</td></tr><tr><td>261</td><td>53</td></tr><tr><td>320</td><td>20</td></tr><tr><td>418</td><td>93</td></tr><tr><td>82</td><td>227</td></tr><tr><td>181</td><td>118</td></tr><tr><td>249</td><td>1046</td></tr><tr><td>364</td><td>21</td></tr><tr><td>510</td><td>108</td></tr><tr><td>167</td><td>173</td></tr><tr><td>288</td><td>1055</td></tr><tr><td>394</td><td>23</td></tr><tr><td>576</td><td>20</td></tr><tr><td>80</td><td>167</td></tr><tr><td>240</td><td>128</td></tr><tr><td>289</td><td>24</td></tr><tr><td>356</td><td>289</td></tr><tr><td>25</td><td>26</td></tr><tr><td>73</td><td>210</td></tr><tr><td>245</td><td>21</td></tr><tr><td>427</td><td>84</td></tr><tr><td>591</td><td>54</td></tr><tr><td>113</td><td>150</td></tr><tr><td>237</td><td>50</td></tr><tr><td>24</td><td>110</td></tr><tr><td>160</td><td>437</td></tr><tr><td>70</td><td>62</td></tr><tr><td>408</td><td>141</td></tr><tr><td>62</td><td>366</td></tr><tr><td>121</td><td>58</td></tr><tr><td>125</td><td>360</td></tr><tr><td>396</td><td>28</td></tr><tr><td>156</td><td>398</td></tr><tr><td>351</td><td>141</td></tr><tr><td>480</td><td>836</td></tr><tr><td>143</td><td>71</td></tr><tr><td>219</td><td>528</td></tr><tr><td>95</td><td>168</td></tr><tr><td>411</td><td>127</td></tr><tr><td>477</td><td>600</td></tr><tr><td>482</td><td>128</td></tr><tr><td>29</td><td>81</td></tr><tr><td>226</td><td>507</td></tr><tr><td>390</td><td>81</td></tr><tr><td>464</td><td>138</td></tr><tr><td>526</td><td>58</td></tr><tr><td>528</td><td>73</td></tr><tr><td>558</td><td>56</td></tr><tr><td>21</td><td>443</td></tr><tr><td>214</td><td>22</td></tr><tr><td>323</td><td>98</td></tr><tr><td>550</td><td>28</td></tr><tr><td>335</td><td>28</td></tr><tr><td>338</td><td>39</td></tr><tr><td>352</td><td>294</td></tr><tr><td>492</td><td>121</td></tr><tr><td>98</td><td>92</td></tr><tr><td>195</td><td>187</td></tr><tr><td>256</td><td>174</td></tr><tr><td>287</td><td>152</td></tr><tr><td>345</td><td>62</td></tr><tr><td>490</td><td>113</td></tr><tr><td>595</td><td>20</td></tr><tr><td>32</td><td>102</td></tr><tr><td>60</td><td>22</td></tr><tr><td>90</td><td>54</td></tr><tr><td>371</td><td>41</td></tr><tr><td>75</td><td>69</td></tr><tr><td>382</td><td>291</td></tr><tr><td>469</td><td>465</td></tr><tr><td>203</td><td>45</td></tr><tr><td>221</td><td>331</td></tr><tr><td>265</td><td>163</td></tr><tr><td>457</td><td>50</td></tr><tr><td>141</td><td>168</td></tr><tr><td>151</td><td>59</td></tr><tr><td>341</td><td>52</td></tr><tr><td>414</td><td>2698</td></tr><tr><td>433</td><td>22</td></tr><tr><td>608</td><td>831</td></tr><tr><td>334</td><td>154</td></tr><tr><td>592</td><td>94</td></tr><tr><td>145</td><td>23</td></tr><tr><td>200</td><td>334</td></tr><tr><td>272</td><td>31</td></tr><tr><td>376</td><td>133</td></tr><tr><td>488</td><td>111</td></tr><tr><td>515</td><td>26</td></tr><tr><td>56</td><td>46</td></tr><tr><td>109</td><td>127</td></tr><tr><td>254</td><td>127</td></tr><tr><td>378</td><td>48</td></tr><tr><td>487</td><td>56</td></tr><tr><td>213</td><td>84</td></tr><tr><td>228</td><td>25</td></tr><tr><td>478</td><td>22</td></tr><tr><td>534</td><td>520</td></tr><tr><td>303</td><td>53</td></tr><tr><td>426</td><td>88</td></tr><tr><td>574</td><td>23</td></tr><tr><td>170</td><td>50</td></tr><tr><td>354</td><td>226</td></tr><tr><td>304</td><td>216</td></tr><tr><td>536</td><td>40</td></tr><tr><td>105</td><td>722</td></tr><tr><td>298</td><td>939</td></tr><tr><td>370</td><td>93</td></tr><tr><td>58</td><td>112</td></tr><tr><td>188</td><td>48</td></tr><tr><td>11</td><td>64</td></tr><tr><td>33</td><td>156</td></tr><tr><td>204</td><td>83</td></tr><tr><td>421</td><td>37</td></tr><tr><td>575</td><td>36</td></tr><tr><td>83</td><td>118</td></tr><tr><td>110</td><td>51</td></tr><tr><td>150</td><td>26</td></tr><tr><td>369</td><td>129</td></tr><tr><td>413</td><td>56</td></tr><tr><td>508</td><td>24</td></tr><tr><td>541</td><td>87</td></tr><tr><td>68</td><td>1260</td></tr><tr><td>71</td><td>35</td></tr><tr><td>106</td><td>33</td></tr><tr><td>260</td><td>152</td></tr><tr><td>567</td><td>385</td></tr><tr><td>525</td><td>500</td></tr><tr><td>561</td><td>505</td></tr><tr><td>116</td><td>87</td></tr><tr><td>147</td><td>20</td></tr><tr><td>14</td><td>48</td></tr><tr><td>198</td><td>230</td></tr><tr><td>317</td><td>189</td></tr><tr><td>546</td><td>64</td></tr><tr><td>600</td><td>763</td></tr><tr><td>344</td><td>69</td></tr><tr><td>349</td><td>37</td></tr><tr><td>424</td><td>138</td></tr><tr><td>123</td><td>56</td></tr><tr><td>342</td><td>66</td></tr><tr><td>373</td><td>100</td></tr><tr><td>379</td><td>36</td></tr><tr><td>454</td><td>45</td></tr><tr><td>158</td><td>26</td></tr><tr><td>199</td><td>363</td></tr><tr><td>242</td><td>35</td></tr><tr><td>270</td><td>40</td></tr><tr><td>284</td><td>88</td></tr><tr><td>135</td><td>279</td></tr><tr><td>248</td><td>51</td></tr><tr><td>499</td><td>27</td></tr><tr><td>522</td><td>200</td></tr><tr><td>42</td><td>440</td></tr><tr><td>119</td><td>215</td></tr><tr><td>337</td><td>77</td></tr><tr><td>466</td><td>113</td></tr><tr><td>506</td><td>42</td></tr><tr><td>566</td><td>74</td></tr><tr><td>2</td><td>29</td></tr><tr><td>79</td><td>64</td></tr><tr><td>201</td><td>110</td></tr><tr><td>131</td><td>69</td></tr><tr><td>149</td><td>58</td></tr><tr><td>276</td><td>41</td></tr><tr><td>365</td><td>277</td></tr><tr><td>294</td><td>437</td></tr><tr><td>357</td><td>383</td></tr><tr><td>529</td><td>25</td></tr><tr><td>118</td><td>22</td></tr><tr><td>573</td><td>299</td></tr><tr><td>124</td><td>50</td></tr><tr><td>281</td><td>21</td></tr><tr><td>571</td><td>112</td></tr><tr><td>30</td><td>34</td></tr><tr><td>99</td><td>53</td></tr><tr><td>184</td><td>134</td></tr><tr><td>302</td><td>32</td></tr><tr><td>313</td><td>340</td></tr><tr><td>66</td><td>345</td></tr><tr><td>405</td><td>120</td></tr><tr><td>557</td><td>27</td></tr><tr><td>46</td><td>42</td></tr><tr><td>67</td><td>36</td></tr><tr><td>186</td><td>226</td></tr><tr><td>275</td><td>403</td></tr><tr><td>282</td><td>237</td></tr><tr><td>605</td><td>221</td></tr><tr><td>311</td><td>28</td></tr><tr><td>535</td><td>30</td></tr><tr><td>174</td><td>67</td></tr><tr><td>215</td><td>98</td></tr><tr><td>410</td><td>167</td></tr><tr><td>172</td><td>26</td></tr><tr><td>562</td><td>231</td></tr><tr><td>252</td><td>38</td></tr><tr><td>399</td><td>36</td></tr><tr><td>551</td><td>123</td></tr><tr><td>144</td><td>128</td></tr><tr><td>153</td><td>179</td></tr><tr><td>420</td><td>141</td></tr><tr><td>18</td><td>502</td></tr><tr><td>475</td><td>155</td></tr><tr><td>74</td><td>177</td></tr><tr><td>138</td><td>22</td></tr><tr><td>104</td><td>273</td></tr><tr><td>180</td><td>24</td></tr><tr><td>468</td><td>33</td></tr><tr><td>483</td><td>728</td></tr><tr><td>134</td><td>35</td></tr><tr><td>584</td><td>83</td></tr><tr><td>407</td><td>22</td></tr><tr><td>521</td><td>40</td></tr><tr><td>36</td><td>60</td></tr><tr><td>187</td><td>258</td></tr><tr><td>208</td><td>26</td></tr><tr><td>315</td><td>33</td></tr><tr><td>393</td><td>123</td></tr><tr><td>89</td><td>518</td></tr><tr><td>401</td><td>72</td></tr><tr><td>422</td><td>93</td></tr><tr><td>517</td><td>400</td></tr></tbody></table></div>"
      ]
     },
     "metadata": {
      "application/vnd.databricks.v1+output": {
       "addedWidgets": {},
       "aggData": [],
       "aggError": "",
       "aggOverflow": false,
       "aggSchema": [],
       "aggSeriesLimitReached": false,
       "aggType": "",
       "arguments": {},
       "columnCustomDisplayInfos": {},
       "data": [
        [
         148,
         48
        ],
        [
         463,
         33
        ],
        [
         471,
         28
        ],
        [
         496,
         29
        ],
        [
         243,
         36
        ],
        [
         392,
         25
        ],
        [
         540,
         42
        ],
        [
         31,
         50
        ],
        [
         516,
         26
        ],
        [
         85,
         34
        ],
        [
         137,
         141
        ],
        [
         251,
         23
        ],
        [
         451,
         34
        ],
        [
         580,
         436
        ],
        [
         65,
         34
        ],
        [
         458,
         59
        ],
        [
         53,
         20
        ],
        [
         255,
         44
        ],
        [
         481,
         31
        ],
        [
         588,
         56
        ],
        [
         133,
         35
        ],
        [
         296,
         27
        ],
        [
         472,
         29
        ],
        [
         78,
         61
        ],
        [
         322,
         107
        ],
        [
         513,
         32
        ],
        [
         321,
         56
        ],
        [
         362,
         109
        ],
        [
         375,
         33
        ],
        [
         593,
         103
        ],
        [
         597,
         443
        ],
        [
         108,
         76
        ],
        [
         155,
         46
        ],
        [
         34,
         86
        ],
        [
         193,
         35
        ],
        [
         211,
         89
        ],
        [
         368,
         469
        ],
        [
         530,
         27
        ],
        [
         101,
         61
        ],
        [
         115,
         112
        ],
        [
         126,
         38
        ],
        [
         81,
         26
        ],
        [
         385,
         201
        ],
        [
         28,
         570
        ],
        [
         183,
         57
        ],
        [
         210,
         138
        ],
        [
         436,
         106
        ],
        [
         497,
         51
        ],
        [
         596,
         411
        ],
        [
         300,
         32
        ],
        [
         406,
         20
        ],
        [
         412,
         102
        ],
        [
         587,
         165
        ],
        [
         76,
         119
        ],
        [
         26,
         21
        ],
        [
         27,
         135
        ],
        [
         332,
         267
        ],
        [
         501,
         45
        ],
        [
         577,
         161
        ],
        [
         384,
         70
        ],
        [
         44,
         48
        ],
        [
         159,
         97
        ],
        [
         192,
         22
        ],
        [
         271,
         43
        ],
        [
         606,
         1115
        ],
        [
         253,
         47
        ],
        [
         103,
         377
        ],
        [
         236,
         30
        ],
        [
         329,
         23
        ],
        [
         460,
         82
        ],
        [
         12,
         32
        ],
        [
         336,
         56
        ],
        [
         350,
         40
        ],
        [
         223,
         75
        ],
        [
         388,
         29
        ],
        [
         417,
         67
        ],
        [
         548,
         26
        ],
        [
         602,
         135
        ],
        [
         91,
         575
        ],
        [
         409,
         126
        ],
        [
         578,
         27
        ],
        [
         333,
         25
        ],
        [
         222,
         250
        ],
        [
         285,
         36
        ],
        [
         601,
         101
        ],
        [
         22,
         119
        ],
        [
         128,
         33
        ],
        [
         209,
         35
        ],
        [
         330,
         247
        ],
        [
         372,
         236
        ],
        [
         604,
         100
        ],
        [
         122,
         292
        ],
        [
         230,
         139
        ],
        [
         319,
         35
        ],
        [
         493,
         61
        ],
        [
         93,
         97
        ],
        [
         157,
         21
        ],
        [
         190,
         66
        ],
        [
         225,
         75
        ],
        [
         232,
         862
        ],
        [
         233,
         150
        ],
        [
         246,
         204
        ],
        [
         346,
         164
        ],
        [
         360,
         25
        ],
        [
         367,
         185
        ],
        [
         476,
         69
        ],
        [
         539,
         38
        ],
        [
         599,
         2478
        ],
        [
         111,
         646
        ],
        [
         224,
         54
        ],
        [
         519,
         26
        ],
        [
         47,
         140
        ],
        [
         140,
         608
        ],
        [
         177,
         904
        ],
        [
         416,
         51
        ],
        [
         556,
         32
        ],
        [
         132,
         347
        ],
        [
         152,
         63
        ],
        [
         444,
         42
        ],
        [
         185,
         47
        ],
        [
         305,
         677
        ],
        [
         353,
         90
        ],
        [
         355,
         26
        ],
        [
         291,
         31
        ],
        [
         325,
         270
        ],
        [
         386,
         68
        ],
        [
         435,
         42
        ],
        [
         473,
         37
        ],
        [
         581,
         40
        ],
        [
         603,
         943
        ],
        [
         146,
         32
        ],
        [
         259,
         29
        ],
        [
         512,
         50
        ],
        [
         1,
         232
        ],
        [
         206,
         25
        ],
        [
         52,
         130
        ],
        [
         297,
         72
        ],
        [
         363,
         30
        ],
        [
         212,
         248
        ],
        [
         274,
         1346
        ],
        [
         182,
         977
        ],
        [
         442,
         20
        ],
        [
         13,
         31
        ],
        [
         218,
         26
        ],
        [
         280,
         196
        ],
        [
         348,
         55
        ],
        [
         440,
         33
        ],
        [
         6,
         314
        ],
        [
         16,
         98
        ],
        [
         86,
         70
        ],
        [
         474,
         2108
        ],
        [
         168,
         94
        ],
        [
         205,
         27
        ],
        [
         572,
         155
        ],
        [
         3,
         39
        ],
        [
         142,
         38
        ],
        [
         178,
         77
        ],
        [
         308,
         115
        ],
        [
         328,
         255
        ],
        [
         20,
         242
        ],
        [
         40,
         103
        ],
        [
         164,
         36
        ],
        [
         429,
         58
        ],
        [
         470,
         80
        ],
        [
         169,
         269
        ],
        [
         500,
         86
        ],
        [
         139,
         194
        ],
        [
         283,
         35
        ],
        [
         359,
         74
        ],
        [
         479,
         181
        ],
        [
         295,
         41
        ],
        [
         340,
         28
        ],
        [
         431,
         20
        ],
        [
         94,
         56
        ],
        [
         250,
         27
        ],
        [
         377,
         131
        ],
        [
         402,
         48
        ],
        [
         432,
         260
        ],
        [
         582,
         56
        ],
        [
         57,
         476
        ],
        [
         570,
         191
        ],
        [
         292,
         446
        ],
        [
         306,
         112
        ],
        [
         339,
         371
        ],
        [
         54,
         33
        ],
        [
         120,
         22
        ],
        [
         559,
         140
        ],
        [
         491,
         64
        ],
        [
         96,
         78
        ],
        [
         235,
         65
        ],
        [
         545,
         23
        ],
        [
         452,
         202
        ],
        [
         48,
         33
        ],
        [
         266,
         180
        ],
        [
         507,
         21
        ],
        [
         544,
         22
        ],
        [
         5,
         44
        ],
        [
         163,
         23
        ],
        [
         191,
         85
        ],
        [
         268,
         129
        ],
        [
         258,
         25
        ],
        [
         279,
         176
        ],
        [
         19,
         703
        ],
        [
         397,
         23
        ],
        [
         430,
         58
        ],
        [
         92,
         24
        ],
        [
         419,
         155
        ],
        [
         542,
         113
        ],
        [
         553,
         83
        ],
        [
         560,
         458
        ],
        [
         415,
         94
        ],
        [
         257,
         20
        ],
        [
         299,
         23
        ],
        [
         64,
         517
        ],
        [
         117,
         165
        ],
        [
         227,
         94
        ],
        [
         579,
         73
        ],
        [
         504,
         87
        ],
        [
         554,
         89
        ],
        [
         598,
         21
        ],
        [
         41,
         217
        ],
        [
         154,
         34
        ],
        [
         309,
         103
        ],
        [
         425,
         306
        ],
        [
         347,
         45
        ],
        [
         447,
         78
        ],
        [
         455,
         57
        ],
        [
         484,
         275
        ],
        [
         607,
         187
        ],
        [
         15,
         135
        ],
        [
         43,
         114
        ],
        [
         262,
         57
        ],
        [
         511,
         52
        ],
        [
         112,
         65
        ],
        [
         269,
         29
        ],
        [
         327,
         48
        ],
        [
         563,
         213
        ],
        [
         165,
         65
        ],
        [
         358,
         41
        ],
        [
         366,
         31
        ],
        [
         179,
         69
        ],
        [
         189,
         20
        ],
        [
         207,
         20
        ],
        [
         489,
         648
        ],
        [
         590,
         728
        ],
        [
         37,
         21
        ],
        [
         383,
         34
        ],
        [
         61,
         39
        ],
        [
         127,
         22
        ],
        [
         316,
         53
        ],
        [
         461,
         27
        ],
        [
         502,
         35
        ],
        [
         523,
         75
        ],
        [
         88,
         56
        ],
        [
         197,
         35
        ],
        [
         486,
         56
        ],
        [
         531,
         22
        ],
        [
         318,
         879
        ],
        [
         462,
         455
        ],
        [
         547,
         21
        ],
        [
         107,
         34
        ],
        [
         202,
         403
        ],
        [
         263,
         210
        ],
        [
         374,
         33
        ],
        [
         564,
         157
        ],
        [
         9,
         46
        ],
        [
         17,
         105
        ],
        [
         231,
         24
        ],
        [
         552,
         188
        ],
        [
         324,
         21
        ],
        [
         586,
         208
        ],
        [
         609,
         37
        ],
        [
         72,
         45
        ],
        [
         286,
         106
        ],
        [
         398,
         46
        ],
        [
         505,
         31
        ],
        [
         538,
         37
        ],
        [
         175,
         24
        ],
        [
         387,
         1027
        ],
        [
         423,
         23
        ],
        [
         381,
         474
        ],
        [
         498,
         35
        ],
        [
         35,
         23
        ],
        [
         503,
         95
        ],
        [
         583,
         56
        ],
        [
         594,
         232
        ],
        [
         610,
         1302
        ],
        [
         310,
         64
        ],
        [
         485,
         23
        ],
        [
         568,
         23
        ],
        [
         196,
         32
        ],
        [
         437,
         122
        ],
        [
         456,
         43
        ],
        [
         217,
         613
        ],
        [
         290,
         267
        ],
        [
         441,
         45
        ],
        [
         229,
         65
        ],
        [
         307,
         975
        ],
        [
         326,
         152
        ],
        [
         537,
         47
        ],
        [
         114,
         31
        ],
        [
         173,
         25
        ],
        [
         220,
         207
        ],
        [
         278,
         20
        ],
        [
         301,
         114
        ],
        [
         494,
         22
        ],
        [
         4,
         216
        ],
        [
         55,
         25
        ],
        [
         59,
         107
        ],
        [
         445,
         77
        ],
        [
         8,
         47
        ],
        [
         100,
         148
        ],
        [
         241,
         76
        ],
        [
         449,
         38
        ],
        [
         450,
         51
        ],
        [
         495,
         265
        ],
        [
         161,
         39
        ],
        [
         555,
         578
        ],
        [
         23,
         121
        ],
        [
         39,
         100
        ],
        [
         49,
         21
        ],
        [
         176,
         36
        ],
        [
         380,
         1218
        ],
        [
         520,
         186
        ],
        [
         7,
         152
        ],
        [
         162,
         38
        ],
        [
         514,
         397
        ],
        [
         549,
         21
        ],
        [
         130,
         28
        ],
        [
         238,
         44
        ],
        [
         244,
         93
        ],
        [
         446,
         84
        ],
        [
         84,
         293
        ],
        [
         136,
         111
        ],
        [
         453,
         311
        ],
        [
         247,
         150
        ],
        [
         314,
         128
        ],
        [
         87,
         21
        ],
        [
         565,
         29
        ],
        [
         171,
         82
        ],
        [
         273,
         55
        ],
        [
         343,
         59
        ],
        [
         434,
         233
        ],
        [
         439,
         21
        ],
        [
         443,
         37
        ],
        [
         585,
         61
        ],
        [
         51,
         359
        ],
        [
         194,
         20
        ],
        [
         277,
         28
        ],
        [
         331,
         168
        ],
        [
         428,
         300
        ],
        [
         465,
         115
        ],
        [
         391,
         386
        ],
        [
         438,
         635
        ],
        [
         532,
         50
        ],
        [
         69,
         46
        ],
        [
         129,
         140
        ],
        [
         166,
         190
        ],
        [
         448,
         1864
        ],
        [
         467,
         22
        ],
        [
         97,
         36
        ],
        [
         400,
         43
        ],
        [
         543,
         76
        ],
        [
         524,
         131
        ],
        [
         533,
         38
        ],
        [
         234,
         202
        ],
        [
         239,
         279
        ],
        [
         264,
         56
        ],
        [
         312,
         223
        ],
        [
         389,
         34
        ],
        [
         63,
         271
        ],
        [
         395,
         61
        ],
        [
         403,
         34
        ],
        [
         459,
         26
        ],
        [
         509,
         467
        ],
        [
         10,
         140
        ],
        [
         77,
         29
        ],
        [
         102,
         56
        ],
        [
         361,
         97
        ],
        [
         589,
         40
        ],
        [
         50,
         310
        ],
        [
         518,
         24
        ],
        [
         267,
         57
        ],
        [
         293,
         21
        ],
        [
         404,
         60
        ],
        [
         527,
         167
        ],
        [
         45,
         399
        ],
        [
         569,
         20
        ],
        [
         216,
         164
        ],
        [
         38,
         78
        ],
        [
         261,
         53
        ],
        [
         320,
         20
        ],
        [
         418,
         93
        ],
        [
         82,
         227
        ],
        [
         181,
         118
        ],
        [
         249,
         1046
        ],
        [
         364,
         21
        ],
        [
         510,
         108
        ],
        [
         167,
         173
        ],
        [
         288,
         1055
        ],
        [
         394,
         23
        ],
        [
         576,
         20
        ],
        [
         80,
         167
        ],
        [
         240,
         128
        ],
        [
         289,
         24
        ],
        [
         356,
         289
        ],
        [
         25,
         26
        ],
        [
         73,
         210
        ],
        [
         245,
         21
        ],
        [
         427,
         84
        ],
        [
         591,
         54
        ],
        [
         113,
         150
        ],
        [
         237,
         50
        ],
        [
         24,
         110
        ],
        [
         160,
         437
        ],
        [
         70,
         62
        ],
        [
         408,
         141
        ],
        [
         62,
         366
        ],
        [
         121,
         58
        ],
        [
         125,
         360
        ],
        [
         396,
         28
        ],
        [
         156,
         398
        ],
        [
         351,
         141
        ],
        [
         480,
         836
        ],
        [
         143,
         71
        ],
        [
         219,
         528
        ],
        [
         95,
         168
        ],
        [
         411,
         127
        ],
        [
         477,
         600
        ],
        [
         482,
         128
        ],
        [
         29,
         81
        ],
        [
         226,
         507
        ],
        [
         390,
         81
        ],
        [
         464,
         138
        ],
        [
         526,
         58
        ],
        [
         528,
         73
        ],
        [
         558,
         56
        ],
        [
         21,
         443
        ],
        [
         214,
         22
        ],
        [
         323,
         98
        ],
        [
         550,
         28
        ],
        [
         335,
         28
        ],
        [
         338,
         39
        ],
        [
         352,
         294
        ],
        [
         492,
         121
        ],
        [
         98,
         92
        ],
        [
         195,
         187
        ],
        [
         256,
         174
        ],
        [
         287,
         152
        ],
        [
         345,
         62
        ],
        [
         490,
         113
        ],
        [
         595,
         20
        ],
        [
         32,
         102
        ],
        [
         60,
         22
        ],
        [
         90,
         54
        ],
        [
         371,
         41
        ],
        [
         75,
         69
        ],
        [
         382,
         291
        ],
        [
         469,
         465
        ],
        [
         203,
         45
        ],
        [
         221,
         331
        ],
        [
         265,
         163
        ],
        [
         457,
         50
        ],
        [
         141,
         168
        ],
        [
         151,
         59
        ],
        [
         341,
         52
        ],
        [
         414,
         2698
        ],
        [
         433,
         22
        ],
        [
         608,
         831
        ],
        [
         334,
         154
        ],
        [
         592,
         94
        ],
        [
         145,
         23
        ],
        [
         200,
         334
        ],
        [
         272,
         31
        ],
        [
         376,
         133
        ],
        [
         488,
         111
        ],
        [
         515,
         26
        ],
        [
         56,
         46
        ],
        [
         109,
         127
        ],
        [
         254,
         127
        ],
        [
         378,
         48
        ],
        [
         487,
         56
        ],
        [
         213,
         84
        ],
        [
         228,
         25
        ],
        [
         478,
         22
        ],
        [
         534,
         520
        ],
        [
         303,
         53
        ],
        [
         426,
         88
        ],
        [
         574,
         23
        ],
        [
         170,
         50
        ],
        [
         354,
         226
        ],
        [
         304,
         216
        ],
        [
         536,
         40
        ],
        [
         105,
         722
        ],
        [
         298,
         939
        ],
        [
         370,
         93
        ],
        [
         58,
         112
        ],
        [
         188,
         48
        ],
        [
         11,
         64
        ],
        [
         33,
         156
        ],
        [
         204,
         83
        ],
        [
         421,
         37
        ],
        [
         575,
         36
        ],
        [
         83,
         118
        ],
        [
         110,
         51
        ],
        [
         150,
         26
        ],
        [
         369,
         129
        ],
        [
         413,
         56
        ],
        [
         508,
         24
        ],
        [
         541,
         87
        ],
        [
         68,
         1260
        ],
        [
         71,
         35
        ],
        [
         106,
         33
        ],
        [
         260,
         152
        ],
        [
         567,
         385
        ],
        [
         525,
         500
        ],
        [
         561,
         505
        ],
        [
         116,
         87
        ],
        [
         147,
         20
        ],
        [
         14,
         48
        ],
        [
         198,
         230
        ],
        [
         317,
         189
        ],
        [
         546,
         64
        ],
        [
         600,
         763
        ],
        [
         344,
         69
        ],
        [
         349,
         37
        ],
        [
         424,
         138
        ],
        [
         123,
         56
        ],
        [
         342,
         66
        ],
        [
         373,
         100
        ],
        [
         379,
         36
        ],
        [
         454,
         45
        ],
        [
         158,
         26
        ],
        [
         199,
         363
        ],
        [
         242,
         35
        ],
        [
         270,
         40
        ],
        [
         284,
         88
        ],
        [
         135,
         279
        ],
        [
         248,
         51
        ],
        [
         499,
         27
        ],
        [
         522,
         200
        ],
        [
         42,
         440
        ],
        [
         119,
         215
        ],
        [
         337,
         77
        ],
        [
         466,
         113
        ],
        [
         506,
         42
        ],
        [
         566,
         74
        ],
        [
         2,
         29
        ],
        [
         79,
         64
        ],
        [
         201,
         110
        ],
        [
         131,
         69
        ],
        [
         149,
         58
        ],
        [
         276,
         41
        ],
        [
         365,
         277
        ],
        [
         294,
         437
        ],
        [
         357,
         383
        ],
        [
         529,
         25
        ],
        [
         118,
         22
        ],
        [
         573,
         299
        ],
        [
         124,
         50
        ],
        [
         281,
         21
        ],
        [
         571,
         112
        ],
        [
         30,
         34
        ],
        [
         99,
         53
        ],
        [
         184,
         134
        ],
        [
         302,
         32
        ],
        [
         313,
         340
        ],
        [
         66,
         345
        ],
        [
         405,
         120
        ],
        [
         557,
         27
        ],
        [
         46,
         42
        ],
        [
         67,
         36
        ],
        [
         186,
         226
        ],
        [
         275,
         403
        ],
        [
         282,
         237
        ],
        [
         605,
         221
        ],
        [
         311,
         28
        ],
        [
         535,
         30
        ],
        [
         174,
         67
        ],
        [
         215,
         98
        ],
        [
         410,
         167
        ],
        [
         172,
         26
        ],
        [
         562,
         231
        ],
        [
         252,
         38
        ],
        [
         399,
         36
        ],
        [
         551,
         123
        ],
        [
         144,
         128
        ],
        [
         153,
         179
        ],
        [
         420,
         141
        ],
        [
         18,
         502
        ],
        [
         475,
         155
        ],
        [
         74,
         177
        ],
        [
         138,
         22
        ],
        [
         104,
         273
        ],
        [
         180,
         24
        ],
        [
         468,
         33
        ],
        [
         483,
         728
        ],
        [
         134,
         35
        ],
        [
         584,
         83
        ],
        [
         407,
         22
        ],
        [
         521,
         40
        ],
        [
         36,
         60
        ],
        [
         187,
         258
        ],
        [
         208,
         26
        ],
        [
         315,
         33
        ],
        [
         393,
         123
        ],
        [
         89,
         518
        ],
        [
         401,
         72
        ],
        [
         422,
         93
        ],
        [
         517,
         400
        ]
       ],
       "datasetInfos": [],
       "dbfsResultPath": null,
       "isJsonSchema": true,
       "metadata": {},
       "overflow": false,
       "plotOptions": {
        "customPlotOptions": {},
        "displayType": "table",
        "pivotAggregation": null,
        "pivotColumns": null,
        "xColumns": null,
        "yColumns": null
       },
       "removedWidgets": [],
       "schema": [
        {
         "metadata": "{}",
         "name": "userId",
         "type": "\"integer\""
        },
        {
         "metadata": "{}",
         "name": "count",
         "type": "\"long\""
        }
       ],
       "type": "table"
      }
     },
     "output_type": "display_data"
    },
    {
     "output_type": "display_data",
     "data": {
      "text/plain": [
       "Databricks visualization. Run in Databricks to view."
      ]
     },
     "metadata": {
      "application/vnd.databricks.v1.subcommand+json": {
       "baseErrorDetails": null,
       "bindings": {},
       "collapsed": false,
       "command": "%python\n__backend_agg_display_orig = display\n__backend_agg_dfs = []\ndef __backend_agg_display_new(df):\n    __backend_agg_df_modules = [\"pandas.core.frame\", \"databricks.koalas.frame\", \"pyspark.sql.dataframe\", \"pyspark.pandas.frame\", \"pyspark.sql.connect.dataframe\"]\n    if (type(df).__module__ in __backend_agg_df_modules and type(df).__name__ == 'DataFrame') or isinstance(df, list):\n        __backend_agg_dfs.append(df)\n\ndisplay = __backend_agg_display_new\n\ndef __backend_agg_user_code_fn():\n    import base64\n    exec(base64.standard_b64decode(\"cmF0aW5ncy5ncm91cEJ5KCJ1c2VySWQiKS5jb3VudCgpLmRpc3BsYXkoKQ==\").decode())\n\ntry:\n    # run user code\n    __backend_agg_user_code_fn()\n\n    #reset display function\n    display = __backend_agg_display_orig\n\n    if len(__backend_agg_dfs) > 0:\n        # create a temp view\n        if type(__backend_agg_dfs[0]).__module__ == \"databricks.koalas.frame\":\n            # koalas dataframe\n            __backend_agg_dfs[0].to_spark().createOrReplaceTempView(\"DatabricksViewe65cf85\")\n        elif type(__backend_agg_dfs[0]).__module__ == \"pandas.core.frame\" or isinstance(__backend_agg_dfs[0], list):\n            # pandas dataframe\n            spark.createDataFrame(__backend_agg_dfs[0]).createOrReplaceTempView(\"DatabricksViewe65cf85\")\n        else:\n            __backend_agg_dfs[0].createOrReplaceTempView(\"DatabricksViewe65cf85\")\n        #run backend agg\n        display(spark.sql(\"\"\"WITH q AS (select * from DatabricksViewe65cf85) ,min_max AS (SELECT `count`,(SELECT MAX(`count`) FROM q) `target_column_max`,(SELECT MIN(`count`) FROM q) `target_column_min` FROM q) ,histogram_meta AS (SELECT `count`,`target_column_min` `min_value`,IF(`target_column_max` = `target_column_min`,`target_column_max` + 1,`target_column_max`) `max_value`,(`target_column_max` - `target_column_min`) / 10 `step` FROM min_max) SELECT IF(ISNULL(`count`),NULL,LEAST(WIDTH_BUCKET(`count`,`min_value`,`max_value`,10),10)) `count_BIN`,FIRST(`min_value` + ((IF(ISNULL(`count`),NULL,LEAST(WIDTH_BUCKET(`count`,`min_value`,`max_value`,10),10)) - 1) * `step`)) `count_BIN_LOWER_BOUND`,FIRST(`step`) `count_BIN_STEP`,COUNT(`count`) `COUNT` FROM histogram_meta GROUP BY `count_BIN`\"\"\"))\n    else:\n        displayHTML(\"dataframe no longer exists. If you're using dataframe.display(), use display(dataframe) instead.\")\n\n\nfinally:\n    spark.sql(\"drop view if exists DatabricksViewe65cf85\")\n    display = __backend_agg_display_orig\n    del __backend_agg_display_new\n    del __backend_agg_display_orig\n    del __backend_agg_dfs\n    del __backend_agg_user_code_fn\n\n",
       "commandTitle": "Visualization 1",
       "commandType": "auto",
       "commandVersion": 0,
       "commentThread": [],
       "commentsVisible": false,
       "contentSha256Hex": null,
       "customPlotOptions": {
        "redashChart": [
         {
          "key": "type",
          "value": "CHART"
         },
         {
          "key": "options",
          "value": {
           "alignYAxesAtZero": true,
           "coefficient": 1,
           "columnConfigurationMap": {
            "x": {
             "column": "count",
             "id": "column_7b539f3b48"
            }
           },
           "dateTimeFormat": "DD/MM/YYYY HH:mm",
           "direction": {
            "type": "counterclockwise"
           },
           "error_y": {
            "type": "data",
            "visible": true
           },
           "globalSeriesType": "histogram",
           "isAggregationOn": true,
           "legend": {
            "traceorder": "normal"
           },
           "missingValuesAsZero": true,
           "numBins": 10,
           "numberFormat": "0,0.[00000]",
           "percentFormat": "0[.]00%",
           "series": {
            "error_y": {
             "type": "data",
             "visible": true
            },
            "stacking": null
           },
           "seriesOptions": {
            "column_7b539f3b47": {
             "name": "count",
             "type": "histogram",
             "yAxis": 0
            }
           },
           "showDataLabels": false,
           "sizemode": "diameter",
           "sortX": true,
           "sortY": true,
           "swappedAxes": false,
           "textFormat": "",
           "useAggregationsUi": true,
           "valuesOptions": {},
           "version": 2,
           "xAxis": {
            "labels": {
             "enabled": true
            },
            "type": "-"
           },
           "yAxis": [
            {
             "type": "-"
            },
            {
             "opposite": true,
             "type": "-"
            }
           ]
          }
         }
        ]
       },
       "datasetPreviewNameToCmdIdMap": {},
       "diffDeletes": [],
       "diffInserts": [],
       "displayType": "redashChart",
       "error": null,
       "errorDetails": null,
       "errorSummary": null,
       "errorTraceType": null,
       "finishTime": 0,
       "globalVars": {},
       "guid": "",
       "height": "auto",
       "hideCommandCode": false,
       "hideCommandResult": false,
       "iPythonMetadata": null,
       "inputWidgets": {},
       "isLockedInExamMode": false,
       "latestUser": "a user",
       "latestUserId": null,
       "listResultMetadata": null,
       "metadata": {},
       "nuid": "ee3365c2-465a-4e36-918e-3b991f8e2a70",
       "origId": 0,
       "parentHierarchy": [],
       "pivotAggregation": null,
       "pivotColumns": null,
       "position": 13.0,
       "resultDbfsErrorMessage": null,
       "resultDbfsStatus": "INLINED_IN_TREE",
       "results": null,
       "showCommandTitle": false,
       "startTime": 0,
       "state": "input",
       "streamStates": {},
       "subcommandOptions": {
        "queryPlan": {
         "groups": [
          {
           "column": "count_BIN",
           "type": "column"
          }
         ],
         "selects": [
          {
           "alias": "count_BIN",
           "args": [
            {
             "column": "count",
             "type": "column"
            },
            {
             "number": 10,
             "type": "number"
            }
           ],
           "function": "BIN",
           "type": "function"
          },
          {
           "alias": "count_BIN_LOWER_BOUND",
           "args": [
            {
             "column": "count",
             "type": "column"
            },
            {
             "number": 10,
             "type": "number"
            }
           ],
           "function": "BIN_LOWER_BOUND",
           "type": "function"
          },
          {
           "alias": "count_BIN_STEP",
           "args": [
            {
             "column": "count",
             "type": "column"
            },
            {
             "number": 10,
             "type": "number"
            }
           ],
           "function": "BIN_STEP",
           "type": "function"
          },
          {
           "alias": "COUNT",
           "args": [
            {
             "column": "count",
             "type": "column"
            }
           ],
           "function": "COUNT",
           "type": "function"
          }
         ]
        }
       },
       "submitTime": 0,
       "subtype": "tableResultSubCmd.visualization",
       "tableResultIndex": 0,
       "tableResultSettingsMap": {},
       "useConsistentColors": false,
       "version": "CommandV1",
       "width": "auto",
       "workflows": [],
       "xColumns": null,
       "yColumns": null
      }
     },
     "output_type": "display_data"
    }
   ],
   "source": [
    "ratings.groupBy(\"userId\").count().display()"
   ]
  },
  {
   "cell_type": "code",
   "execution_count": 0,
   "metadata": {
    "application/vnd.databricks.v1+cell": {
     "cellMetadata": {
      "byteLimit": 2048000,
      "rowLimit": 10000
     },
     "inputWidgets": {},
     "nuid": "87ddb410-639e-40fe-82f6-f622fd55f623",
     "showTitle": false,
     "tableResultSettingsMap": {},
     "title": ""
    }
   },
   "outputs": [
    {
     "output_type": "stream",
     "name": "stdout",
     "output_type": "stream",
     "text": [
      "+-------+--------------------+-----+\n|movieId|               title|count|\n+-------+--------------------+-----+\n|    356| Forrest Gump (1994)|  329|\n|    318|Shawshank Redempt...|  317|\n|    296| Pulp Fiction (1994)|  307|\n|    593|Silence of the La...|  279|\n|   2571|  Matrix, The (1999)|  278|\n|    260|Star Wars: Episod...|  251|\n|    480|Jurassic Park (1993)|  238|\n|    110|   Braveheart (1995)|  237|\n|    589|Terminator 2: Jud...|  224|\n|    527|Schindler's List ...|  220|\n+-------+--------------------+-----+\n\n"
     ]
    }
   ],
   "source": [
    "ratings.createOrReplaceTempView(\"ratings_table\")\n",
    "\n",
    "spark.sql(\"\"\"\n",
    "    SELECT userId, COUNT(*) AS count\n",
    "    FROM ratings_table\n",
    "    GROUP BY userId\n",
    "\"\"\").show()\n"
   ]
  },
  {
   "cell_type": "markdown",
   "metadata": {
    "application/vnd.databricks.v1+cell": {
     "cellMetadata": {},
     "inputWidgets": {},
     "nuid": "e8e8038c-206a-4845-9ba8-87f4f1b07eaa",
     "showTitle": false,
     "tableResultSettingsMap": {},
     "title": ""
    }
   },
   "source": [
    "### Challenge 2"
   ]
  },
  {
   "cell_type": "code",
   "execution_count": 0,
   "metadata": {
    "application/vnd.databricks.v1+cell": {
     "cellMetadata": {
      "byteLimit": 2048000,
      "rowLimit": 10000
     },
     "inputWidgets": {},
     "nuid": "bfc22c36-4e56-4d10-a3d9-71133ac97c03",
     "showTitle": false,
     "tableResultSettingsMap": {},
     "title": ""
    }
   },
   "outputs": [
    {
     "output_type": "display_data",
     "data": {
      "text/html": [
       "<style scoped>\n",
       "  .table-result-container {\n",
       "    max-height: 300px;\n",
       "    overflow: auto;\n",
       "  }\n",
       "  table, th, td {\n",
       "    border: 1px solid black;\n",
       "    border-collapse: collapse;\n",
       "  }\n",
       "  th, td {\n",
       "    padding: 5px;\n",
       "  }\n",
       "  th {\n",
       "    text-align: left;\n",
       "  }\n",
       "</style><div class='table-result-container'><table class='table-result'><thead style='background-color: white'><tr><th>movieId</th><th>count</th><th>title</th><th>genres</th></tr></thead><tbody><tr><td>356</td><td>329</td><td>Forrest Gump (1994)</td><td>Comedy|Drama|Romance|War</td></tr><tr><td>318</td><td>317</td><td>Shawshank Redemption, The (1994)</td><td>Crime|Drama</td></tr><tr><td>296</td><td>307</td><td>Pulp Fiction (1994)</td><td>Comedy|Crime|Drama|Thriller</td></tr><tr><td>593</td><td>279</td><td>Silence of the Lambs, The (1991)</td><td>Crime|Horror|Thriller</td></tr><tr><td>2571</td><td>278</td><td>Matrix, The (1999)</td><td>Action|Sci-Fi|Thriller</td></tr><tr><td>260</td><td>251</td><td>Star Wars: Episode IV - A New Hope (1977)</td><td>Action|Adventure|Sci-Fi</td></tr><tr><td>480</td><td>238</td><td>Jurassic Park (1993)</td><td>Action|Adventure|Sci-Fi|Thriller</td></tr><tr><td>110</td><td>237</td><td>Braveheart (1995)</td><td>Action|Drama|War</td></tr><tr><td>589</td><td>224</td><td>Terminator 2: Judgment Day (1991)</td><td>Action|Sci-Fi</td></tr><tr><td>527</td><td>220</td><td>Schindler's List (1993)</td><td>Drama|War</td></tr></tbody></table></div>"
      ]
     },
     "metadata": {
      "application/vnd.databricks.v1+output": {
       "addedWidgets": {},
       "aggData": [],
       "aggError": "",
       "aggOverflow": false,
       "aggSchema": [],
       "aggSeriesLimitReached": false,
       "aggType": "",
       "arguments": {},
       "columnCustomDisplayInfos": {},
       "data": [
        [
         356,
         329,
         "Forrest Gump (1994)",
         "Comedy|Drama|Romance|War"
        ],
        [
         318,
         317,
         "Shawshank Redemption, The (1994)",
         "Crime|Drama"
        ],
        [
         296,
         307,
         "Pulp Fiction (1994)",
         "Comedy|Crime|Drama|Thriller"
        ],
        [
         593,
         279,
         "Silence of the Lambs, The (1991)",
         "Crime|Horror|Thriller"
        ],
        [
         2571,
         278,
         "Matrix, The (1999)",
         "Action|Sci-Fi|Thriller"
        ],
        [
         260,
         251,
         "Star Wars: Episode IV - A New Hope (1977)",
         "Action|Adventure|Sci-Fi"
        ],
        [
         480,
         238,
         "Jurassic Park (1993)",
         "Action|Adventure|Sci-Fi|Thriller"
        ],
        [
         110,
         237,
         "Braveheart (1995)",
         "Action|Drama|War"
        ],
        [
         589,
         224,
         "Terminator 2: Judgment Day (1991)",
         "Action|Sci-Fi"
        ],
        [
         527,
         220,
         "Schindler's List (1993)",
         "Drama|War"
        ]
       ],
       "datasetInfos": [],
       "dbfsResultPath": null,
       "isJsonSchema": true,
       "metadata": {},
       "overflow": false,
       "plotOptions": {
        "customPlotOptions": {},
        "displayType": "table",
        "pivotAggregation": null,
        "pivotColumns": null,
        "xColumns": null,
        "yColumns": null
       },
       "removedWidgets": [],
       "schema": [
        {
         "metadata": "{}",
         "name": "movieId",
         "type": "\"integer\""
        },
        {
         "metadata": "{}",
         "name": "count",
         "type": "\"long\""
        },
        {
         "metadata": "{}",
         "name": "title",
         "type": "\"string\""
        },
        {
         "metadata": "{}",
         "name": "genres",
         "type": "\"string\""
        }
       ],
       "type": "table"
      }
     },
     "output_type": "display_data"
    },
    {
     "output_type": "display_data",
     "data": {
      "text/plain": [
       "Databricks visualization. Run in Databricks to view."
      ]
     },
     "metadata": {
      "application/vnd.databricks.v1.subcommand+json": {
       "baseErrorDetails": null,
       "bindings": {},
       "collapsed": false,
       "command": "%python\n__backend_agg_display_orig = display\n__backend_agg_dfs = []\ndef __backend_agg_display_new(df):\n    __backend_agg_df_modules = [\"pandas.core.frame\", \"databricks.koalas.frame\", \"pyspark.sql.dataframe\", \"pyspark.pandas.frame\", \"pyspark.sql.connect.dataframe\"]\n    if (type(df).__module__ in __backend_agg_df_modules and type(df).__name__ == 'DataFrame') or isinstance(df, list):\n        __backend_agg_dfs.append(df)\n\ndisplay = __backend_agg_display_new\n\ndef __backend_agg_user_code_fn():\n    import base64\n    exec(base64.standard_b64decode(\"cmF0aW5ncy5ncm91cEJ5KCJtb3ZpZUlkIikuY291bnQoKS5qb2luKG1vdmllcyAsIFsibW92aWVJZCJdKS5vcmRlckJ5KCJjb3VudCIgLCAgYXNjZW5kaW5nID0gIEZhbHNlKS5saW1pdCgxMCkuZGlzcGxheSgp\").decode())\n\ntry:\n    # run user code\n    __backend_agg_user_code_fn()\n\n    #reset display function\n    display = __backend_agg_display_orig\n\n    if len(__backend_agg_dfs) > 0:\n        # create a temp view\n        if type(__backend_agg_dfs[0]).__module__ == \"databricks.koalas.frame\":\n            # koalas dataframe\n            __backend_agg_dfs[0].to_spark().createOrReplaceTempView(\"DatabricksViewd0a349c\")\n        elif type(__backend_agg_dfs[0]).__module__ == \"pandas.core.frame\" or isinstance(__backend_agg_dfs[0], list):\n            # pandas dataframe\n            spark.createDataFrame(__backend_agg_dfs[0]).createOrReplaceTempView(\"DatabricksViewd0a349c\")\n        else:\n            __backend_agg_dfs[0].createOrReplaceTempView(\"DatabricksViewd0a349c\")\n        #run backend agg\n        display(spark.sql(\"\"\"WITH q AS (select * from DatabricksViewd0a349c) SELECT `movieId`,SUM(`count`) `column_7b539f3b52`,`movieId` FROM q GROUP BY `movieId`\"\"\"))\n    else:\n        displayHTML(\"dataframe no longer exists. If you're using dataframe.display(), use display(dataframe) instead.\")\n\n\nfinally:\n    spark.sql(\"drop view if exists DatabricksViewd0a349c\")\n    display = __backend_agg_display_orig\n    del __backend_agg_display_new\n    del __backend_agg_display_orig\n    del __backend_agg_dfs\n    del __backend_agg_user_code_fn\n\n",
       "commandTitle": "Visualization 1",
       "commandType": "auto",
       "commandVersion": 0,
       "commentThread": [],
       "commentsVisible": false,
       "contentSha256Hex": null,
       "customPlotOptions": {
        "redashChart": [
         {
          "key": "type",
          "value": "CHART"
         },
         {
          "key": "options",
          "value": {
           "alignYAxesAtZero": true,
           "coefficient": 1,
           "columnConfigurationMap": {
            "series": {
             "column": "movieId",
             "id": "column_7b539f3b54"
            },
            "x": {
             "column": "movieId",
             "id": "column_7b539f3b49"
            },
            "y": [
             {
              "column": "count",
              "id": "column_7b539f3b52",
              "transform": "SUM"
             }
            ]
           },
           "dateTimeFormat": "DD/MM/YYYY HH:mm",
           "direction": {
            "type": "counterclockwise"
           },
           "error_y": {
            "type": "data",
            "visible": true
           },
           "globalSeriesType": "column",
           "isAggregationOn": true,
           "legend": {
            "traceorder": "normal"
           },
           "missingValuesAsZero": true,
           "numberFormat": "0,0.[00000]",
           "percentFormat": "0[.]00%",
           "series": {
            "error_y": {
             "type": "data",
             "visible": true
            },
            "stacking": null
           },
           "seriesOptions": {
            "column_7b539f3b52": {
             "type": "column",
             "yAxis": 0
            }
           },
           "showDataLabels": false,
           "sizemode": "diameter",
           "sortX": true,
           "sortY": true,
           "swappedAxes": true,
           "textFormat": "",
           "useAggregationsUi": true,
           "valuesOptions": {},
           "version": 2,
           "xAxis": {
            "labels": {
             "enabled": true
            },
            "type": "-"
           },
           "yAxis": [
            {
             "type": "-"
            },
            {
             "opposite": true,
             "type": "-"
            }
           ]
          }
         }
        ]
       },
       "datasetPreviewNameToCmdIdMap": {},
       "diffDeletes": [],
       "diffInserts": [],
       "displayType": "redashChart",
       "error": null,
       "errorDetails": null,
       "errorSummary": null,
       "errorTraceType": null,
       "finishTime": 0,
       "globalVars": {},
       "guid": "",
       "height": "auto",
       "hideCommandCode": false,
       "hideCommandResult": false,
       "iPythonMetadata": null,
       "inputWidgets": {},
       "isLockedInExamMode": false,
       "latestUser": "a user",
       "latestUserId": null,
       "listResultMetadata": null,
       "metadata": {},
       "nuid": "19b8c71a-67ad-4ddd-833f-b57abb0f2d9d",
       "origId": 0,
       "parentHierarchy": [],
       "pivotAggregation": null,
       "pivotColumns": null,
       "position": 14.0,
       "resultDbfsErrorMessage": null,
       "resultDbfsStatus": "INLINED_IN_TREE",
       "results": null,
       "showCommandTitle": false,
       "startTime": 0,
       "state": "input",
       "streamStates": {},
       "subcommandOptions": {
        "queryPlan": {
         "groups": [
          {
           "column": "movieId",
           "type": "column"
          },
          {
           "column": "movieId",
           "type": "column"
          }
         ],
         "selects": [
          {
           "column": "movieId",
           "type": "column"
          },
          {
           "alias": "column_7b539f3b52",
           "args": [
            {
             "column": "count",
             "type": "column"
            }
           ],
           "function": "SUM",
           "type": "function"
          },
          {
           "column": "movieId",
           "type": "column"
          }
         ]
        }
       },
       "submitTime": 0,
       "subtype": "tableResultSubCmd.visualization",
       "tableResultIndex": 0,
       "tableResultSettingsMap": {},
       "useConsistentColors": false,
       "version": "CommandV1",
       "width": "auto",
       "workflows": [],
       "xColumns": null,
       "yColumns": null
      }
     },
     "output_type": "display_data"
    }
   ],
   "source": [
    "ratings.groupBy(\"movieId\").count().join(movies , [\"movieId\"]).orderBy(\"count\" ,  ascending =  False).limit(10).display()"
   ]
  },
  {
   "cell_type": "code",
   "execution_count": 0,
   "metadata": {
    "application/vnd.databricks.v1+cell": {
     "cellMetadata": {
      "byteLimit": 2048000,
      "implicitDf": true,
      "rowLimit": 10000
     },
     "inputWidgets": {},
     "nuid": "38a4ffe0-e9c2-410a-8ec5-31728abb1a9c",
     "showTitle": false,
     "tableResultSettingsMap": {},
     "title": ""
    }
   },
   "outputs": [
    {
     "output_type": "stream",
     "name": "stdout",
     "output_type": "stream",
     "text": [
      "+-------+--------------------+-----+\n|movieId|               title|count|\n+-------+--------------------+-----+\n|    356| Forrest Gump (1994)|  329|\n|    318|Shawshank Redempt...|  317|\n|    296| Pulp Fiction (1994)|  307|\n|    593|Silence of the La...|  279|\n|   2571|  Matrix, The (1999)|  278|\n|    260|Star Wars: Episod...|  251|\n|    480|Jurassic Park (1993)|  238|\n|    110|   Braveheart (1995)|  237|\n|    589|Terminator 2: Jud...|  224|\n|    527|Schindler's List ...|  220|\n+-------+--------------------+-----+\n\n"
     ]
    }
   ],
   "source": [
    "ratings.createOrReplaceTempView(\"ratings_table\")\n",
    "movies.createOrReplaceTempView(\"movies_table\")\n",
    "\n",
    "spark.sql(\"\"\"\n",
    "    SELECT m.movieId, m.title, COUNT(r.movieId) AS count\n",
    "    FROM ratings_table r\n",
    "    JOIN movies_table m ON r.movieId = m.movieId\n",
    "    GROUP BY m.movieId, m.title\n",
    "    ORDER BY count DESC\n",
    "    LIMIT 10\n",
    "\"\"\").show()"
   ]
  },
  {
   "cell_type": "code",
   "execution_count": 0,
   "metadata": {
    "application/vnd.databricks.v1+cell": {
     "cellMetadata": {
      "byteLimit": 2048000,
      "rowLimit": 10000
     },
     "inputWidgets": {},
     "nuid": "16cf1cc7-0fcb-47f6-b50f-4805fb5cd233",
     "showTitle": false,
     "tableResultSettingsMap": {},
     "title": ""
    }
   },
   "outputs": [],
   "source": [
    "(training ,  test) =  ratings.randomSplit([0.75 , 0.25], seed= 100)\n",
    "\n",
    "training = training.unionAll(myratings)"
   ]
  },
  {
   "cell_type": "code",
   "execution_count": 0,
   "metadata": {
    "application/vnd.databricks.v1+cell": {
     "cellMetadata": {
      "byteLimit": 2048000,
      "rowLimit": 10000
     },
     "inputWidgets": {},
     "nuid": "0e59de13-4a0a-472b-a5b4-8aacdc6429a1",
     "showTitle": false,
     "tableResultSettingsMap": {},
     "title": ""
    }
   },
   "outputs": [
    {
     "output_type": "stream",
     "name": "stderr",
     "output_type": "stream",
     "text": [
      "2025/03/07 11:31:12 INFO mlflow.utils.autologging_utils: Created MLflow autologging run with ID '308c70a4cae542d7bf55634299c29a92', which will track hyperparameters, performance metrics, model artifacts, and lineage information for the current pyspark.ml workflow\n2025/03/07 11:31:27 WARNING mlflow.pyspark.ml: Model ALS_bc2c6390eb3b will not be autologged because it is not allowlisted or or because one or more of its nested models are not allowlisted. Call mlflow.spark.log_model() to explicitly log the model, or specify a custom allowlist via the spark.mlflow.pysparkml.autolog.logModelAllowlistFile Spark conf (see mlflow.pyspark.ml.autolog docs for more info).\n"
     ]
    }
   ],
   "source": [
    "from pyspark.ml.recommendation import ALS\n",
    "\n",
    "als =  ALS(maxIter  = 5 , regParam = 0.01 , userCol = \"userId\" , itemCol = \"movieId\" , ratingCol = \"rating\", seed = 100)\n",
    "model =  als.fit(training)"
   ]
  },
  {
   "cell_type": "code",
   "execution_count": 0,
   "metadata": {
    "application/vnd.databricks.v1+cell": {
     "cellMetadata": {
      "byteLimit": 2048000,
      "rowLimit": 10000
     },
     "inputWidgets": {},
     "nuid": "de54c03a-ab21-46b8-a1f5-e839403cbc81",
     "showTitle": false,
     "tableResultSettingsMap": {},
     "title": ""
    }
   },
   "outputs": [
    {
     "output_type": "stream",
     "name": "stdout",
     "output_type": "stream",
     "text": [
      "+------+-------+------+----------+\n|userId|movieId|rating|prediction|\n+------+-------+------+----------+\n|   148|   4886|   3.0| 3.7924225|\n|   148|   5816|   4.0| 3.9140222|\n|   148|   6377|   3.0| 3.9566305|\n|   148|   8368|   4.0| 3.5096753|\n|   148|  40629|   5.0|  1.349662|\n|   148|  60069|   4.5| 3.0150168|\n|   148|  79702|   4.0| 2.2676785|\n|   148|  81847|   4.5| 3.9366648|\n|   148|  89745|   4.0| 2.1695461|\n|   148|  98491|   5.0|  2.320372|\n|   148| 108932|   4.0|  4.257853|\n|   148| 116797|   4.5| 3.7047725|\n|   148| 157296|   3.0|  6.107676|\n|   463|    296|   4.0|  4.667303|\n|   463|    520|   4.0| 3.3463566|\n|   463|    527|   4.0| 4.4689436|\n|   463|   1088|   3.5|  2.055465|\n|   463|   1221|   4.5| 4.8817286|\n|   463|   2019|   4.0|   5.24032|\n|   463|   2167|   3.0| 4.9947715|\n+------+-------+------+----------+\nonly showing top 20 rows\n\n"
     ]
    }
   ],
   "source": [
    "predictions = model.transform(test).dropna()\n",
    "\n",
    "predictions.show()"
   ]
  },
  {
   "cell_type": "code",
   "execution_count": 0,
   "metadata": {
    "application/vnd.databricks.v1+cell": {
     "cellMetadata": {
      "byteLimit": 2048000,
      "rowLimit": 10000
     },
     "inputWidgets": {},
     "nuid": "172715de-32ee-4b58-9fe3-20ae2dfe5a43",
     "showTitle": false,
     "tableResultSettingsMap": {},
     "title": ""
    }
   },
   "outputs": [
    {
     "output_type": "stream",
     "name": "stdout",
     "output_type": "stream",
     "text": [
      "Root Mean Square Error is 1.10364\n"
     ]
    }
   ],
   "source": [
    "from pyspark.ml.evaluation import RegressionEvaluator\n",
    "\n",
    "evaluator = RegressionEvaluator(metricName = \"rmse\", labelCol = \"rating\", predictionCol = \"prediction\")\n",
    "\n",
    "rmse = evaluator.evaluate(predictions)\n",
    "\n",
    "print('Root Mean Square Error is %g' %rmse)"
   ]
  },
  {
   "cell_type": "code",
   "execution_count": 0,
   "metadata": {
    "application/vnd.databricks.v1+cell": {
     "cellMetadata": {
      "byteLimit": 2048000,
      "rowLimit": 10000
     },
     "inputWidgets": {},
     "nuid": "2249ee8d-4f61-4214-9cef-eb8b5063bca7",
     "showTitle": false,
     "tableResultSettingsMap": {},
     "title": ""
    }
   },
   "outputs": [
    {
     "output_type": "stream",
     "name": "stdout",
     "output_type": "stream",
     "text": [
      "Root Mean Square Error is 0.31143\n+------+-------+------+----------+\n|userId|movieId|rating|prediction|\n+------+-------+------+----------+\n|     0|    356|     3| 3.2928758|\n|     0|    318|     4| 3.6360404|\n|     0|    296|     1| 0.9044471|\n|     0|    593|     0|0.71677566|\n|     0|   2571|     5| 4.8790817|\n|     0|    260|     4| 4.1960645|\n|     0|    480|     4| 3.7583177|\n|     0|    110|     3| 2.6732066|\n|     0|    589|     4| 3.9952478|\n|     0|    527|     5| 4.8977466|\n+------+-------+------+----------+\n\n"
     ]
    }
   ],
   "source": [
    "mySampledMovies =  model.transform(myratings)\n",
    "\n",
    "myRmse = evaluator.evaluate(mySampledMovies)\n",
    "\n",
    "print('Root Mean Square Error is %g' %myRmse)\n",
    "\n",
    "mySampledMovies.show()"
   ]
  },
  {
   "cell_type": "code",
   "execution_count": 0,
   "metadata": {
    "application/vnd.databricks.v1+cell": {
     "cellMetadata": {
      "byteLimit": 2048000,
      "rowLimit": 10000
     },
     "inputWidgets": {},
     "nuid": "57c4993f-3253-4bc9-af10-7591c50a6027",
     "showTitle": false,
     "tableResultSettingsMap": {},
     "title": ""
    }
   },
   "outputs": [
    {
     "output_type": "stream",
     "name": "stdout",
     "output_type": "stream",
     "text": [
      "+-------+-------------------------------------------------+-------------------------------------+------+----------+\n|movieId|title                                            |genres                               |userId|prediction|\n+-------+-------------------------------------------------+-------------------------------------+------+----------+\n|1916   |Buffalo '66 (a.k.a. Buffalo 66) (1998)           |Drama|Romance                        |0     |16.500496 |\n|46965  |Snakes on a Plane (2006)                         |Action|Comedy|Horror|Thriller        |0     |15.238414 |\n|2806   |Teaching Mrs. Tingle (1999)                      |Comedy|Thriller                      |0     |14.961735 |\n|2531   |Battle for the Planet of the Apes (1973)         |Action|Sci-Fi                        |0     |14.552134 |\n|122906 |Black Panther (2017)                             |Action|Adventure|Sci-Fi              |0     |14.50207  |\n|86377  |Louis C.K.: Shameless (2007)                     |Comedy                               |0     |14.143845 |\n|1658   |Life Less Ordinary, A (1997)                     |Romance|Thriller                     |0     |14.010413 |\n|86345  |Louis C.K.: Hilarious (2010)                     |Comedy                               |0     |13.999407 |\n|122886 |Star Wars: Episode VII - The Force Awakens (2015)|Action|Adventure|Fantasy|Sci-Fi|IMAX |0     |13.675745 |\n|3799   |Pokémon the Movie 2000 (2000)                    |Animation|Children                   |0     |13.594492 |\n|89753  |Tinker Tailor Soldier Spy (2011)                 |Drama|Film-Noir|Thriller             |0     |13.550462 |\n|1334   |Blob, The (1958)                                 |Horror|Sci-Fi                        |0     |13.47297  |\n|2583   |Cookie's Fortune (1999)                          |Comedy|Drama                         |0     |13.351803 |\n|4679   |Uncle Buck (1989)                                |Comedy                               |0     |13.248677 |\n|3438   |Teenage Mutant Ninja Turtles (1990)              |Action|Children|Comedy|Fantasy|Sci-Fi|0     |12.86429  |\n|41716  |Matador, The (2005)                              |Comedy|Drama|Thriller                |0     |12.409237 |\n|8914   |Primer (2004)                                    |Drama|Sci-Fi                         |0     |12.192381 |\n|2411   |Rocky IV (1985)                                  |Action|Drama                         |0     |12.16617  |\n|2249   |My Blue Heaven (1990)                            |Comedy                               |0     |12.157682 |\n|2491   |Simply Irresistible (1999)                       |Comedy|Romance                       |0     |12.135191 |\n+-------+-------------------------------------------------+-------------------------------------+------+----------+\nonly showing top 20 rows\n\n"
     ]
    }
   ],
   "source": [
    "from pyspark.sql import functions\n",
    "\n",
    "myGeneratedPredictions = movies.withColumn(\"userId\" ,  functions.expr(\"int('0')\"))\n",
    "\n",
    "myGeneratedPredictions = model.transform(myGeneratedPredictions)\n",
    "\n",
    "myGeneratedPredictions =  myGeneratedPredictions.dropna()\n",
    "\n",
    "myGeneratedPredictions.orderBy(\"prediction\", ascending = False).show(truncate = False)"
   ]
  },
  {
   "cell_type": "markdown",
   "metadata": {
    "application/vnd.databricks.v1+cell": {
     "cellMetadata": {},
     "inputWidgets": {},
     "nuid": "fc30dcce-58a4-48dd-94b4-a374a836da6e",
     "showTitle": false,
     "tableResultSettingsMap": {},
     "title": ""
    }
   },
   "source": [
    "### Challenge 3"
   ]
  },
  {
   "cell_type": "code",
   "execution_count": 0,
   "metadata": {
    "application/vnd.databricks.v1+cell": {
     "cellMetadata": {
      "byteLimit": 2048000,
      "rowLimit": 10000
     },
     "inputWidgets": {},
     "nuid": "e3284284-e903-4815-bd45-ef76ceda69b0",
     "showTitle": false,
     "tableResultSettingsMap": {},
     "title": ""
    }
   },
   "outputs": [],
   "source": [
    "myGeneratedPredictions.createOrReplaceTempView(\"predictions\")"
   ]
  },
  {
   "cell_type": "code",
   "execution_count": 0,
   "metadata": {
    "application/vnd.databricks.v1+cell": {
     "cellMetadata": {
      "byteLimit": 2048000,
      "rowLimit": 10000
     },
     "inputWidgets": {},
     "nuid": "56ec53d7-c7b0-487c-acaa-a5f833c73572",
     "showTitle": false,
     "tableResultSettingsMap": {},
     "title": ""
    }
   },
   "outputs": [
    {
     "output_type": "stream",
     "name": "stdout",
     "output_type": "stream",
     "text": [
      "+-------+-------------------------------------------------+----------+\n|movieId|title                                            |prediction|\n+-------+-------------------------------------------------+----------+\n|1916   |Buffalo '66 (a.k.a. Buffalo 66) (1998)           |16.500496 |\n|46965  |Snakes on a Plane (2006)                         |15.238414 |\n|2806   |Teaching Mrs. Tingle (1999)                      |14.961735 |\n|2531   |Battle for the Planet of the Apes (1973)         |14.552134 |\n|122906 |Black Panther (2017)                             |14.50207  |\n|86377  |Louis C.K.: Shameless (2007)                     |14.143845 |\n|1658   |Life Less Ordinary, A (1997)                     |14.010413 |\n|86345  |Louis C.K.: Hilarious (2010)                     |13.999407 |\n|122886 |Star Wars: Episode VII - The Force Awakens (2015)|13.675745 |\n|3799   |Pokémon the Movie 2000 (2000)                    |13.594492 |\n+-------+-------------------------------------------------+----------+\n\n"
     ]
    }
   ],
   "source": [
    "top_10_predictions = spark.sql(\"\"\"\n",
    "    SELECT movieId, title, prediction\n",
    "    FROM predictions\n",
    "    ORDER BY prediction DESC\n",
    "    LIMIT 10\n",
    "\"\"\")\n",
    "top_10_predictions.show(truncate=False)"
   ]
  },
  {
   "cell_type": "code",
   "execution_count": 0,
   "metadata": {
    "application/vnd.databricks.v1+cell": {
     "cellMetadata": {
      "byteLimit": 2048000,
      "rowLimit": 10000
     },
     "inputWidgets": {},
     "nuid": "9d34f40a-f70d-4f81-bb27-f76639a3ae01",
     "showTitle": false,
     "tableResultSettingsMap": {},
     "title": ""
    }
   },
   "outputs": [
    {
     "output_type": "stream",
     "name": "stdout",
     "output_type": "stream",
     "text": [
      "+-------+------------------------------------------------+----------+----------------------------+\n|movieId|title                                           |prediction|genres                      |\n+-------+------------------------------------------------+----------+----------------------------+\n|1916   |Buffalo '66 (a.k.a. Buffalo 66) (1998)          |16.500496 |Drama|Romance               |\n|1658   |Life Less Ordinary, A (1997)                    |14.010413 |Romance|Thriller            |\n|2491   |Simply Irresistible (1999)                      |12.135191 |Comedy|Romance              |\n|3270   |Cutting Edge, The (1992)                        |11.812905 |Comedy|Drama|Romance        |\n|3358   |Defending Your Life (1991)                      |11.329577 |Comedy|Drama|Fantasy|Romance|\n|4054   |Save the Last Dance (2001)                      |11.257699 |Drama|Romance               |\n|90576  |What's Your Number? (2011)                      |11.054821 |Comedy|Romance              |\n|1735   |Great Expectations (1998)                       |11.043688 |Drama|Romance               |\n|1211   |Wings of Desire (Himmel über Berlin, Der) (1987)|10.598827 |Drama|Fantasy|Romance       |\n|270    |Love Affair (1994)                              |10.565207 |Drama|Romance               |\n+-------+------------------------------------------------+----------+----------------------------+\n\n"
     ]
    }
   ],
   "source": [
    "romance_predictions = spark.sql(\"\"\"\n",
    "    SELECT movieId, title, prediction, genres\n",
    "    FROM predictions\n",
    "    WHERE genres LIKE '%Romance%'\n",
    "    ORDER BY prediction DESC\n",
    "    LIMIT 10\n",
    "\"\"\")\n",
    "romance_predictions.show(truncate=False)"
   ]
  },
  {
   "cell_type": "code",
   "execution_count": 0,
   "metadata": {
    "application/vnd.databricks.v1+cell": {
     "cellMetadata": {
      "byteLimit": 2048000,
      "rowLimit": 10000
     },
     "inputWidgets": {},
     "nuid": "7be753cd-d40a-4f87-9f71-f6c7147b0160",
     "showTitle": false,
     "tableResultSettingsMap": {},
     "title": ""
    }
   },
   "outputs": [
    {
     "output_type": "stream",
     "name": "stdout",
     "output_type": "stream",
     "text": [
      "+-------+------------------------------------------------+----------+----------------------------+\n|movieId|title                                           |prediction|genres                      |\n+-------+------------------------------------------------+----------+----------------------------+\n|1916   |Buffalo '66 (a.k.a. Buffalo 66) (1998)          |16.500496 |Drama|Romance               |\n|1658   |Life Less Ordinary, A (1997)                    |14.010413 |Romance|Thriller            |\n|2491   |Simply Irresistible (1999)                      |12.135191 |Comedy|Romance              |\n|3270   |Cutting Edge, The (1992)                        |11.812905 |Comedy|Drama|Romance        |\n|3358   |Defending Your Life (1991)                      |11.329577 |Comedy|Drama|Fantasy|Romance|\n|4054   |Save the Last Dance (2001)                      |11.257699 |Drama|Romance               |\n|90576  |What's Your Number? (2011)                      |11.054821 |Comedy|Romance              |\n|1735   |Great Expectations (1998)                       |11.043688 |Drama|Romance               |\n|1211   |Wings of Desire (Himmel über Berlin, Der) (1987)|10.598827 |Drama|Fantasy|Romance       |\n|270    |Love Affair (1994)                              |10.565207 |Drama|Romance               |\n+-------+------------------------------------------------+----------+----------------------------+\n\n"
     ]
    }
   ],
   "source": [
    "romance_df = myGeneratedPredictions.filter(functions.col(\"genres\").contains(\"Romance\")) \\\n",
    "    .select(\"movieId\", \"title\", \"prediction\", \"genres\") \\\n",
    "    .orderBy(functions.col(\"prediction\").desc()) \\\n",
    "    .limit(10)\n",
    "\n",
    "romance_df.show(truncate=False)"
   ]
  },
  {
   "cell_type": "code",
   "execution_count": 0,
   "metadata": {
    "application/vnd.databricks.v1+cell": {
     "cellMetadata": {
      "byteLimit": 2048000,
      "rowLimit": 10000
     },
     "inputWidgets": {},
     "nuid": "f5fcc37f-317a-4b08-898a-10b70d919d5c",
     "showTitle": false,
     "tableResultSettingsMap": {},
     "title": ""
    }
   },
   "outputs": [
    {
     "output_type": "stream",
     "name": "stdout",
     "output_type": "stream",
     "text": [
      "Out[29]: ['movieId', 'title', 'genres', 'userId', 'prediction']"
     ]
    }
   ],
   "source": [
    "myGeneratedPredictions.columns"
   ]
  },
  {
   "cell_type": "code",
   "execution_count": 0,
   "metadata": {
    "application/vnd.databricks.v1+cell": {
     "cellMetadata": {
      "byteLimit": 2048000,
      "rowLimit": 10000
     },
     "inputWidgets": {},
     "nuid": "dbc5f1c6-c239-4f30-bc2f-7b7d1be08e57",
     "showTitle": false,
     "tableResultSettingsMap": {},
     "title": ""
    }
   },
   "outputs": [
    {
     "output_type": "stream",
     "name": "stdout",
     "output_type": "stream",
     "text": [
      "+------+-----------------------------------------------------------------------------------------------------------------------------------------------------------------------------------------------------+\n|userId|recommendations                                                                                                                                                                                      |\n+------+-----------------------------------------------------------------------------------------------------------------------------------------------------------------------------------------------------+\n|0     |[{1916, 16.500496}, {46965, 15.238414}, {2806, 14.961735}, {2531, 14.552134}, {122906, 14.50207}, {86377, 14.143845}, {1658, 14.010413}, {86345, 13.999407}, {122886, 13.675745}, {3799, 13.594492}] |\n|1     |[{5222, 6.408414}, {5015, 6.3044653}, {52435, 6.255207}, {1411, 6.185528}, {3200, 6.1765113}, {8477, 6.127323}, {106766, 6.08433}, {7360, 6.080385}, {1243, 5.9397902}, {3852, 5.9392548}]           |\n|2     |[{2843, 7.2047386}, {135861, 7.1489205}, {4642, 7.1271863}, {1411, 7.0889626}, {112290, 6.9109535}, {1232, 6.864069}, {134393, 6.8353457}, {8973, 6.740627}, {3355, 6.640727}, {1183, 6.591128}]     |\n|3     |[{26865, 5.861978}, {4744, 5.750624}, {93563, 5.6226177}, {2340, 5.607526}, {1916, 5.565192}, {1885, 5.455744}, {1726, 5.452496}, {3004, 5.299238}, {6835, 5.1020956}, {5746, 5.1020956}]            |\n|4     |[{8957, 8.434981}, {71520, 7.080137}, {3706, 6.987231}, {55363, 6.709538}, {2318, 6.517433}, {1997, 6.246927}, {3099, 6.1957483}, {4006, 6.1432557}, {47629, 6.1340895}, {4713, 6.1322637}]          |\n|5     |[{2300, 6.4248896}, {3358, 6.344}, {1178, 6.3254843}, {1179, 6.178971}, {1232, 6.1261325}, {82, 6.110824}, {1658, 6.071185}, {3030, 5.9907513}, {1194, 5.9814115}, {1078, 5.943679}]                 |\n|6     |[{1411, 6.319505}, {81564, 6.116607}, {103228, 6.064713}, {720, 6.0008755}, {103335, 5.989744}, {93006, 5.9459124}, {8477, 5.868726}, {34332, 5.8185453}, {104218, 5.7568345}, {7034, 5.7286725}]    |\n|7     |[{89753, 7.7077327}, {5152, 7.5061274}, {1218, 7.0990357}, {122906, 6.937791}, {2731, 6.8512807}, {3030, 6.6500425}, {6993, 6.603307}, {26865, 6.5809755}, {7842, 6.5300064}, {1707, 6.4843154}]     |\n|8     |[{3633, 7.4330106}, {2530, 7.4173346}, {2672, 7.117798}, {1250, 7.110925}, {1272, 6.9610667}, {7387, 6.7225757}, {955, 6.6848154}, {215, 6.662869}, {3505, 6.6560564}, {1262, 6.650005}]             |\n|9     |[{7842, 7.386635}, {122906, 7.3416386}, {97913, 7.3363156}, {52885, 7.139216}, {86345, 7.1206923}, {27773, 6.755206}, {5152, 6.7189145}, {3265, 6.6583242}, {59387, 6.618465}, {103341, 6.615686}]   |\n|10    |[{86911, 6.751553}, {87529, 6.3522835}, {7842, 6.3272705}, {3099, 6.0481567}, {6564, 5.9074955}, {40581, 5.8972287}, {166461, 5.8898573}, {44974, 5.7673607}, {177593, 5.6340985}, {2953, 5.6035986}]|\n|11    |[{1916, 7.5270114}, {27611, 7.2648306}, {1411, 7.032592}, {179819, 7.0095353}, {4678, 6.7301745}, {5135, 6.6713986}, {2398, 6.62316}, {1237, 6.592373}, {3022, 6.5700264}, {1207, 6.566151}]         |\n|12    |[{115713, 9.136277}, {102903, 8.781207}, {1218, 8.5728445}, {1255, 8.455702}, {45501, 8.4293165}, {27611, 8.318913}, {92643, 8.040898}, {6881, 7.892085}, {87529, 7.7733793}, {122906, 7.632178}]    |\n|13    |[{215, 6.8864627}, {86345, 6.6611137}, {3814, 6.573025}, {97913, 6.4032235}, {89904, 6.3673263}, {86347, 6.363168}, {59387, 6.3450994}, {86377, 6.3106303}, {194, 6.254282}, {4467, 6.1523404}]      |\n|14    |[{3910, 10.266354}, {1464, 10.149667}, {3099, 9.794291}, {1194, 9.609905}, {129354, 9.000023}, {800, 8.943691}, {1966, 8.838418}, {49932, 8.8212385}, {1260, 8.797708}, {2186, 8.732072}]            |\n|15    |[{3099, 8.55105}, {1701, 7.528685}, {3503, 7.2279773}, {4396, 7.081633}, {1010, 7.0695796}, {8973, 7.0040784}, {3030, 6.9902234}, {1186, 6.9894333}, {920, 6.9803996}, {4799, 6.9079657}]            |\n|16    |[{119141, 5.2083826}, {148626, 4.9552913}, {1223, 4.8848934}, {2937, 4.8677135}, {95441, 4.833131}, {2843, 4.8258367}, {7842, 4.7577615}, {1218, 4.748191}, {4160, 4.7439594}, {3910, 4.727414}]     |\n|17    |[{8477, 6.1910276}, {3200, 5.5870657}, {1237, 5.5501084}, {71899, 5.439962}, {56782, 5.382349}, {720, 5.3753514}, {148881, 5.346057}, {1411, 5.3184905}, {26133, 5.2945056}, {106766, 5.203362}]     |\n|18    |[{89904, 5.557141}, {7842, 5.4773974}, {1845, 5.1217904}, {1251, 5.1079817}, {3814, 5.0848994}, {3468, 4.8828773}, {3022, 4.8734636}, {3852, 4.8500566}, {2135, 4.8301983}, {2732, 4.825306}]        |\n|19    |[{176371, 5.2461514}, {1232, 5.169541}, {7842, 4.7886934}, {2391, 4.757795}, {89753, 4.7539105}, {3675, 4.7128654}, {8477, 4.7051754}, {3358, 4.5592937}, {27156, 4.5483074}, {122882, 4.4833894}]   |\n+------+-----------------------------------------------------------------------------------------------------------------------------------------------------------------------------------------------------+\nonly showing top 20 rows\n\n"
     ]
    }
   ],
   "source": [
    "all_user_recommendations = model.recommendForAllUsers(10)\n",
    "all_user_recommendations.show(truncate=False)"
   ]
  },
  {
   "cell_type": "code",
   "execution_count": 0,
   "metadata": {
    "application/vnd.databricks.v1+cell": {
     "cellMetadata": {
      "byteLimit": 2048000,
      "rowLimit": 10000
     },
     "inputWidgets": {},
     "nuid": "c044aa0c-89fc-4ac8-bdee-aaece3ae1ebd",
     "showTitle": false,
     "tableResultSettingsMap": {},
     "title": ""
    }
   },
   "outputs": [
    {
     "output_type": "stream",
     "name": "stdout",
     "output_type": "stream",
     "text": [
      "+-------+------------------------------------------+------------------+\n|movieId|title                                     |avg_prediction    |\n+-------+------------------------------------------+------------------+\n|2806   |Teaching Mrs. Tingle (1999)               |14.961734771728516|\n|56801  |AVPR: Aliens vs. Predator - Requiem (2007)|14.251232147216797|\n|1441   |Benny & Joon (1993)                       |14.041587829589844|\n|3799   |Pokémon the Movie 2000 (2000)             |13.594491958618164|\n|102    |Mr. Wrong (1996)                          |12.659735679626465|\n|5480   |Stuart Little 2 (2002)                    |12.585247039794922|\n|86293  |Arthur (2011)                             |12.382038116455078|\n|640    |Diabolique (1996)                         |12.202795028686523|\n|6686   |Medallion, The (2003)                     |11.875936031341553|\n|4721   |American Outlaws (2001)                   |11.63430118560791 |\n+-------+------------------------------------------+------------------+\n\n"
     ]
    }
   ],
   "source": [
    "from pyspark.sql.functions import explode, col, avg\n",
    "\n",
    "exploded_recommendations = all_user_recommendations \\\n",
    "    .select(explode(col(\"recommendations\")).alias(\"recommendation\"))\n",
    "\n",
    "movie_recommendations = exploded_recommendations \\\n",
    "    .select(col(\"recommendation.movieId\").alias(\"movieId\"), col(\"recommendation.rating\").alias(\"prediction\"))\n",
    "\n",
    "top_movies = movie_recommendations.groupBy(\"movieId\") \\\n",
    "    .agg(avg(\"prediction\").alias(\"avg_prediction\")) \\\n",
    "    .orderBy(col(\"avg_prediction\").desc()) \\\n",
    "    .limit(10)\n",
    "\n",
    "top_movies_with_titles = top_movies.join(movies, \"movieId\") \\\n",
    "    .select(\"movieId\", \"title\", \"avg_prediction\") \\\n",
    "    .orderBy(col(\"avg_prediction\").desc())\n",
    "\n",
    "top_movies_with_titles.show(truncate=False)\n"
   ]
  },
  {
   "cell_type": "code",
   "execution_count": 0,
   "metadata": {
    "application/vnd.databricks.v1+cell": {
     "cellMetadata": {
      "byteLimit": 2048000,
      "rowLimit": 10000
     },
     "inputWidgets": {},
     "nuid": "948a6b0a-bffa-4850-83f9-b6388d8f4e77",
     "showTitle": false,
     "tableResultSettingsMap": {},
     "title": ""
    }
   },
   "outputs": [
    {
     "output_type": "stream",
     "name": "stdout",
     "output_type": "stream",
     "text": [
      "+-------+----------------+--------------------+------+----------+\n|movieId|           title|              genres|userId|prediction|\n+-------+----------------+--------------------+------+----------+\n|      1|Toy Story (1995)|Adventure|Animati...|     0| 3.7452555|\n+-------+----------------+--------------------+------+----------+\nonly showing top 1 row\n\n"
     ]
    }
   ],
   "source": [
    "myGeneratedPredictions.show(1)"
   ]
  },
  {
   "cell_type": "code",
   "execution_count": 0,
   "metadata": {
    "application/vnd.databricks.v1+cell": {
     "cellMetadata": {
      "byteLimit": 2048000,
      "rowLimit": 10000
     },
     "inputWidgets": {},
     "nuid": "b765beb6-170b-49e4-9f72-c44e20d65bdd",
     "showTitle": false,
     "tableResultSettingsMap": {},
     "title": ""
    }
   },
   "outputs": [
    {
     "output_type": "stream",
     "name": "stdout",
     "output_type": "stream",
     "text": [
      "+------+-------+-------------------------------------------------+----------+\n|userId|movieId|title                                            |prediction|\n+------+-------+-------------------------------------------------+----------+\n|0     |1916   |Buffalo '66 (a.k.a. Buffalo 66) (1998)           |16.500496 |\n|0     |46965  |Snakes on a Plane (2006)                         |15.238414 |\n|0     |2806   |Teaching Mrs. Tingle (1999)                      |14.961735 |\n|0     |2531   |Battle for the Planet of the Apes (1973)         |14.552134 |\n|0     |122906 |Black Panther (2017)                             |14.50207  |\n|0     |86377  |Louis C.K.: Shameless (2007)                     |14.143845 |\n|0     |1658   |Life Less Ordinary, A (1997)                     |14.010413 |\n|0     |86345  |Louis C.K.: Hilarious (2010)                     |13.999407 |\n|0     |122886 |Star Wars: Episode VII - The Force Awakens (2015)|13.675745 |\n|0     |3799   |Pokémon the Movie 2000 (2000)                    |13.594492 |\n+------+-------+-------------------------------------------------+----------+\n\n"
     ]
    }
   ],
   "source": [
    "user_recommendations_df = myGeneratedPredictions.filter(functions.col(\"userId\") == 0) \\\n",
    "    .select(\"userId\",\"movieId\", \"title\", \"prediction\") \\\n",
    "    .orderBy(functions.col(\"prediction\").desc()) \\\n",
    "    .limit(10)\n",
    "\n",
    "user_recommendations_df.show(truncate=False)"
   ]
  },
  {
   "cell_type": "markdown",
   "metadata": {
    "application/vnd.databricks.v1+cell": {
     "cellMetadata": {},
     "inputWidgets": {},
     "nuid": "94b40287-177a-479d-8937-511687ae3161",
     "showTitle": false,
     "tableResultSettingsMap": {},
     "title": ""
    }
   },
   "source": [
    "### Challenge 4"
   ]
  },
  {
   "cell_type": "code",
   "execution_count": 0,
   "metadata": {
    "application/vnd.databricks.v1+cell": {
     "cellMetadata": {
      "byteLimit": 2048000,
      "rowLimit": 10000
     },
     "inputWidgets": {},
     "nuid": "c9beba47-40cb-4528-ab73-2010a0e92d0d",
     "showTitle": false,
     "tableResultSettingsMap": {},
     "title": ""
    }
   },
   "outputs": [
    {
     "output_type": "stream",
     "name": "stderr",
     "output_type": "stream",
     "text": [
      "2025/03/07 12:34:40 INFO mlflow.utils.autologging_utils: Created MLflow autologging run with ID 'c738214a9f4f4b9390cbddf956571fc1', which will track hyperparameters, performance metrics, model artifacts, and lineage information for the current pyspark.ml workflow\n2025/03/07 12:47:51 WARNING mlflow.pyspark.ml: Model CrossValidatorModel_e1b9c3416e75 will not be autologged because it is not allowlisted or or because one or more of its nested models are not allowlisted. Call mlflow.spark.log_model() to explicitly log the model, or specify a custom allowlist via the spark.mlflow.pysparkml.autolog.logModelAllowlistFile Spark conf (see mlflow.pyspark.ml.autolog docs for more info).\n"
     ]
    },
    {
     "output_type": "stream",
     "name": "stdout",
     "output_type": "stream",
     "text": [
      "Best Rank: 5\nBest RegParam: 0.1\nTest RMSE: 0.8809162328081578\n"
     ]
    }
   ],
   "source": [
    "from pyspark.ml.recommendation import ALS\n",
    "from pyspark.ml.tuning import ParamGridBuilder, CrossValidator\n",
    "from pyspark.ml.evaluation import RegressionEvaluator\n",
    "from pyspark.sql.functions import explode, col\n",
    "\n",
    "als = ALS(\n",
    "    userCol=\"userId\",\n",
    "    itemCol=\"movieId\",\n",
    "    ratingCol=\"rating\",\n",
    "    coldStartStrategy=\"drop\",\n",
    "    seed=100\n",
    ")\n",
    "\n",
    "param_grid = ParamGridBuilder() \\\n",
    "    .addGrid(als.rank, [5, 10, 15]) \\\n",
    "    .addGrid(als.regParam, [0.001, 0.005, 0.01, 0.05, 0.1]) \\\n",
    "    .build()\n",
    "\n",
    "evaluator = RegressionEvaluator(\n",
    "    metricName=\"rmse\",\n",
    "    labelCol=\"rating\",\n",
    "    predictionCol=\"prediction\"\n",
    ")\n",
    "\n",
    "crossval = CrossValidator(\n",
    "    estimator=als,\n",
    "    estimatorParamMaps=param_grid,\n",
    "    evaluator=evaluator,\n",
    "    numFolds=3\n",
    ")\n",
    "\n",
    "cv_model = crossval.fit(training)\n",
    "best_model = cv_model.bestModel\n",
    "\n",
    "print(f\"Best Rank: {best_model.rank}\")\n",
    "print(f\"Best RegParam: {best_model._java_obj.parent().getRegParam()}\")\n",
    "\n",
    "predictions = best_model.transform(test)\n",
    "rmse = evaluator.evaluate(predictions)\n",
    "print(f\"Test RMSE: {rmse}\")"
   ]
  },
  {
   "cell_type": "code",
   "execution_count": 0,
   "metadata": {
    "application/vnd.databricks.v1+cell": {
     "cellMetadata": {
      "byteLimit": 2048000,
      "rowLimit": 10000
     },
     "inputWidgets": {},
     "nuid": "5296fc2f-fcb1-493f-9ffc-47cc91904e4a",
     "showTitle": false,
     "tableResultSettingsMap": {},
     "title": ""
    }
   },
   "outputs": [
    {
     "output_type": "stream",
     "name": "stdout",
     "output_type": "stream",
     "text": [
      "+------+-------+------------------------------------------------------+---------+\n|userId|movieId|title                                                 |rating   |\n+------+-------+------------------------------------------------------+---------+\n|0     |1658   |Life Less Ordinary, A (1997)                          |6.0707936|\n|0     |932    |Affair to Remember, An (1957)                         |5.7181926|\n|0     |71379  |Paranormal Activity (2009)                            |5.693291 |\n|0     |1883   |Bulworth (1998)                                       |5.627211 |\n|0     |82     |Antonia's Line (Antonia) (1995)                       |5.59829  |\n|0     |720    |Wallace & Gromit: The Best of Aardman Animation (1996)|5.5253043|\n|0     |4429   |Moby Dick (1956)                                      |5.4401813|\n|0     |3477   |Empire Records (1995)                                 |5.321782 |\n|0     |158872 |Sausage Party (2016)                                  |5.2803383|\n|0     |2491   |Simply Irresistible (1999)                            |5.269166 |\n+------+-------+------------------------------------------------------+---------+\n\n"
     ]
    }
   ],
   "source": [
    "user_recommendations = best_model.recommendForAllUsers(10)\n",
    "\n",
    "specific_user_recommendations = user_recommendations.filter(\"userId = 0\") \\\n",
    "    .select(\"userId\", explode(\"recommendations\").alias(\"recommendation\"))\n",
    "\n",
    "specific_user_recommendations = specific_user_recommendations \\\n",
    "    .select(\"userId\", \"recommendation.movieId\", \"recommendation.rating\")\n",
    "\n",
    "user_movie_recommendations = specific_user_recommendations.join(movies, \"movieId\") \\\n",
    "    .select(\"userId\", \"movieId\", \"title\", \"rating\") \\\n",
    "    .orderBy(col(\"rating\").desc())\n",
    "\n",
    "user_movie_recommendations.show(truncate=False)"
   ]
  }
 ],
 "metadata": {
  "application/vnd.databricks.v1+notebook": {
   "computePreferences": null,
   "dashboards": [],
   "environmentMetadata": {
    "base_environment": "",
    "client": "1"
   },
   "language": "python",
   "notebookMetadata": {
    "mostRecentlyExecutedCommandWithImplicitDF": {
     "commandId": -1,
     "dataframes": [
      "_sqldf"
     ]
    },
    "pythonIndentUnit": 4
   },
   "notebookName": "Week 08 Notebook 2025-03-05 15:57:13",
   "widgets": {}
  }
 },
 "nbformat": 4,
 "nbformat_minor": 0
}
