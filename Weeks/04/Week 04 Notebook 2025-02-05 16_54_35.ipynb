{
 "cells": [
  {
   "cell_type": "code",
   "execution_count": 0,
   "metadata": {
    "application/vnd.databricks.v1+cell": {
     "cellMetadata": {
      "byteLimit": 2048000,
      "rowLimit": 10000
     },
     "inputWidgets": {},
     "nuid": "a3273c99-f3f7-4332-9760-5164c6535841",
     "showTitle": false,
     "tableResultSettingsMap": {},
     "title": ""
    }
   },
   "outputs": [
    {
     "output_type": "stream",
     "name": "stdout",
     "output_type": "stream",
     "text": [
      "Out[3]: [FileInfo(path='dbfs:/FileStore/tables/webpage/part_m_00000', name='part_m_00000', size=751, modificationTime=1738774924000),\n FileInfo(path='dbfs:/FileStore/tables/webpage/part_m_00001', name='part_m_00001', size=874, modificationTime=1738774924000),\n FileInfo(path='dbfs:/FileStore/tables/webpage/part_m_00002', name='part_m_00002', size=804, modificationTime=1738774925000),\n FileInfo(path='dbfs:/FileStore/tables/webpage/part_m_00003', name='part_m_00003', size=774, modificationTime=1738774925000)]"
     ]
    }
   ],
   "source": [
    "dbutils.fs.ls(\"/FileStore/tables/webpage\")"
   ]
  },
  {
   "cell_type": "code",
   "execution_count": 0,
   "metadata": {
    "application/vnd.databricks.v1+cell": {
     "cellMetadata": {
      "byteLimit": 2048000,
      "rowLimit": 10000
     },
     "inputWidgets": {},
     "nuid": "faa82180-65db-4f4c-a4e2-0e556a3ada99",
     "showTitle": false,
     "tableResultSettingsMap": {},
     "title": ""
    }
   },
   "outputs": [
    {
     "output_type": "stream",
     "name": "stdout",
     "output_type": "stream",
     "text": [
      "1\tsorrento_f00l_sales.html\ttheme.css,code.js,sorrento_f00l.jpg\n2\ttitanic_2100_sales.html\ttheme.css,code.js,titanic_2100.jpg\n3\tmeetoo_3.0_sales.html\ttheme.css,code.js,meetoo_3.0.jpg\n4\tmeetoo_3.1_sales.html\ttheme.css,code.js,meetoo_3.1.jpg\n5\tifruit_1_sales.html\ttheme.css,code.js,ifruit_1.jpg\n6\tifruit_3_sales.html\ttheme.css,code.js,ifruit_3.jpg\n7\tifruit_2_sales.html\ttheme.css,code.js,ifruit_2.jpg\n8\tifruit_5_sales.html\ttheme.css,code.js,ifruit_5.jpg\n9\ttitanic_1000_sales.html\ttheme.css,code.js,titanic_1000.jpg\n10\tmeetoo_1.0_sales.html\ttheme.css,code.js,meetoo_1.0.jpg\n11\tsorrento_f21l_sales.html\ttheme.css,code.js,sorrento_f21l.jpg\n12\tifruit_4_sales.html\ttheme.css,code.js,ifruit_4.jpg\n13\tsorrento_f23l_sales.html\ttheme.css,code.js,sorrento_f23l.jpg\n"
     ]
    }
   ],
   "source": [
    "for line in dbutils.fs.head(\"/FileStore/tables/webpage/part_m_00000\").splitlines(): \n",
    "    print(line)"
   ]
  },
  {
   "cell_type": "code",
   "execution_count": 0,
   "metadata": {
    "application/vnd.databricks.v1+cell": {
     "cellMetadata": {
      "byteLimit": 2048000,
      "rowLimit": 10000
     },
     "inputWidgets": {},
     "nuid": "43159caf-38db-4ef6-90b3-376bdd87bae2",
     "showTitle": false,
     "tableResultSettingsMap": {},
     "title": ""
    }
   },
   "outputs": [
    {
     "output_type": "stream",
     "name": "stdout",
     "output_type": "stream",
     "text": [
      "+-----+--------------------+--------------------+\n|index|             webpage|    associated_files|\n+-----+--------------------+--------------------+\n|    1|sorrento_f00l_sal...|theme.css,code.js...|\n|    2|titanic_2100_sale...|theme.css,code.js...|\n|    3|meetoo_3.0_sales....|theme.css,code.js...|\n|    4|meetoo_3.1_sales....|theme.css,code.js...|\n|    5| ifruit_1_sales.html|theme.css,code.js...|\n+-----+--------------------+--------------------+\nonly showing top 5 rows\n\n"
     ]
    }
   ],
   "source": [
    "# Using createDataFrame \n",
    "from pyspark.sql.types import * \n",
    "\n",
    "mySchema = StructType ([ \n",
    "StructField(\"index\", IntegerType()) , \n",
    "StructField(\"webpage\", StringType()) , \n",
    "StructField(\"associated_files\", StringType())]) \n",
    "\n",
    "myRDD = sc.textFile(\"/FileStore/tables/webpage/*\").map(lambda line: line.split(\"\\t\")).map(lambda values: [int(values[0]) , values[1] , values[2]]) \n",
    "\n",
    "webpages1 = spark.createDataFrame(myRDD , mySchema) \n",
    "\n",
    "webpages1.show(5)"
   ]
  },
  {
   "cell_type": "code",
   "execution_count": 0,
   "metadata": {
    "application/vnd.databricks.v1+cell": {
     "cellMetadata": {
      "byteLimit": 2048000,
      "rowLimit": 10000
     },
     "inputWidgets": {},
     "nuid": "db029c83-7274-4feb-8c1f-9547ea12ad8d",
     "showTitle": false,
     "tableResultSettingsMap": {},
     "title": ""
    }
   },
   "outputs": [
    {
     "output_type": "stream",
     "name": "stdout",
     "output_type": "stream",
     "text": [
      "+---+-------------------------------+------------------------------------------+\n|_c0|_c1                            |_c2                                       |\n+---+-------------------------------+------------------------------------------+\n|14 |titanic_2200_sales.html        |theme.css,code.js,titanic_2200.jpg        |\n|15 |ronin_novelty_note_1_sales.html|theme.css,code.js,ronin_novelty_note_1.jpg|\n|16 |titanic_2500_sales.html        |theme.css,code.js,titanic_2500.jpg        |\n|17 |ronin_novelty_note_3_sales.html|theme.css,code.js,ronin_novelty_note_3.jpg|\n|18 |ronin_novelty_note_2_sales.html|theme.css,code.js,ronin_novelty_note_2.jpg|\n+---+-------------------------------+------------------------------------------+\nonly showing top 5 rows\n\n"
     ]
    }
   ],
   "source": [
    "Webpages2 = spark.read.options(delimiter =\"\\t\").csv(\"/FileStore/tables/webpage/*\") \n",
    "Webpages2.show(5, truncate = False)"
   ]
  },
  {
   "cell_type": "code",
   "execution_count": 0,
   "metadata": {
    "application/vnd.databricks.v1+cell": {
     "cellMetadata": {
      "byteLimit": 2048000,
      "rowLimit": 10000
     },
     "inputWidgets": {},
     "nuid": "9367d889-dfae-4298-9282-5f24ae648d43",
     "showTitle": false,
     "tableResultSettingsMap": {},
     "title": ""
    }
   },
   "outputs": [
    {
     "output_type": "stream",
     "name": "stdout",
     "output_type": "stream",
     "text": [
      "+---+------------------------+-----------------------------------+\n|_1 |_2                      |_3                                 |\n+---+------------------------+-----------------------------------+\n|1  |sorrento_f00l_sales.html|theme.css,code.js,sorrento_f00l.jpg|\n|2  |titanic_2100_sales.html |theme.css,code.js,titanic_2100.jpg |\n|3  |meetoo_3.0_sales.html   |theme.css,code.js,meetoo_3.0.jpg   |\n|4  |meetoo_3.1_sales.html   |theme.css,code.js,meetoo_3.1.jpg   |\n|5  |ifruit_1_sales.html     |theme.css,code.js,ifruit_1.jpg     |\n+---+------------------------+-----------------------------------+\nonly showing top 5 rows\n\n"
     ]
    }
   ],
   "source": [
    "myRDD = sc.textFile(\"/FileStore/tables/webpage/*\") \n",
    "colRDD = myRDD.map(lambda line: line.split(\"\\t\")) \n",
    "webpages3 = colRDD.toDF() \n",
    "webpages3.show(5, truncate = False)"
   ]
  },
  {
   "cell_type": "code",
   "execution_count": 0,
   "metadata": {
    "application/vnd.databricks.v1+cell": {
     "cellMetadata": {
      "byteLimit": 2048000,
      "rowLimit": 10000
     },
     "inputWidgets": {},
     "nuid": "ae747263-71f7-4fe9-aac8-1546bd49a581",
     "showTitle": false,
     "tableResultSettingsMap": {},
     "title": ""
    }
   },
   "outputs": [
    {
     "output_type": "stream",
     "name": "stdout",
     "output_type": "stream",
     "text": [
      "+-----+-------------------------------+------------------------------------------+\n|index|webpage                        |associated_files                          |\n+-----+-------------------------------+------------------------------------------+\n|14   |titanic_2200_sales.html        |theme.css,code.js,titanic_2200.jpg        |\n|15   |ronin_novelty_note_1_sales.html|theme.css,code.js,ronin_novelty_note_1.jpg|\n|16   |titanic_2500_sales.html        |theme.css,code.js,titanic_2500.jpg        |\n|17   |ronin_novelty_note_3_sales.html|theme.css,code.js,ronin_novelty_note_3.jpg|\n|18   |ronin_novelty_note_2_sales.html|theme.css,code.js,ronin_novelty_note_2.jpg|\n+-----+-------------------------------+------------------------------------------+\nonly showing top 5 rows\n\n"
     ]
    }
   ],
   "source": [
    "Webpages2 = Webpages2.toDF(\"index\",\"webpage\",\"associated_files\")\n",
    "Webpages2.show(5, truncate= False)"
   ]
  },
  {
   "cell_type": "code",
   "execution_count": 0,
   "metadata": {
    "application/vnd.databricks.v1+cell": {
     "cellMetadata": {
      "byteLimit": 2048000,
      "rowLimit": 10000
     },
     "inputWidgets": {},
     "nuid": "6efb433f-3acc-44d1-9d58-70b5ea7a4f19",
     "showTitle": false,
     "tableResultSettingsMap": {},
     "title": ""
    }
   },
   "outputs": [
    {
     "output_type": "stream",
     "name": "stdout",
     "output_type": "stream",
     "text": [
      "+-----+------------------------+-----------------------------------+\n|index|webpage                 |associated_files                   |\n+-----+------------------------+-----------------------------------+\n|1    |sorrento_f00l_sales.html|theme.css,code.js,sorrento_f00l.jpg|\n|2    |titanic_2100_sales.html |theme.css,code.js,titanic_2100.jpg |\n|3    |meetoo_3.0_sales.html   |theme.css,code.js,meetoo_3.0.jpg   |\n|4    |meetoo_3.1_sales.html   |theme.css,code.js,meetoo_3.1.jpg   |\n|5    |ifruit_1_sales.html     |theme.css,code.js,ifruit_1.jpg     |\n+-----+------------------------+-----------------------------------+\nonly showing top 5 rows\n\n"
     ]
    }
   ],
   "source": [
    "Webpages3 = webpages3.withColumnRenamed(\"_1\",\"index\").withColumnRenamed(\"_2\",\"webpage\").withColumnRenamed(\"_3\",\"associated_files\")\n",
    "Webpages3.show(5, truncate = False)"
   ]
  },
  {
   "cell_type": "code",
   "execution_count": 0,
   "metadata": {
    "application/vnd.databricks.v1+cell": {
     "cellMetadata": {
      "byteLimit": 2048000,
      "rowLimit": 10000
     },
     "inputWidgets": {},
     "nuid": "f906eae4-402c-4ba2-bce3-da5c740033ef",
     "showTitle": false,
     "tableResultSettingsMap": {},
     "title": ""
    }
   },
   "outputs": [
    {
     "output_type": "stream",
     "name": "stdout",
     "output_type": "stream",
     "text": [
      "root\n |-- index: string (nullable = true)\n |-- webpage: string (nullable = true)\n |-- associated_files: string (nullable = true)\n\nroot\n |-- index: string (nullable = true)\n |-- webpage: string (nullable = true)\n |-- associated_files: string (nullable = true)\n\n"
     ]
    }
   ],
   "source": [
    "Webpages2.printSchema()\n",
    "Webpages3.printSchema()"
   ]
  },
  {
   "cell_type": "code",
   "execution_count": 0,
   "metadata": {
    "application/vnd.databricks.v1+cell": {
     "cellMetadata": {
      "byteLimit": 2048000,
      "rowLimit": 10000
     },
     "inputWidgets": {},
     "nuid": "776ed737-568d-4619-96b5-ede2bd792535",
     "showTitle": false,
     "tableResultSettingsMap": {},
     "title": ""
    }
   },
   "outputs": [],
   "source": [
    "Webpages2 = Webpages2.withColumn(\"index\", Webpages2.index.cast(\"int\"))\n",
    "Webpages3 = Webpages3.withColumn(\"index\", Webpages3.index.cast(\"int\"))"
   ]
  },
  {
   "cell_type": "code",
   "execution_count": 0,
   "metadata": {
    "application/vnd.databricks.v1+cell": {
     "cellMetadata": {
      "byteLimit": 2048000,
      "rowLimit": 10000
     },
     "inputWidgets": {},
     "nuid": "a145fd69-a9e3-4a0a-91cf-ba54576d6fa9",
     "showTitle": false,
     "tableResultSettingsMap": {},
     "title": ""
    }
   },
   "outputs": [
    {
     "output_type": "stream",
     "name": "stdout",
     "output_type": "stream",
     "text": [
      "+------------------------+-----------------------------------+\n|webpage                 |associated_files                   |\n+------------------------+-----------------------------------+\n|sorrento_f00l_sales.html|theme.css,code.js,sorrento_f00l.jpg|\n|titanic_2100_sales.html |theme.css,code.js,titanic_2100.jpg |\n|meetoo_3.0_sales.html   |theme.css,code.js,meetoo_3.0.jpg   |\n|meetoo_3.1_sales.html   |theme.css,code.js,meetoo_3.1.jpg   |\n|ifruit_1_sales.html     |theme.css,code.js,ifruit_1.jpg     |\n+------------------------+-----------------------------------+\nonly showing top 5 rows\n\n"
     ]
    }
   ],
   "source": [
    "assocfilesDF = webpages1.select(webpages1.webpage , webpages1.associated_files)\n",
    "assocfilesDF.show(5 , truncate = False)"
   ]
  },
  {
   "cell_type": "code",
   "execution_count": 0,
   "metadata": {
    "application/vnd.databricks.v1+cell": {
     "cellMetadata": {
      "byteLimit": 2048000,
      "rowLimit": 10000
     },
     "inputWidgets": {},
     "nuid": "9fca5c79-f048-4e70-b5c3-d72f8eac9b45",
     "showTitle": false,
     "tableResultSettingsMap": {},
     "title": ""
    }
   },
   "outputs": [
    {
     "output_type": "stream",
     "name": "stdout",
     "output_type": "stream",
     "text": [
      "Out[13]: [('sorrento_f00l_sales.html', 'theme.css,code.js,sorrento_f00l.jpg'),\n ('titanic_2100_sales.html', 'theme.css,code.js,titanic_2100.jpg'),\n ('meetoo_3.0_sales.html', 'theme.css,code.js,meetoo_3.0.jpg'),\n ('meetoo_3.1_sales.html', 'theme.css,code.js,meetoo_3.1.jpg'),\n ('ifruit_1_sales.html', 'theme.css,code.js,ifruit_1.jpg')]"
     ]
    }
   ],
   "source": [
    "afilesRDD = assocfilesDF.rdd.map(lambda row:(row.webpage , row.associated_files))\n",
    "afilesRDD.take(5)"
   ]
  },
  {
   "cell_type": "code",
   "execution_count": 0,
   "metadata": {
    "application/vnd.databricks.v1+cell": {
     "cellMetadata": {
      "byteLimit": 2048000,
      "rowLimit": 10000
     },
     "inputWidgets": {},
     "nuid": "12122fdb-9310-49f9-bc2f-6d17df86cce9",
     "showTitle": false,
     "tableResultSettingsMap": {},
     "title": ""
    }
   },
   "outputs": [
    {
     "output_type": "stream",
     "name": "stdout",
     "output_type": "stream",
     "text": [
      "Out[14]: [('sorrento_f00l_sales.html', 'theme.css'),\n ('sorrento_f00l_sales.html', 'code.js'),\n ('sorrento_f00l_sales.html', 'sorrento_f00l.jpg'),\n ('titanic_2100_sales.html', 'theme.css'),\n ('titanic_2100_sales.html', 'code.js'),\n ('titanic_2100_sales.html', 'titanic_2100.jpg'),\n ('meetoo_3.0_sales.html', 'theme.css'),\n ('meetoo_3.0_sales.html', 'code.js'),\n ('meetoo_3.0_sales.html', 'meetoo_3.0.jpg'),\n ('meetoo_3.1_sales.html', 'theme.css')]"
     ]
    }
   ],
   "source": [
    "afilesRDD2 = afilesRDD.flatMapValues(lambda x: x.split(\",\"))\n",
    "afilesRDD2.take(10)"
   ]
  },
  {
   "cell_type": "code",
   "execution_count": 0,
   "metadata": {
    "application/vnd.databricks.v1+cell": {
     "cellMetadata": {
      "byteLimit": 2048000,
      "rowLimit": 10000
     },
     "inputWidgets": {},
     "nuid": "1474dbec-4e7b-418e-9f7c-5f45003f3bc3",
     "showTitle": false,
     "tableResultSettingsMap": {},
     "title": ""
    }
   },
   "outputs": [
    {
     "output_type": "stream",
     "name": "stdout",
     "output_type": "stream",
     "text": [
      "+------------------------+-----------------+\n|web_page_num            |associated_file  |\n+------------------------+-----------------+\n|sorrento_f00l_sales.html|theme.css        |\n|sorrento_f00l_sales.html|code.js          |\n|sorrento_f00l_sales.html|sorrento_f00l.jpg|\n|titanic_2100_sales.html |theme.css        |\n|titanic_2100_sales.html |code.js          |\n+------------------------+-----------------+\nonly showing top 5 rows\n\n"
     ]
    }
   ],
   "source": [
    "afileDF = afilesRDD2.toDF( [\"web_page_num\" , \"associated_file\"] )\n",
    "afileDF.show(5 , truncate = False)"
   ]
  },
  {
   "cell_type": "code",
   "execution_count": 0,
   "metadata": {
    "application/vnd.databricks.v1+cell": {
     "cellMetadata": {
      "byteLimit": 2048000,
      "rowLimit": 10000
     },
     "inputWidgets": {},
     "nuid": "0613691b-25bc-4adb-a929-02512302dbba",
     "showTitle": false,
     "tableResultSettingsMap": {},
     "title": ""
    }
   },
   "outputs": [
    {
     "output_type": "stream",
     "name": "stdout",
     "output_type": "stream",
     "text": [
      "+-------------------------------+------------------------+\n|web_page_num                   |associated_file         |\n+-------------------------------+------------------------+\n|sorrento_f00l_sales.html       |sorrento_f00l.jpg       |\n|titanic_2100_sales.html        |titanic_2100.jpg        |\n|meetoo_3.0_sales.html          |meetoo_3.0.jpg          |\n|meetoo_3.1_sales.html          |meetoo_3.1.jpg          |\n|ifruit_1_sales.html            |ifruit_1.jpg            |\n|ifruit_3_sales.html            |ifruit_3.jpg            |\n|ifruit_2_sales.html            |ifruit_2.jpg            |\n|ifruit_5_sales.html            |ifruit_5.jpg            |\n|titanic_1000_sales.html        |titanic_1000.jpg        |\n|meetoo_1.0_sales.html          |meetoo_1.0.jpg          |\n|sorrento_f21l_sales.html       |sorrento_f21l.jpg       |\n|ifruit_4_sales.html            |ifruit_4.jpg            |\n|sorrento_f23l_sales.html       |sorrento_f23l.jpg       |\n|titanic_2200_sales.html        |titanic_2200.jpg        |\n|ronin_novelty_note_1_sales.html|ronin_novelty_note_1.jpg|\n+-------------------------------+------------------------+\nonly showing top 15 rows\n\n"
     ]
    }
   ],
   "source": [
    "afileDF_jpg = afileDF.filter(afileDF.associated_file.like(\"%.jpg\"))\n",
    "afileDF_jpg.show(15 , truncate = False)"
   ]
  },
  {
   "cell_type": "code",
   "execution_count": 0,
   "metadata": {
    "application/vnd.databricks.v1+cell": {
     "cellMetadata": {
      "byteLimit": 2048000,
      "rowLimit": 10000
     },
     "inputWidgets": {},
     "nuid": "45675a05-3334-49e6-bb2f-9a4c1d8b43a4",
     "showTitle": false,
     "tableResultSettingsMap": {},
     "title": ""
    }
   },
   "outputs": [
    {
     "output_type": "stream",
     "name": "stdout",
     "output_type": "stream",
     "text": [
      "Out[17]: [FileInfo(path='dbfs:/FileStore/tables/account-models/', name='account-models/', size=0, modificationTime=0),\n FileInfo(path='dbfs:/FileStore/tables/accounts/', name='accounts/', size=0, modificationTime=0),\n FileInfo(path='dbfs:/FileStore/tables/accounts.zip', name='accounts.zip', size=5297592, modificationTime=1738257353000),\n FileInfo(path='dbfs:/FileStore/tables/activations/', name='activations/', size=0, modificationTime=0),\n FileInfo(path='dbfs:/FileStore/tables/activations.zip', name='activations.zip', size=8411369, modificationTime=1738254367000),\n FileInfo(path='dbfs:/FileStore/tables/logs/', name='logs/', size=0, modificationTime=0),\n FileInfo(path='dbfs:/FileStore/tables/logs.zip', name='logs.zip', size=18168065, modificationTime=1738257359000),\n FileInfo(path='dbfs:/FileStore/tables/test-1.json', name='test-1.json', size=17958, modificationTime=1737563304000),\n FileInfo(path='dbfs:/FileStore/tables/test-2.json', name='test-2.json', size=17958, modificationTime=1737563665000),\n FileInfo(path='dbfs:/FileStore/tables/test-3.json', name='test-3.json', size=17958, modificationTime=1737578276000),\n FileInfo(path='dbfs:/FileStore/tables/test.json', name='test.json', size=17958, modificationTime=1737563170000),\n FileInfo(path='dbfs:/FileStore/tables/webpage/', name='webpage/', size=0, modificationTime=0),\n FileInfo(path='dbfs:/FileStore/tables/webpage.zip', name='webpage.zip', size=1582, modificationTime=1738774537000),\n FileInfo(path='dbfs:/FileStore/tables/webpage_files_all/', name='webpage_files_all/', size=0, modificationTime=0),\n FileInfo(path='dbfs:/FileStore/tables/webpage_files_jpg/', name='webpage_files_jpg/', size=0, modificationTime=0)]"
     ]
    }
   ],
   "source": [
    "afileDF.write.save(\"/FileStore/tables/webpage_files_all\")\n",
    "afileDF_jpg.write.save(\"/FileStore/tables/webpage_files_jpg\")\n",
    "dbutils.fs.ls(\"/FileStore/tables/\")"
   ]
  }
 ],
 "metadata": {
  "application/vnd.databricks.v1+notebook": {
   "computePreferences": null,
   "dashboards": [],
   "environmentMetadata": {
    "base_environment": "",
    "client": "1"
   },
   "language": "python",
   "notebookMetadata": {
    "pythonIndentUnit": 4
   },
   "notebookName": "Week 04 Notebook 2025-02-05 16:54:35",
   "widgets": {}
  }
 },
 "nbformat": 4,
 "nbformat_minor": 0
}
