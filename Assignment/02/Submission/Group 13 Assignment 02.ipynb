{
 "cells": [
  {
   "cell_type": "markdown",
   "metadata": {
    "application/vnd.databricks.v1+cell": {
     "cellMetadata": {
      "byteLimit": 2048000,
      "rowLimit": 10000
     },
     "inputWidgets": {},
     "nuid": "bc4f1e5b-96d4-4ea2-978e-c07a09717070",
     "showTitle": false,
     "tableResultSettingsMap": {},
     "title": ""
    }
   },
   "source": [
    "### Loading Data"
   ]
  },
  {
   "cell_type": "markdown",
   "metadata": {
    "application/vnd.databricks.v1+cell": {
     "cellMetadata": {},
     "inputWidgets": {},
     "nuid": "d31306c7-4253-49e8-af25-ae82eacd1f6b",
     "showTitle": false,
     "tableResultSettingsMap": {},
     "title": ""
    }
   },
   "source": [
    "This code snippet is used to read a CSV file named emails.csv located in the /FileStore/tables/emails directory using Apache Spark. The dbutils.fs.ls() function lists the files in the specified directory, while the spark.read.csv() function reads the CSV file into a DataFrame, taking parameters such as path, header=True, inferSchema=True, quote='\"', escape='\"', and multiLine=True, which specify the file path, column naming, data type inference, quoting, escaping, and multi-line handling, respectively."
   ]
  },
  {
   "cell_type": "code",
   "execution_count": 0,
   "metadata": {
    "application/vnd.databricks.v1+cell": {
     "cellMetadata": {
      "byteLimit": 2048000,
      "rowLimit": 10000
     },
     "inputWidgets": {},
     "nuid": "bd0625c4-dfaf-41a4-9eae-50ce3efb31e0",
     "showTitle": false,
     "tableResultSettingsMap": {},
     "title": ""
    }
   },
   "outputs": [
    {
     "output_type": "stream",
     "name": "stdout",
     "output_type": "stream",
     "text": [
      "Out[1]: [FileInfo(path='dbfs:/FileStore/tables/emails/emails.csv', name='emails.csv', size=1426122219, modificationTime=1738864351000),\n FileInfo(path='dbfs:/FileStore/tables/emails/parsed_message.csv/', name='parsed_message.csv/', size=0, modificationTime=0),\n FileInfo(path='dbfs:/FileStore/tables/emails/stopwords.txt', name='stopwords.txt', size=622, modificationTime=1738936718000)]"
     ]
    }
   ],
   "source": [
    "dbutils.fs.ls(\"/FileStore/tables/emails\")"
   ]
  },
  {
   "cell_type": "code",
   "execution_count": 0,
   "metadata": {
    "application/vnd.databricks.v1+cell": {
     "cellMetadata": {
      "byteLimit": 2048000,
      "rowLimit": 10000
     },
     "inputWidgets": {},
     "nuid": "86309353-a31c-47e0-a081-55dc9d247099",
     "showTitle": false,
     "tableResultSettingsMap": {},
     "title": ""
    }
   },
   "outputs": [],
   "source": [
    "df = spark.read.csv(\n",
    "    \"/FileStore/tables/emails/emails.csv\",\n",
    "    header=True, \n",
    "    inferSchema=True, \n",
    "    quote='\"', \n",
    "    escape='\"', \n",
    "    multiLine=True \n",
    ")"
   ]
  },
  {
   "cell_type": "markdown",
   "metadata": {
    "application/vnd.databricks.v1+cell": {
     "cellMetadata": {
      "byteLimit": 2048000,
      "rowLimit": 10000
     },
     "inputWidgets": {},
     "nuid": "833542ae-3412-411e-92d2-0c07387ab88c",
     "showTitle": false,
     "tableResultSettingsMap": {},
     "title": ""
    }
   },
   "source": [
    "### Data Expolration"
   ]
  },
  {
   "cell_type": "code",
   "execution_count": 0,
   "metadata": {
    "application/vnd.databricks.v1+cell": {
     "cellMetadata": {
      "byteLimit": 2048000,
      "rowLimit": 10000
     },
     "inputWidgets": {},
     "nuid": "fa17a4ee-8233-4409-8964-d94fd7ee6d14",
     "showTitle": false,
     "tableResultSettingsMap": {},
     "title": ""
    }
   },
   "outputs": [
    {
     "output_type": "stream",
     "name": "stdout",
     "output_type": "stream",
     "text": [
      "Header:\n['file', 'message']\n"
     ]
    }
   ],
   "source": [
    "print(\"Header:\")\n",
    "print(df.columns)"
   ]
  },
  {
   "cell_type": "code",
   "execution_count": 0,
   "metadata": {
    "application/vnd.databricks.v1+cell": {
     "cellMetadata": {
      "byteLimit": 2048000,
      "rowLimit": 10000
     },
     "inputWidgets": {},
     "nuid": "6b08179d-fb76-4250-936f-c66a4bc44249",
     "showTitle": false,
     "tableResultSettingsMap": {},
     "title": ""
    }
   },
   "outputs": [
    {
     "output_type": "stream",
     "name": "stdout",
     "output_type": "stream",
     "text": [
      "\nFirst few email messages:\n+------------------------+-------------------------------------------------------------------------------------------------------------------------------------------------------------------------------------------------------------------------------------------------------------------------------------------------------------------------------------------------------------------------------------------------------------------------------------------------------------------------------------------------------------------------------------------------------------------------------------------------------------------------------------------------------------------------------------------------------------------------------------------------------------------------------------------------------------------------------------------------------------------------------------------------------------------------------------------------------------------------------------------------------------------------------------------------------------------------------------------------------------------------------------------------------------------------------------------------------------------------------------------------------------------------------------------------------------------------------------------------+\n|file                    |message                                                                                                                                                                                                                                                                                                                                                                                                                                                                                                                                                                                                                                                                                                                                                                                                                                                                                                                                                                                                                                                                                                                                                                                                                                                                                                                                          |\n+------------------------+-------------------------------------------------------------------------------------------------------------------------------------------------------------------------------------------------------------------------------------------------------------------------------------------------------------------------------------------------------------------------------------------------------------------------------------------------------------------------------------------------------------------------------------------------------------------------------------------------------------------------------------------------------------------------------------------------------------------------------------------------------------------------------------------------------------------------------------------------------------------------------------------------------------------------------------------------------------------------------------------------------------------------------------------------------------------------------------------------------------------------------------------------------------------------------------------------------------------------------------------------------------------------------------------------------------------------------------------------+\n|allen-p/_sent_mail/1.   |Message-ID: <18782981.1075855378110.JavaMail.evans@thyme>\\nDate: Mon, 14 May 2001 16:39:00 -0700 (PDT)\\nFrom: phillip.allen@enron.com\\nTo: tim.belden@enron.com\\nSubject: \\nMime-Version: 1.0\\nContent-Type: text/plain; charset=us-ascii\\nContent-Transfer-Encoding: 7bit\\nX-From: Phillip K Allen\\nX-To: Tim Belden <Tim Belden/Enron@EnronXGate>\\nX-cc: \\nX-bcc: \\nX-Folder: \\Phillip_Allen_Jan2002_1\\Allen, Phillip K.\\'Sent Mail\\nX-Origin: Allen-P\\nX-FileName: pallen (Non-Privileged).pst\\n\\nHere is our forecast\\n\\n                                                                                                                                                                                                                                                                                                                                                                                                                                                                                                                                                                                                                                                                                                                                                                                                                    |\n|allen-p/_sent_mail/10.  |Message-ID: <15464986.1075855378456.JavaMail.evans@thyme>\\nDate: Fri, 4 May 2001 13:51:00 -0700 (PDT)\\nFrom: phillip.allen@enron.com\\nTo: john.lavorato@enron.com\\nSubject: Re:\\nMime-Version: 1.0\\nContent-Type: text/plain; charset=us-ascii\\nContent-Transfer-Encoding: 7bit\\nX-From: Phillip K Allen\\nX-To: John J Lavorato <John J Lavorato/ENRON@enronXgate@ENRON>\\nX-cc: \\nX-bcc: \\nX-Folder: \\Phillip_Allen_Jan2002_1\\Allen, Phillip K.\\'Sent Mail\\nX-Origin: Allen-P\\nX-FileName: pallen (Non-Privileged).pst\\n\\nTraveling to have a business meeting takes the fun out of the trip.  Especially if you have to prepare a presentation.  I would suggest holding the business plan meetings here then take a trip without any formal business meetings.  I would even try and get some honest opinions on whether a trip is even desired or necessary.\\n\\nAs far as the business meetings, I think it would be more productive to try and stimulate discussions across the different groups about what is working and what is not.  Too often the presenter speaks and the others are quiet just waiting for their turn.   The meetings might be better if held in a round table discussion format.  \\n\\nMy suggestion for where to go is Austin.  Play golf and rent a ski boat and jet ski's.  Flying somewhere takes too much time.\\n|\n|allen-p/_sent_mail/100. |Message-ID: <24216240.1075855687451.JavaMail.evans@thyme>\\nDate: Wed, 18 Oct 2000 03:00:00 -0700 (PDT)\\nFrom: phillip.allen@enron.com\\nTo: leah.arsdall@enron.com\\nSubject: Re: test\\nMime-Version: 1.0\\nContent-Type: text/plain; charset=us-ascii\\nContent-Transfer-Encoding: 7bit\\nX-From: Phillip K Allen\\nX-To: Leah Van Arsdall\\nX-cc: \\nX-bcc: \\nX-Folder: \\Phillip_Allen_Dec2000\\Notes Folders\\'sent mail\\nX-Origin: Allen-P\\nX-FileName: pallen.nsf\\n\\ntest successful.  way to go!!!                                                                                                                                                                                                                                                                                                                                                                                                                                                                                                                                                                                                                                                                                                                                                                                                                                                   |\n|allen-p/_sent_mail/1000.|Message-ID: <13505866.1075863688222.JavaMail.evans@thyme>\\nDate: Mon, 23 Oct 2000 06:13:00 -0700 (PDT)\\nFrom: phillip.allen@enron.com\\nTo: randall.gay@enron.com\\nSubject: \\nMime-Version: 1.0\\nContent-Type: text/plain; charset=us-ascii\\nContent-Transfer-Encoding: 7bit\\nX-From: Phillip K Allen\\nX-To: Randall L Gay\\nX-cc: \\nX-bcc: \\nX-Folder: \\Phillip_Allen_Dec2000\\Notes Folders\\'sent mail\\nX-Origin: Allen-P\\nX-FileName: pallen.nsf\\n\\nRandy,\\n\\n Can you send me a schedule of the salary and level of everyone in the \\nscheduling group.  Plus your thoughts on any changes that need to be made.  \\n(Patti S for example)\\n\\nPhillip                                                                                                                                                                                                                                                                                                                                                                                                                                                                                                                                                                                                                                                                                            |\n|allen-p/_sent_mail/1001.|Message-ID: <30922949.1075863688243.JavaMail.evans@thyme>\\nDate: Thu, 31 Aug 2000 05:07:00 -0700 (PDT)\\nFrom: phillip.allen@enron.com\\nTo: greg.piper@enron.com\\nSubject: Re: Hello\\nMime-Version: 1.0\\nContent-Type: text/plain; charset=us-ascii\\nContent-Transfer-Encoding: 7bit\\nX-From: Phillip K Allen\\nX-To: Greg Piper\\nX-cc: \\nX-bcc: \\nX-Folder: \\Phillip_Allen_Dec2000\\Notes Folders\\'sent mail\\nX-Origin: Allen-P\\nX-FileName: pallen.nsf\\n\\nLet's shoot for Tuesday at 11:45.                                                                                                                                                                                                                                                                                                                                                                                                                                                                                                                                                                                                                                                                                                                                                                                                                                                       |\n+------------------------+-------------------------------------------------------------------------------------------------------------------------------------------------------------------------------------------------------------------------------------------------------------------------------------------------------------------------------------------------------------------------------------------------------------------------------------------------------------------------------------------------------------------------------------------------------------------------------------------------------------------------------------------------------------------------------------------------------------------------------------------------------------------------------------------------------------------------------------------------------------------------------------------------------------------------------------------------------------------------------------------------------------------------------------------------------------------------------------------------------------------------------------------------------------------------------------------------------------------------------------------------------------------------------------------------------------------------------------------------+\nonly showing top 5 rows\n\n"
     ]
    }
   ],
   "source": [
    "print(\"\\nFirst few email messages:\")\n",
    "df.show(5, truncate=False)"
   ]
  },
  {
   "cell_type": "markdown",
   "metadata": {
    "application/vnd.databricks.v1+cell": {
     "cellMetadata": {
      "byteLimit": 2048000,
      "rowLimit": 10000
     },
     "inputWidgets": {},
     "nuid": "3e226d5e-3a3e-4959-b187-7363ea123474",
     "showTitle": false,
     "tableResultSettingsMap": {},
     "title": ""
    }
   },
   "source": [
    "### Parsing Emails"
   ]
  },
  {
   "cell_type": "markdown",
   "metadata": {
    "application/vnd.databricks.v1+cell": {
     "cellMetadata": {},
     "inputWidgets": {},
     "nuid": "08186a80-ea8f-4c10-850d-d0b46a440f5d",
     "showTitle": false,
     "tableResultSettingsMap": {},
     "title": ""
    }
   },
   "source": [
    "This code defines a schema for a Spark DataFrame to store email data and a Python function parse_email to extract relevant information from a raw email message.\n",
    "The schema includes columns for various email headers and the email body. The parse_email function uses regular expressions to extract the values of these headers and the body from the raw email message, and returns a dictionary containing the extracted data."
   ]
  },
  {
   "cell_type": "code",
   "execution_count": 0,
   "metadata": {
    "application/vnd.databricks.v1+cell": {
     "cellMetadata": {
      "byteLimit": 2048000,
      "rowLimit": 10000
     },
     "inputWidgets": {},
     "nuid": "7883961d-aa80-4b0e-b179-7c0768a70918",
     "showTitle": false,
     "tableResultSettingsMap": {},
     "title": ""
    }
   },
   "outputs": [],
   "source": [
    "from pyspark.sql.functions import udf\n",
    "from pyspark.sql.types import StructType, StructField, StringType\n",
    "\n",
    "schema = StructType([\n",
    "    StructField('Message-ID', StringType(), True),\n",
    "    StructField('Date', StringType(), True),\n",
    "    StructField('From', StringType(), True),\n",
    "    StructField('To', StringType(), True),\n",
    "    StructField('Subject', StringType(), True),\n",
    "    StructField('Mime-Version', StringType(), True),\n",
    "    StructField('Content-Type', StringType(), True),\n",
    "    StructField('Content-Transfer-Encoding', StringType(), True),\n",
    "    StructField('X-From', StringType(), True),\n",
    "    StructField('X-To', StringType(), True),\n",
    "    StructField('X-cc', StringType(), True),\n",
    "    StructField('X-bcc', StringType(), True),\n",
    "    StructField('X-Folder', StringType(), True),\n",
    "    StructField('X-Origin', StringType(), True),\n",
    "    StructField('X-FileName', StringType(), True),\n",
    "    StructField('Body', StringType(), True)\n",
    "])\n"
   ]
  },
  {
   "cell_type": "code",
   "execution_count": 0,
   "metadata": {
    "application/vnd.databricks.v1+cell": {
     "cellMetadata": {
      "byteLimit": 2048000,
      "rowLimit": 10000
     },
     "inputWidgets": {},
     "nuid": "f05a8530-6f0b-45e6-a5f1-591f71f46c08",
     "showTitle": false,
     "tableResultSettingsMap": {},
     "title": ""
    }
   },
   "outputs": [],
   "source": [
    "import re\n",
    "\n",
    "def parse_email(message):\n",
    "    \n",
    "    parsed_message = {}\n",
    "    \n",
    "    match = re.search(r'Message-ID: <(.+)>', message)\n",
    "    if match:\n",
    "        parsed_message['Message-ID'] = match.group(1)\n",
    "    \n",
    "    match = re.search(r'Date: (.+)', message)\n",
    "    if match:\n",
    "        parsed_message['Date'] = match.group(1)\n",
    "    \n",
    "    match = re.search(r'From: (.+)', message)\n",
    "    if match:\n",
    "        parsed_message['From'] = match.group(1)\n",
    "    \n",
    "    match = re.search(r'To: (.+)', message)\n",
    "    if match:\n",
    "        parsed_message['To'] = match.group(1)\n",
    "    \n",
    "    match = re.search(r'Subject: (.+)', message)\n",
    "    if match:\n",
    "        parsed_message['Subject'] = match.group(1)\n",
    "    \n",
    "    match = re.search(r'Mime-Version: (.+)', message)\n",
    "    if match:\n",
    "        parsed_message['Mime-Version'] = match.group(1)\n",
    "    \n",
    "    match = re.search(r'Content-Type: (.+)', message)\n",
    "    if match:\n",
    "        parsed_message['Content-Type'] = match.group(1)\n",
    "    \n",
    "    match = re.search(r'Content-Transfer-Encoding: (.+)', message)\n",
    "    if match:\n",
    "        parsed_message['Content-Transfer-Encoding'] = match.group(1)\n",
    "    \n",
    "    match = re.search(r'X-From: (.+)', message)\n",
    "    if match:\n",
    "        parsed_message['X-From'] = match.group(1)\n",
    "    \n",
    "    match = re.search(r'X-To: (.+)', message)\n",
    "    if match:\n",
    "        parsed_message['X-To'] = match.group(1)\n",
    "    \n",
    "    match = re.search(r'X-cc: (.+)', message)\n",
    "    if match:\n",
    "        parsed_message['X-cc'] = match.group(1)\n",
    "    \n",
    "    match = re.search(r'X-bcc: (.+)', message)\n",
    "    if match:\n",
    "        parsed_message['X-bcc'] = match.group(1)\n",
    "    \n",
    "    match = re.search(r'X-Folder: (.+)', message)\n",
    "    if match:\n",
    "        parsed_message['X-Folder'] = match.group(1)\n",
    "    \n",
    "    match = re.search(r'X-Origin: (.+)', message)\n",
    "    if match:\n",
    "        parsed_message['X-Origin'] = match.group(1)\n",
    "    \n",
    "    match = re.search(r'X-FileName: (.+)', message)\n",
    "    if match:\n",
    "        parsed_message['X-FileName'] = match.group(1)\n",
    "    \n",
    "    match = re.search(r'\\n\\n(.+)', message, re.DOTALL)\n",
    "    if match:\n",
    "        parsed_message['Body'] = match.group(1)\n",
    "    \n",
    "    return parsed_message\n"
   ]
  },
  {
   "cell_type": "markdown",
   "metadata": {
    "application/vnd.databricks.v1+cell": {
     "cellMetadata": {
      "byteLimit": 2048000,
      "rowLimit": 10000
     },
     "inputWidgets": {},
     "nuid": "12635d92-6adc-4005-9254-bb87133d1dc1",
     "showTitle": false,
     "tableResultSettingsMap": {},
     "title": ""
    }
   },
   "source": [
    "### Restructuring Data"
   ]
  },
  {
   "cell_type": "markdown",
   "metadata": {
    "application/vnd.databricks.v1+cell": {
     "cellMetadata": {},
     "inputWidgets": {},
     "nuid": "95327278-55bb-4eb2-8c17-9ef323cb98a8",
     "showTitle": false,
     "tableResultSettingsMap": {},
     "title": ""
    }
   },
   "source": [
    "This code defines a Spark UDF (User-Defined Function) parse_email_udf that applies the parse_email function to each row in the message column of a DataFrame.\n",
    "It then uses this UDF to create a new column parsed_message in the DataFrame df, which contains the parsed email data. The code then selects specific columns from the resulting DataFrame, renames them to remove the parsed_message. prefix, and finally displays the resulting DataFrame using show() and prints its column names."
   ]
  },
  {
   "cell_type": "code",
   "execution_count": 0,
   "metadata": {
    "application/vnd.databricks.v1+cell": {
     "cellMetadata": {
      "byteLimit": 2048000,
      "rowLimit": 10000
     },
     "inputWidgets": {},
     "nuid": "65aaec33-cc43-457b-acf7-cca75e66925d",
     "showTitle": false,
     "tableResultSettingsMap": {},
     "title": ""
    }
   },
   "outputs": [],
   "source": [
    "\n",
    "parse_email_udf = udf(parse_email, schema)\n",
    "\n",
    "df_with_parsed_message = df.withColumn('parsed_message', parse_email_udf('message'))\n",
    "\n",
    "df_with_parsed_message = df_with_parsed_message.select(\n",
    "    'file',\n",
    "    'parsed_message.Message-ID',\n",
    "    'parsed_message.Date',\n",
    "    'parsed_message.From',\n",
    "    'parsed_message.To',\n",
    "    'parsed_message.Subject',\n",
    "    'parsed_message.Mime-Version',\n",
    "    'parsed_message.Content-Type',\n",
    "    'parsed_message.Content-Transfer-Encoding',\n",
    "    'parsed_message.X-From',\n",
    "    'parsed_message.X-To',\n",
    "    'parsed_message.X-cc',\n",
    "    'parsed_message.X-bcc',\n",
    "    'parsed_message.X-Folder',\n",
    "    'parsed_message.X-Origin',\n",
    "    'parsed_message.X-FileName',\n",
    "    'parsed_message.Body'\n",
    ")\n",
    "\n",
    "df_with_parsed_message = df_with_parsed_message.withColumnRenamed('parsed_message.Message-ID', 'Message-ID') \\\n",
    "    .withColumnRenamed('parsed_message.Date', 'Date') \\\n",
    "    .withColumnRenamed('parsed_message.From', 'From') \\\n",
    "    .withColumnRenamed('parsed_message.To', 'To') \\\n",
    "    .withColumnRenamed('parsed_message.Subject', 'Subject') \\\n",
    "    .withColumnRenamed('parsed_message.Mime-Version', 'Mime-Version') \\\n",
    "    .withColumnRenamed('parsed_message.Content-Type', 'Content-Type') \\\n",
    "    .withColumnRenamed('parsed_message.Content-Transfer-Encoding', 'Content-Transfer-Encoding') \\\n",
    "    .withColumnRenamed('parsed_message.X-From', 'X-From') \\\n",
    "    .withColumnRenamed('parsed_message.X-To', 'X-To') \\\n",
    "    .withColumnRenamed('parsed_message.X-cc', 'X-cc') \\\n",
    "    .withColumnRenamed('parsed_message.X-bcc', 'X-bcc') \\\n",
    "    .withColumnRenamed('parsed_message.X-Folder', 'X-Folder') \\\n",
    "    .withColumnRenamed('parsed_message.X-Origin', 'X-Origin') \\\n",
    "    .withColumnRenamed('parsed_message.X-FileName', 'X-FileName') \\\n",
    "    .withColumnRenamed('parsed_message.Body', 'Body')\n"
   ]
  },
  {
   "cell_type": "code",
   "execution_count": 0,
   "metadata": {
    "application/vnd.databricks.v1+cell": {
     "cellMetadata": {
      "byteLimit": 2048000,
      "rowLimit": 10000
     },
     "inputWidgets": {},
     "nuid": "5a496bea-96a2-43ec-b769-eab8fde2ca3e",
     "showTitle": false,
     "tableResultSettingsMap": {},
     "title": ""
    }
   },
   "outputs": [
    {
     "output_type": "stream",
     "name": "stdout",
     "output_type": "stream",
     "text": [
      "+------------------------+-------------------------------------------+-------------------------------------+-----------------------+------------------------------------------------+-----------------------------------------------------------+------------+----------------------------+-------------------------+---------------+--------------------------------------------------------+----+-----+-----------------------------------------------------+--------+---------------------------+-----------------------------------------------------------------------------------------------------------------------------------------------------------------------------------------------------------------------------------------------------------------------------------------------------------------------------------------------------------------------------------------------------------------------------------------------------------------------------------------------------------------------------------------------------------------------------------------------------------------------------------------------------------------------------------------------------------------------------------------------------------------------------------------------------------------------------------------------------------------------------------------------------------------------------------------------------------------------------------------------------------------------------------------------------------------------------------------------------------------------------------------------------------------------------------------------------------------------------------------------------------------------------------------------------------------------------------------------------------------------------------------------------------------------------------------------------------------------------------------------------------------------------------------------------------------------------------------------------------------------------------------------------------------------------------------------------------------------------------------------------------------------------------------------------------------------------------------------------------------------------------------------------------------------------------------------------------------------------------------------------------------------------------------------------------------------------------------------------------------------------------------------------------------------------------------------------------------------------------------------------------------------------------------------------------------------------------------------------------------------------------------------------------------------------------------------------------------------------------------------------------------------------------------------------------------------------------------------------------------------------------------------------------------------------------------------------------------------------------------------------------------------------------------------------------------------------------------------------------------------------------------------------------------------------------------------------------------------------------------------------------------------------------------------------------------------------------------------------------------------------------------------------------------------------------------------------------------------------------------------------------------------------------------------------------------------------------------------------------------------------------------------------------------------------------------------------------------------------------------------------------------------------------------------------------------------------------------------------------------------------------------------------------------------------------------------------------------------------------------------------------------------------------------------------------------------------------------------------------------------------------------------------------------------------------------------------------------------------------------------------------------------------------------------------------------------------------------------------------------------------------------------------------------------------------------------------------------------------------------------------------------------------------------------------------------------------------------------------------------------------------------------------------------------------------------------------------------------------------------------------------------------------------------------------------------------------------------------------------------------------------------------------------------------------------------------------------------------------------------------------------------------------------------------------------------------------------------------------------------------------------------------------------------------------------------------------------------------------------------------------------------------------------------------------------------------------------------------------------------------------------------------------------------------------------------------------------------------------------------------------------------------------------------------------------------------------------------------------------------------------------------------------------------------------------------------------------------------------------------------------------------------------------------------------------------------------------------------------------------------------------------------------------------------------------------------------------------------------------------------------------------------------------------------------------------------------------------------------------------------------------------------------------------------------------------------------------------------------------------------------------------------------------------------+\n|file                    |Message-ID                                 |Date                                 |From                   |To                                              |Subject                                                    |Mime-Version|Content-Type                |Content-Transfer-Encoding|X-From         |X-To                                                    |X-cc|X-bcc|X-Folder                                             |X-Origin|X-FileName                 |Body                                                                                                                                                                                                                                                                                                                                                                                                                                                                                                                                                                                                                                                                                                                                                                                                                                                                                                                                                                                                                                                                                                                                                                                                                                                                                                                                                                                                                                                                                                                                                                                                                                                                                                                                                                                                                                                                                                                                                                                                                                                                                                                                                                                                                                                                                                                                                                                                                                                                                                                                                                                                                                                                                                                                                                                                                                                                                                                                                                                                                                                                                                                                                                                                                                                                                                                                                                                                                                                                                                                                                                                                                                                                                                                                                                                                                                                                                                                                                                                                                                                                                                                                                                                                                                                                                                                                                                                                                                                                                                                                                                                                                                                                                                                                                                                                                                                                                                                                                                                                                                                                                                                                                                                                                                                                                                                                                                                                                                                                                                                                                                                                                                                                                                                                                                                                                                                                                                                                                                                                                                           |\n+------------------------+-------------------------------------------+-------------------------------------+-----------------------+------------------------------------------------+-----------------------------------------------------------+------------+----------------------------+-------------------------+---------------+--------------------------------------------------------+----+-----+-----------------------------------------------------+--------+---------------------------+-----------------------------------------------------------------------------------------------------------------------------------------------------------------------------------------------------------------------------------------------------------------------------------------------------------------------------------------------------------------------------------------------------------------------------------------------------------------------------------------------------------------------------------------------------------------------------------------------------------------------------------------------------------------------------------------------------------------------------------------------------------------------------------------------------------------------------------------------------------------------------------------------------------------------------------------------------------------------------------------------------------------------------------------------------------------------------------------------------------------------------------------------------------------------------------------------------------------------------------------------------------------------------------------------------------------------------------------------------------------------------------------------------------------------------------------------------------------------------------------------------------------------------------------------------------------------------------------------------------------------------------------------------------------------------------------------------------------------------------------------------------------------------------------------------------------------------------------------------------------------------------------------------------------------------------------------------------------------------------------------------------------------------------------------------------------------------------------------------------------------------------------------------------------------------------------------------------------------------------------------------------------------------------------------------------------------------------------------------------------------------------------------------------------------------------------------------------------------------------------------------------------------------------------------------------------------------------------------------------------------------------------------------------------------------------------------------------------------------------------------------------------------------------------------------------------------------------------------------------------------------------------------------------------------------------------------------------------------------------------------------------------------------------------------------------------------------------------------------------------------------------------------------------------------------------------------------------------------------------------------------------------------------------------------------------------------------------------------------------------------------------------------------------------------------------------------------------------------------------------------------------------------------------------------------------------------------------------------------------------------------------------------------------------------------------------------------------------------------------------------------------------------------------------------------------------------------------------------------------------------------------------------------------------------------------------------------------------------------------------------------------------------------------------------------------------------------------------------------------------------------------------------------------------------------------------------------------------------------------------------------------------------------------------------------------------------------------------------------------------------------------------------------------------------------------------------------------------------------------------------------------------------------------------------------------------------------------------------------------------------------------------------------------------------------------------------------------------------------------------------------------------------------------------------------------------------------------------------------------------------------------------------------------------------------------------------------------------------------------------------------------------------------------------------------------------------------------------------------------------------------------------------------------------------------------------------------------------------------------------------------------------------------------------------------------------------------------------------------------------------------------------------------------------------------------------------------------------------------------------------------------------------------------------------------------------------------------------------------------------------------------------------------------------------------------------------------------------------------------------------------------------------------------------------------------------------------------------------------------------------------------------------------------------------------------------------------------------------------------------------------------------------------------------------+\n|allen-p/_sent_mail/1.   |18782981.1075855378110.JavaMail.evans@thyme|Mon, 14 May 2001 16:39:00 -0700 (PDT)|phillip.allen@enron.com|tim.belden@enron.com                            |null                                                       |1.0         |text/plain; charset=us-ascii|7bit                     |Phillip K Allen|Tim Belden <Tim Belden/Enron@EnronXGate>                |null|null |\\Phillip_Allen_Jan2002_1\\Allen, Phillip K.\\'Sent Mail|Allen-P |pallen (Non-Privileged).pst|Here is our forecast\\n\\n                                                                                                                                                                                                                                                                                                                                                                                                                                                                                                                                                                                                                                                                                                                                                                                                                                                                                                                                                                                                                                                                                                                                                                                                                                                                                                                                                                                                                                                                                                                                                                                                                                                                                                                                                                                                                                                                                                                                                                                                                                                                                                                                                                                                                                                                                                                                                                                                                                                                                                                                                                                                                                                                                                                                                                                                                                                                                                                                                                                                                                                                                                                                                                                                                                                                                                                                                                                                                                                                                                                                                                                                                                                                                                                                                                                                                                                                                                                                                                                                                                                                                                                                                                                                                                                                                                                                                                                                                                                                                                                                                                                                                                                                                                                                                                                                                                                                                                                                                                                                                                                                                                                                                                                                                                                                                                                                                                                                                                                                                                                                                                                                                                                                                                                                                                                                                                             \n\n*** WARNING: max output size exceeded, skipping output. ***\n\n                                          |1.0         |text/plain; charset=us-ascii|7bit                     |Phillip K Allen|Tim Heizenrader <Tim Heizenrader/Enron@EnronXGate>      |null|null |\\Phillip_Allen_Jan2002_1\\Allen, Phillip K.\\'Sent Mail|Allen-P |pallen (Non-Privileged).pst|Tim,\\n\\nmike grigsby is having problems with accessing the west power site.  Can you please make sure he has an active password.  \\n\\nThank you,\\n\\nPhillip                                                                                                                                                                                                                                                                                                                                                                                                                                                                                                                                                                                                                                                                                                                                                                                                                                                                                                                                                                                                                                                                                                                                                                                                                                                                                                                                                                                                                                                                                                                                                                                                                                                                                                                                                                                                                                                                                                                                                                                                                                                                                                                                                                                                                                                                                                                                                                                                                                                                                                                                                                                                                                                                                                                                                                                                                                                                                                                                                                                                                                                                                                                                                                                                                                                                                                                                                                                                                                                                                                                                                                                                                                                                                                                                                                                                                                                                                                                                                                                                                                                                                                                                                                                                                                                                                                                                                                                                                                                                                                                                                                                                                                                                                                                                                                                                                                                                                                                                                                                                                                                                                                                                                                                                                                                                                                                                                                                                                                                                                                                                                                                                                                                                                                                                                                                                                                                                                    |\n|allen-p/_sent_mail/110. |12759088.1075855687671.JavaMail.evans@thyme|Tue, 3 Oct 2000 09:30:00 -0700 (PDT) |phillip.allen@enron.com|pallen70@hotmail.com                            |Westgate                                                   |1.0         |text/plain; charset=us-ascii|7bit                     |Phillip K Allen|pallen70@hotmail.com                                    |null|null |\\Phillip_Allen_Dec2000\\Notes Folders\\'sent mail      |Allen-P |pallen.nsf                 |---------------------- Forwarded by Phillip K Allen/HOU/ECT on 10/03/2000 \\n04:30 PM ---------------------------\\n\\n\\n\"George Richards\" <cbpres@austin.rr.com> on 10/03/2000 06:35:56 AM\\nPlease respond to <cbpres@austin.rr.com>\\nTo: \"Phillip Allen\" <pallen@enron.com>\\ncc: \"Larry Lewter\" <retwell@mail.sanmarcos.net> \\nSubject: Westgate\\n\\n\\nWestgate\\n\\nEnclosed are demographics on the Westgate site from Investor's Alliance.\\nInvestor's Alliance says that these demographics are similar to the package\\non San Marcos that you received earlier.\\nIf there are any other questions or information requirements, let me know.\\nThen, let me know your interest level in the Westgate project?\\n\\nSan Marcos\\nThe property across the street from the Sagewood units in San Marcos is for\\nsale and approved for 134 units.  The land is selling for $2.50 per square\\nfoot as it is one of only two remaining approved multifamily parcels in West\\nSan Marcos, which now has a moratorium on development.\\n\\nSeveral new studies we have looked at show that the rents for our duplexes\\nand for these new units are going to be significantly higher, roughly $1.25\\nper square foot if leased for the entire unit on a 12-month lease and\\n$1.30-$1.40 psf if leased on a 12-month term, but by individual room.  This\\nproperty will have the best location for student housing of all new\\nprojects, just as the duplexes do now.\\n\\nIf this project is of serious interest to you, please let me know as there\\nis a very, very short window of opportunity.  The equity requirement is not\\nyet known, but it would be likely to be $300,000 to secure the land.  I will\\nknow more on this question later today.\\n\\nSincerely,\\n\\nGeorge W. Richards\\nPresident, Creekside Builders, LLC\\n\\n\\n - winmail.dat\\n                                                                                                                                                                                                                                                                                                                                                                                                                                                                                                                                                                                                                                                                                                                                                                                                                                                                                                                                                                                                                                                                                                                                                                                                                                                                                                                                                                                                                                                                                                                                                                                                                                                                                                                                                                                                                                                                                                                                                                                                                                                                                                                                                                                                                                                                                                                                                                                                                                                                                                                                                                                                                                                                                                                                                                                                                                                                                                                                                                                                                                                                                                                                                                                                                                                                                                                                                                                                                                                                                                                                                                                                                                                                                                                                                                                                                                                                                                                                                                                                                                                                                                                                                                                                          |\n|allen-p/_sent_mail/111. |29177675.1075855687692.JavaMail.evans@thyme|Tue, 3 Oct 2000 09:15:00 -0700 (PDT) |phillip.allen@enron.com|ina.rangel@enron.com                            |Meeting re: Storage Strategies in the West                 |1.0         |text/plain; charset=us-ascii|7bit                     |Phillip K Allen|Ina Rangel                                              |null|null |\\Phillip_Allen_Dec2000\\Notes Folders\\'sent mail      |Allen-P |pallen.nsf                 |---------------------- Forwarded by Phillip K Allen/HOU/ECT on 10/03/2000 \\n04:13 PM ---------------------------\\n\\n\\nNancy Hall@ENRON\\n10/02/2000 06:42 AM\\nTo: Mark Whitt/NA/Enron@Enron, Phillip K Allen/HOU/ECT@ECT, Paul T \\nLucci/NA/Enron@Enron, Paul Bieniawski/Corp/Enron@ENRON, Tyrell \\nHarrison/NA/Enron@Enron\\ncc: Jean Mrha/NA/Enron@Enron, Ina Rangel/HOU/ECT@ECT, Monica \\nJackson/Corp/Enron@ENRON \\nSubject: Meeting re: Storage Strategies in the West\\n\\nThere will be a meeting on Tuesday, Oct. 10th at 4:00pm in EB3270 regarding \\nStorage Strategies in the West.  Please mark your calendars.\\n\\nThank you!\\n\\nRegards,\\nNancy Hall\\nENA Denver office\\n303-575-6490\\n                                                                                                                                                                                                                                                                                                                                                                                                                                                                                                                                                                                                                                                                                                                                                                                                                                                                                                                                                                                                                                                                                                                                                                                                                                                                                                                                                                                                                                                                                                                                                                                                                                                                                                                                                                                                                                                                                                                                                                                                                                                                                                                                                                                                                                                                                                                                                                                                                                                                                                                                                                                                                                                                                                                                                                                                                                                                                                                                                                                                                                                                                                                                                                                                                                                                                                                                                                                                                                                                                                                                                                                                                                                                                                                                                                                                                                                                                                                                                                                                                                                                                                                                                                                                                                                                                                                                                                                                                                                                                                                                                                                                                                                                                                                                                                                                                                                                                                                                                                                                                                                                                                                                                                                                                                                                                                                                               |\n+------------------------+-------------------------------------------+-------------------------------------+-----------------------+------------------------------------------------+-----------------------------------------------------------+------------+----------------------------+-------------------------+---------------+--------------------------------------------------------+----+-----+-----------------------------------------------------+--------+---------------------------+-----------------------------------------------------------------------------------------------------------------------------------------------------------------------------------------------------------------------------------------------------------------------------------------------------------------------------------------------------------------------------------------------------------------------------------------------------------------------------------------------------------------------------------------------------------------------------------------------------------------------------------------------------------------------------------------------------------------------------------------------------------------------------------------------------------------------------------------------------------------------------------------------------------------------------------------------------------------------------------------------------------------------------------------------------------------------------------------------------------------------------------------------------------------------------------------------------------------------------------------------------------------------------------------------------------------------------------------------------------------------------------------------------------------------------------------------------------------------------------------------------------------------------------------------------------------------------------------------------------------------------------------------------------------------------------------------------------------------------------------------------------------------------------------------------------------------------------------------------------------------------------------------------------------------------------------------------------------------------------------------------------------------------------------------------------------------------------------------------------------------------------------------------------------------------------------------------------------------------------------------------------------------------------------------------------------------------------------------------------------------------------------------------------------------------------------------------------------------------------------------------------------------------------------------------------------------------------------------------------------------------------------------------------------------------------------------------------------------------------------------------------------------------------------------------------------------------------------------------------------------------------------------------------------------------------------------------------------------------------------------------------------------------------------------------------------------------------------------------------------------------------------------------------------------------------------------------------------------------------------------------------------------------------------------------------------------------------------------------------------------------------------------------------------------------------------------------------------------------------------------------------------------------------------------------------------------------------------------------------------------------------------------------------------------------------------------------------------------------------------------------------------------------------------------------------------------------------------------------------------------------------------------------------------------------------------------------------------------------------------------------------------------------------------------------------------------------------------------------------------------------------------------------------------------------------------------------------------------------------------------------------------------------------------------------------------------------------------------------------------------------------------------------------------------------------------------------------------------------------------------------------------------------------------------------------------------------------------------------------------------------------------------------------------------------------------------------------------------------------------------------------------------------------------------------------------------------------------------------------------------------------------------------------------------------------------------------------------------------------------------------------------------------------------------------------------------------------------------------------------------------------------------------------------------------------------------------------------------------------------------------------------------------------------------------------------------------------------------------------------------------------------------------------------------------------------------------------------------------------------------------------------------------------------------------------------------------------------------------------------------------------------------------------------------------------------------------------------------------------------------------------------------------------------------------------------------------------------------------------------------------------------------------------------------------------------------------------------------------------------------------------------------------------------------+\nonly showing top 20 rows\n\n"
     ]
    }
   ],
   "source": [
    "df_with_parsed_message.show(truncate=False)"
   ]
  },
  {
   "cell_type": "code",
   "execution_count": 0,
   "metadata": {
    "application/vnd.databricks.v1+cell": {
     "cellMetadata": {
      "byteLimit": 2048000,
      "rowLimit": 10000
     },
     "inputWidgets": {},
     "nuid": "374e8bf6-6ba5-4d20-85c9-01f6514554a9",
     "showTitle": false,
     "tableResultSettingsMap": {},
     "title": ""
    }
   },
   "outputs": [
    {
     "output_type": "stream",
     "name": "stdout",
     "output_type": "stream",
     "text": [
      "+--------------------+--------------------+--------------------+--------------------+--------------------+-------+------------+--------------------+-------------------------+---------------+--------------------+----+-----+--------------------+--------+--------------------+--------------------+\n|                file|          Message-ID|                Date|                From|                  To|Subject|Mime-Version|        Content-Type|Content-Transfer-Encoding|         X-From|                X-To|X-cc|X-bcc|            X-Folder|X-Origin|          X-FileName|                Body|\n+--------------------+--------------------+--------------------+--------------------+--------------------+-------+------------+--------------------+-------------------------+---------------+--------------------+----+-----+--------------------+--------+--------------------+--------------------+\n|allen-p/_sent_mai...|18782981.10758553...|Mon, 14 May 2001 ...|phillip.allen@enr...|tim.belden@enron.com|   null|         1.0|text/plain; chars...|                     7bit|Phillip K Allen|Tim Belden <Tim B...|null| null|\\Phillip_Allen_Ja...| Allen-P|pallen (Non-Privi...|Here is our forec...|\n|allen-p/_sent_mai...|15464986.10758553...|Fri, 4 May 2001 1...|phillip.allen@enr...|john.lavorato@enr...|    Re:|         1.0|text/plain; chars...|                     7bit|Phillip K Allen|John J Lavorato <...|null| null|\\Phillip_Allen_Ja...| Allen-P|pallen (Non-Privi...|Traveling to have...|\n+--------------------+--------------------+--------------------+--------------------+--------------------+-------+------------+--------------------+-------------------------+---------------+--------------------+----+-----+--------------------+--------+--------------------+--------------------+\nonly showing top 2 rows\n\n"
     ]
    }
   ],
   "source": [
    "df_with_parsed_message.show(2)"
   ]
  },
  {
   "cell_type": "code",
   "execution_count": 0,
   "metadata": {
    "application/vnd.databricks.v1+cell": {
     "cellMetadata": {
      "byteLimit": 2048000,
      "rowLimit": 10000
     },
     "inputWidgets": {},
     "nuid": "eee1ab7c-2f6d-48b7-893c-ef53c510d466",
     "showTitle": false,
     "tableResultSettingsMap": {},
     "title": ""
    }
   },
   "outputs": [
    {
     "output_type": "stream",
     "name": "stdout",
     "output_type": "stream",
     "text": [
      "Out[10]: ['file',\n 'Message-ID',\n 'Date',\n 'From',\n 'To',\n 'Subject',\n 'Mime-Version',\n 'Content-Type',\n 'Content-Transfer-Encoding',\n 'X-From',\n 'X-To',\n 'X-cc',\n 'X-bcc',\n 'X-Folder',\n 'X-Origin',\n 'X-FileName',\n 'Body']"
     ]
    }
   ],
   "source": [
    "df_with_parsed_message.columns"
   ]
  },
  {
   "cell_type": "markdown",
   "metadata": {
    "application/vnd.databricks.v1+cell": {
     "cellMetadata": {
      "byteLimit": 2048000,
      "rowLimit": 10000
     },
     "inputWidgets": {},
     "nuid": "3b7c3aab-b22c-4242-b999-16e4f0262295",
     "showTitle": false,
     "tableResultSettingsMap": {},
     "title": ""
    }
   },
   "source": [
    "### Saving Data"
   ]
  },
  {
   "cell_type": "markdown",
   "metadata": {
    "application/vnd.databricks.v1+cell": {
     "cellMetadata": {},
     "inputWidgets": {},
     "nuid": "7467e289-bf23-4a0f-a70b-af9024e1cfbe",
     "showTitle": false,
     "tableResultSettingsMap": {},
     "title": ""
    }
   },
   "source": [
    "This line of code writes the df_with_parsed_message DataFrame to a CSV file located at /FileSore/tables/emails/parsed_message.csv. The parameters used are:\n",
    "- header=True: includes the column names as the first row in the CSV file\n",
    "- mode=\"overwrite\": overwrites any existing file at the specified location"
   ]
  },
  {
   "cell_type": "code",
   "execution_count": 0,
   "metadata": {
    "application/vnd.databricks.v1+cell": {
     "cellMetadata": {
      "byteLimit": 2048000,
      "rowLimit": 10000
     },
     "inputWidgets": {},
     "nuid": "5d31df51-ecf2-414e-8939-96e33af2f459",
     "showTitle": false,
     "tableResultSettingsMap": {},
     "title": ""
    }
   },
   "outputs": [],
   "source": [
    "df_with_parsed_message.write.csv(\"/FileStore/tables/emails/parsed_message.csv\", header=True, mode=\"overwrite\")"
   ]
  },
  {
   "cell_type": "markdown",
   "metadata": {
    "application/vnd.databricks.v1+cell": {
     "cellMetadata": {
      "byteLimit": 2048000,
      "rowLimit": 10000
     },
     "inputWidgets": {},
     "nuid": "7d4ac22b-3f70-4f3d-86db-ee89fa50ecc4",
     "showTitle": false,
     "tableResultSettingsMap": {},
     "title": ""
    }
   },
   "source": [
    "### Questions"
   ]
  },
  {
   "cell_type": "markdown",
   "metadata": {
    "application/vnd.databricks.v1+cell": {
     "cellMetadata": {},
     "inputWidgets": {},
     "nuid": "ddf1eb56-98fc-4e61-8fbc-d5d2cf015b4f",
     "showTitle": false,
     "tableResultSettingsMap": {},
     "title": ""
    }
   },
   "source": [
    "@00804635 Mr Sachin . <br> **Easy** <br> \n",
    "1. What is the mean number of emails sent by each sender in the dataset, i.e., the number of emails sent divided by the number of unique senders in the dataset (based on the ‘From’ field)?"
   ]
  },
  {
   "cell_type": "markdown",
   "metadata": {
    "application/vnd.databricks.v1+cell": {
     "cellMetadata": {},
     "inputWidgets": {},
     "nuid": "f534b659-91ee-4a32-a511-6cecb5ea05d4",
     "showTitle": false,
     "tableResultSettingsMap": {},
     "title": ""
    }
   },
   "source": [
    "To calculates key statistics about email senders from the df_with_parsed_statistics DataFrame.\n",
    "\n",
    "- Count the total number of emails (total_emails) by selecting the \"From\" column and applying the count() method.\n",
    "- Count the number of unique email senders (unique_senders) by selecting the \"From\" column and applying the distinct().count() method.\n",
    "- Calculate the mean number of emails sent per sender (mean_emails_per_sender) by dividing the total number of emails by the number of unique senders."
   ]
  },
  {
   "cell_type": "code",
   "execution_count": 0,
   "metadata": {
    "application/vnd.databricks.v1+cell": {
     "cellMetadata": {
      "byteLimit": 2048000,
      "rowLimit": 10000
     },
     "inputWidgets": {},
     "nuid": "7c1ea8df-a147-4f59-8c4b-6fbd00dda2e2",
     "showTitle": false,
     "tableResultSettingsMap": {},
     "title": ""
    }
   },
   "outputs": [],
   "source": [
    "from pyspark.sql import functions as F\n",
    "\n",
    "total_emails = df_with_parsed_message.select(\"From\").count()\n",
    "\n",
    "unique_senders = df_with_parsed_message.select(\"From\").distinct().count()\n",
    "\n",
    "mean_emails_per_sender = total_emails / unique_senders"
   ]
  },
  {
   "cell_type": "code",
   "execution_count": 0,
   "metadata": {
    "application/vnd.databricks.v1+cell": {
     "cellMetadata": {
      "byteLimit": 2048000,
      "rowLimit": 10000
     },
     "inputWidgets": {},
     "nuid": "4e8343c5-fe63-4a71-8699-735dbde6794b",
     "showTitle": false,
     "tableResultSettingsMap": {},
     "title": ""
    }
   },
   "outputs": [
    {
     "output_type": "stream",
     "name": "stdout",
     "output_type": "stream",
     "text": [
      "Mean number of emails per sender: 25.45262691853601\n"
     ]
    }
   ],
   "source": [
    "print(f\"Mean number of emails per sender: {mean_emails_per_sender}\")"
   ]
  },
  {
   "cell_type": "markdown",
   "metadata": {
    "application/vnd.databricks.v1+cell": {
     "cellMetadata": {
      "byteLimit": 2048000,
      "rowLimit": 10000
     },
     "inputWidgets": {},
     "nuid": "1170b856-abae-4f00-9629-866b8f9fe3eb",
     "showTitle": false,
     "tableResultSettingsMap": {},
     "title": ""
    }
   },
   "source": [
    "@00823251 Mr Mohammad Reza Haghighatju <br> **Medium** <br> \n",
    "1. Who are the top 10 senders by number of emails sent (based on the ‘From’ field), along with the number of emails they each sent?"
   ]
  },
  {
   "cell_type": "markdown",
   "metadata": {
    "application/vnd.databricks.v1+cell": {
     "cellMetadata": {},
     "inputWidgets": {},
     "nuid": "e063d6ec-9819-4b1d-af6e-80d84bf95f1d",
     "showTitle": false,
     "tableResultSettingsMap": {},
     "title": ""
    }
   },
   "source": [
    "For identifing the top 10 email senders from the df_with_parsed_message DataFrame.\n",
    "\n",
    "- Filters data to include only valid email addresses in the \"From\" column.\n",
    "- Groups filtered data by the \"From\" column and counts the number of emails sent by each sender.\n",
    "- Sorts the resulting DataFrame in descending order by email count and limits to the top 10 senders."
   ]
  },
  {
   "cell_type": "code",
   "execution_count": 0,
   "metadata": {
    "application/vnd.databricks.v1+cell": {
     "cellMetadata": {
      "byteLimit": 2048000,
      "rowLimit": 10000
     },
     "inputWidgets": {},
     "nuid": "fcb7db22-b4bb-45e2-bb67-cb5a1bcd62f7",
     "showTitle": false,
     "tableResultSettingsMap": {},
     "title": ""
    }
   },
   "outputs": [
    {
     "output_type": "stream",
     "name": "stdout",
     "output_type": "stream",
     "text": [
      "+-----------------------------+-----------+\n|From                         |email_count|\n+-----------------------------+-----------+\n|kay.mann@enron.com           |16735      |\n|vince.kaminski@enron.com     |14368      |\n|jeff.dasovich@enron.com      |11411      |\n|pete.davis@enron.com         |9149       |\n|chris.germany@enron.com      |8801       |\n|sara.shackleton@enron.com    |8777       |\n|enron.announcements@enron.com|8587       |\n|tana.jones@enron.com         |8490       |\n|steven.kean@enron.com        |6759       |\n|kate.symes@enron.com         |5438       |\n+-----------------------------+-----------+\n\n"
     ]
    }
   ],
   "source": [
    "from pyspark.sql.functions import col, count\n",
    "\n",
    "df_filtered = df_with_parsed_message.filter(col(\"From\").isNotNull() & col(\"From\").like(\"%@%.%\"))\n",
    "\n",
    "top_senders = df_filtered.groupBy(\"From\").agg(count(\"*\").alias(\"email_count\"))\n",
    "\n",
    "top_senders = top_senders.orderBy(col(\"email_count\").desc()).limit(10)\n",
    "\n",
    "top_senders.show(truncate=False)"
   ]
  },
  {
   "cell_type": "markdown",
   "metadata": {
    "application/vnd.databricks.v1+cell": {
     "cellMetadata": {
      "byteLimit": 2048000,
      "rowLimit": 10000
     },
     "inputWidgets": {},
     "nuid": "9adc0509-f0aa-47ee-93f0-bf1d40335e2b",
     "showTitle": false,
     "tableResultSettingsMap": {},
     "title": ""
    }
   },
   "source": [
    "@00783884 Mr Nithin Puthan Veettil Kongadan <br> **Medium** <br>\n",
    "3. What is the number of emails sent internally within Enron (based on both 'From' and 'To' fields containing @enron.com)?"
   ]
  },
  {
   "cell_type": "markdown",
   "metadata": {
    "application/vnd.databricks.v1+cell": {
     "cellMetadata": {},
     "inputWidgets": {},
     "nuid": "7320f8dc-e2e5-4d3f-b24b-2cce8a9e2acc",
     "showTitle": false,
     "tableResultSettingsMap": {},
     "title": ""
    }
   },
   "source": [
    "Here we have to extracts the domain from the \"From\" and \"To\" email addresses in the df_with_parsed_message DataFrame, and then counts the number of emails sent from and to the specific domain 'enron.com'.\n",
    "\n",
    "- Extracts the domain from the \"From\" and \"To\" email addresses using the split function.\n",
    "- Filters the data to count the emails sent from and to the specified domain 'enron.com'.\n",
    "- Prints the number of emails sent from, to, and the total exchanged with the 'enron.com' domain."
   ]
  },
  {
   "cell_type": "code",
   "execution_count": 0,
   "metadata": {
    "application/vnd.databricks.v1+cell": {
     "cellMetadata": {
      "byteLimit": 2048000,
      "rowLimit": 10000
     },
     "inputWidgets": {},
     "nuid": "1e65f243-54c6-4042-9295-050de538f9cc",
     "showTitle": false,
     "tableResultSettingsMap": {},
     "title": ""
    }
   },
   "outputs": [
    {
     "output_type": "stream",
     "name": "stdout",
     "output_type": "stream",
     "text": [
      "Number of emails sent from enron.com: 426229\n"
     ]
    }
   ],
   "source": [
    "from pyspark.sql.functions import col, split\n",
    "\n",
    "df_with_parsed_message = df_with_parsed_message.withColumn('Domain', split(col('From'), '@')[1])\n",
    "\n",
    "domain = 'enron.com'\n",
    "emails_from_domain = df_with_parsed_message.filter(col('Domain') == domain).count()\n",
    "\n",
    "print(f\"Number of emails sent from {domain}: {emails_from_domain}\")"
   ]
  },
  {
   "cell_type": "code",
   "execution_count": 0,
   "metadata": {
    "application/vnd.databricks.v1+cell": {
     "cellMetadata": {
      "byteLimit": 2048000,
      "rowLimit": 10000
     },
     "inputWidgets": {},
     "nuid": "25c28035-5c31-4b05-b931-8c15caea4cc5",
     "showTitle": false,
     "tableResultSettingsMap": {},
     "title": ""
    }
   },
   "outputs": [
    {
     "output_type": "stream",
     "name": "stdout",
     "output_type": "stream",
     "text": [
      "Number of emails sent To enron.com: 275955\n"
     ]
    }
   ],
   "source": [
    "from pyspark.sql.functions import col, split\n",
    "\n",
    "df_with_parsed_message = df_with_parsed_message.withColumn('Domain', split(col('To'), '@')[1])\n",
    "\n",
    "domain = 'enron.com'\n",
    "emails_to_domain = df_with_parsed_message.filter(col('Domain') == domain).count()\n",
    "\n",
    "print(f\"Number of emails sent To {domain}: {emails_to_domain}\")"
   ]
  },
  {
   "cell_type": "code",
   "execution_count": 0,
   "metadata": {
    "application/vnd.databricks.v1+cell": {
     "cellMetadata": {
      "byteLimit": 2048000,
      "rowLimit": 10000
     },
     "inputWidgets": {},
     "nuid": "6dd5eb50-9bc4-4bde-bcf9-8b80982bf6c8",
     "showTitle": false,
     "tableResultSettingsMap": {},
     "title": ""
    }
   },
   "outputs": [
    {
     "output_type": "stream",
     "name": "stdout",
     "output_type": "stream",
     "text": [
      "Total Emails emails sent \"To\" and recived \"from\" with enron.com: 551910\n"
     ]
    }
   ],
   "source": [
    "print(f\"Total Emails Exchange with {domain} : {emails_from_domain + emails_to_domain}\")"
   ]
  },
  {
   "cell_type": "markdown",
   "metadata": {
    "application/vnd.databricks.v1+cell": {
     "cellMetadata": {},
     "inputWidgets": {},
     "nuid": "c3af5f06-1b82-4c89-b09e-141fb3bb64be",
     "showTitle": false,
     "tableResultSettingsMap": {},
     "title": ""
    }
   },
   "source": [
    "@00792908 Mr Muhammad Hassan Mukhtar <br> **Difficult** <br>\n",
    "1. What are the word frequencies of the top 100 words in the subject lines (using the separately provided stopwords.txt document to remove stop words)?"
   ]
  },
  {
   "cell_type": "markdown",
   "metadata": {
    "application/vnd.databricks.v1+cell": {
     "cellMetadata": {},
     "inputWidgets": {},
     "nuid": "9b8726aa-edee-4c3b-a6fd-a743673e3e0e",
     "showTitle": false,
     "tableResultSettingsMap": {},
     "title": ""
    }
   },
   "source": [
    "Now we analyzes the subject lines of emails in the df_with_parsed_message DataFrame, ignoring stopwords and non-alphabetic characters, and then identifies the top 100 most frequently occurring words. It uses Spark SQL functions to:\n",
    "\n",
    "- Filter out rows with null subject lines\n",
    "- Convert subject lines to lowercase and remove non-alphabetic characters\n",
    "- Split subject lines into individual words\n",
    "- Filter out empty strings and stopwords\n",
    "- Count the occurrences of each word\n",
    "- Sort the words by count in descending order and limit to the top 100"
   ]
  },
  {
   "cell_type": "code",
   "execution_count": 0,
   "metadata": {
    "application/vnd.databricks.v1+cell": {
     "cellMetadata": {
      "byteLimit": 2048000,
      "rowLimit": 10000
     },
     "inputWidgets": {},
     "nuid": "a5f379fc-f0e7-4c43-9772-667ad092ed62",
     "showTitle": false,
     "tableResultSettingsMap": {},
     "title": ""
    }
   },
   "outputs": [],
   "source": [
    "stopwords_path = \"/FileStore/tables/emails/stopwords.txt\"\n",
    "stopwords_list = set(spark.read.text(stopwords_path).rdd.map(lambda r: r[0]).collect())"
   ]
  },
  {
   "cell_type": "code",
   "execution_count": 0,
   "metadata": {
    "application/vnd.databricks.v1+cell": {
     "cellMetadata": {
      "byteLimit": 2048000,
      "rowLimit": 10000
     },
     "inputWidgets": {},
     "nuid": "e4376d41-e40e-4c7a-8bd7-469f5a3ad297",
     "showTitle": false,
     "tableResultSettingsMap": {},
     "title": ""
    }
   },
   "outputs": [
    {
     "output_type": "stream",
     "name": "stdout",
     "output_type": "stream",
     "text": [
      "+------------+------+\n|word        |count |\n+------------+------+\n|re          |158440|\n|fw          |39187 |\n|enron       |23567 |\n|meeting     |16140 |\n|new         |12013 |\n|gas         |11168 |\n|agreement   |10769 |\n|report      |10766 |\n|energy      |10197 |\n|power       |10046 |\n|update      |9553  |\n|hourahead   |9069  |\n|date        |8334  |\n|hour        |8171  |\n|request     |8123  |\n|start       |7714  |\n|e           |7075  |\n|com         |6900  |\n|conference  |6422  |\n|call        |6162  |\n|codesite    |5963  |\n|credit      |5925  |\n|deal        |5660  |\n|fwd         |5632  |\n|california  |5565  |\n|letter      |5527  |\n|draft       |5454  |\n|eol         |5151  |\n|schedule    |4987  |\n|list        |4937  |\n|trading     |4848  |\n|revised     |4710  |\n|daily       |4555  |\n|information |4272  |\n|access      |4202  |\n|ferc        |3971  |\n|contract    |3819  |\n|weekly      |3730  |\n|project     |3671  |\n|news        |3616  |\n|isda        |3556  |\n|today       |3551  |\n|master      |3543  |\n|market      |3520  |\n|th          |3509  |\n|ena         |3435  |\n|presentation|3427  |\n|day         |3351  |\n|management  |3310  |\n|change      |3289  |\n|may         |3161  |\n|issues      |3081  |\n|approval    |3071  |\n|summary     |2951  |\n|p           |2939  |\n|outage      |2938  |\n|time        |2938  |\n|please      |2922  |\n|tw          |2906  |\n|l           |2865  |\n|final       |2847  |\n|inc         |2803  |\n|notification|2795  |\n|week        |2793  |\n|changes     |2784  |\n|legal       |2776  |\n|deals       |2776  |\n|price       |2772  |\n|weekend     |2770  |\n|ca          |2748  |\n|group       |2741  |\n|risk        |2736  |\n|order       |2711  |\n|announcement|2701  |\n|notice      |2675  |\n|houston     |2653  |\n|status      |2645  |\n|data        |2627  |\n|company     |2603  |\n|lay         |2544  |\n|review      |2504  |\n|enrononline |2491  |\n|capacity    |2488  |\n|confirmation|2459  |\n|info        |2457  |\n|services    |2452  |\n|october     |2423  |\n|november    |2408  |\n|agreements  |2351  |\n|free        |2347  |\n|plan        |2346  |\n|december    |2337  |\n|office      |2336  |\n|hpl         |2320  |\n|reminder    |2319  |\n|pg          |2287  |\n|w           |2281  |\n|m           |2277  |\n|comments    |2254  |\n|c           |2239  |\n+------------+------+\n\n"
     ]
    }
   ],
   "source": [
    "from pyspark.sql.functions import col, explode, split, lower, regexp_replace, count\n",
    "\n",
    "df_words = df_with_parsed_message \n",
    "    .filter(col(\"Subject\").isNotNull()) \\\n",
    "    .select(explode(split(lower(regexp_replace(col(\"Subject\"), \"[^a-zA-Z]\", \" \")), \" \")).alias(\"word\"))\n",
    "\n",
    "df_filtered_words = df_words \\\n",
    "    .filter((col(\"word\") != \"\") & (~col(\"word\").isin(stopwords_list)))\n",
    "\n",
    "df_word_counts = df_filtered_words.groupBy(\"word\").agg(count(\"*\").alias(\"count\"))\n",
    "\n",
    "df_top_words = df_word_counts.orderBy(col(\"count\").desc()).limit(100)\n",
    "\n",
    "df_top_words.show(100, truncate=False)"
   ]
  }
 ],
 "metadata": {
  "application/vnd.databricks.v1+notebook": {
   "computePreferences": null,
   "dashboards": [],
   "environmentMetadata": {
    "base_environment": "",
    "client": "1"
   },
   "language": "python",
   "notebookMetadata": {
    "pythonIndentUnit": 4
   },
   "notebookName": "Group 13 Assignment 02",
   "widgets": {}
  }
 },
 "nbformat": 4,
 "nbformat_minor": 0
}
