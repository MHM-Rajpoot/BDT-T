{
 "cells": [
  {
   "cell_type": "markdown",
   "metadata": {
    "application/vnd.databricks.v1+cell": {
     "cellMetadata": {
      "byteLimit": 2048000,
      "rowLimit": 10000
     },
     "inputWidgets": {},
     "nuid": "981605a6-5c60-4682-89c1-b17d79032bc6",
     "showTitle": false,
     "tableResultSettingsMap": {},
     "title": ""
    }
   },
   "source": [
    "### Loading Data"
   ]
  },
  {
   "cell_type": "markdown",
   "metadata": {
    "application/vnd.databricks.v1+cell": {
     "cellMetadata": {
      "byteLimit": 2048000,
      "rowLimit": 10000
     },
     "inputWidgets": {},
     "nuid": "07859228-b37a-4ff9-b59f-3954789364cc",
     "showTitle": false,
     "tableResultSettingsMap": {},
     "title": ""
    }
   },
   "source": [
    "\n",
    "- Reading two CSV files: games.csv and steam_200k.csv\n",
    "- Defining column names for each file\n",
    "- Configuring CSV read options: header=False and inferSchema=True\n",
    "- Converting CSV data to DataFrames: game_df and raw_df\n",
    "- Listing files in the /FileStore/tables/assignment_2 directory"
   ]
  },
  {
   "cell_type": "code",
   "execution_count": 0,
   "metadata": {
    "application/vnd.databricks.v1+cell": {
     "cellMetadata": {
      "byteLimit": 2048000,
      "rowLimit": 10000
     },
     "inputWidgets": {},
     "nuid": "22eda771-55dd-492b-a749-c3c852290c52",
     "showTitle": false,
     "tableResultSettingsMap": {},
     "title": ""
    }
   },
   "outputs": [
    {
     "output_type": "stream",
     "name": "stdout",
     "output_type": "stream",
     "text": [
      "Out[1]: [FileInfo(path='dbfs:/FileStore/tables/assignment_2/Clinicaltrial_16012025.csv', name='Clinicaltrial_16012025.csv', size=205522181, modificationTime=1741354239000),\n FileInfo(path='dbfs:/FileStore/tables/assignment_2/code.html', name='code.html', size=5055, modificationTime=1742574979000),\n FileInfo(path='dbfs:/FileStore/tables/assignment_2/games.csv', name='games.csv', size=143639, modificationTime=1741354145000),\n FileInfo(path='dbfs:/FileStore/tables/assignment_2/steam_200k.csv', name='steam_200k.csv', size=8059447, modificationTime=1741354159000)]"
     ]
    }
   ],
   "source": [
    "dbutils.fs.ls(\"/FileStore/tables/assignment_2\")"
   ]
  },
  {
   "cell_type": "code",
   "execution_count": 0,
   "metadata": {
    "application/vnd.databricks.v1+cell": {
     "cellMetadata": {
      "byteLimit": 2048000,
      "rowLimit": 10000
     },
     "inputWidgets": {},
     "nuid": "99228261-c4f1-4215-ad32-8a3825cb65a5",
     "showTitle": false,
     "tableResultSettingsMap": {},
     "title": ""
    }
   },
   "outputs": [],
   "source": [
    "columns = ['member_id', 'game', 'behavior', 'value']\n",
    "\n",
    "raw_df = spark.read.csv(\n",
    "    \"/FileStore/tables/assignment_2/steam_200k.csv\",\n",
    "    header=False,\n",
    "    inferSchema=True\n",
    ").toDF(*columns)"
   ]
  },
  {
   "cell_type": "code",
   "execution_count": 0,
   "metadata": {
    "application/vnd.databricks.v1+cell": {
     "cellMetadata": {
      "byteLimit": 2048000,
      "rowLimit": 10000
     },
     "inputWidgets": {},
     "nuid": "17b9787d-e2f1-4edd-9be1-ab543ad5e24c",
     "showTitle": false,
     "tableResultSettingsMap": {},
     "title": ""
    }
   },
   "outputs": [],
   "source": [
    "columns = ['game_id', 'game']\n",
    "\n",
    "game_df = spark.read.csv(\n",
    "    \"/FileStore/tables/assignment_2/games.csv\", \n",
    "    header=False, inferSchema=True\n",
    ").toDF(*columns)"
   ]
  },
  {
   "cell_type": "markdown",
   "metadata": {
    "application/vnd.databricks.v1+cell": {
     "cellMetadata": {
      "byteLimit": 2048000,
      "rowLimit": 10000
     },
     "inputWidgets": {},
     "nuid": "adafd227-8870-4b41-8832-8c15a02d1635",
     "showTitle": false,
     "tableResultSettingsMap": {},
     "title": ""
    }
   },
   "source": [
    "### Exploring Data"
   ]
  },
  {
   "cell_type": "markdown",
   "metadata": {
    "application/vnd.databricks.v1+cell": {
     "cellMetadata": {
      "byteLimit": 2048000,
      "rowLimit": 10000
     },
     "inputWidgets": {},
     "nuid": "234f3deb-d9b9-4421-a29e-b8d028bb7ef0",
     "showTitle": false,
     "tableResultSettingsMap": {},
     "title": ""
    }
   },
   "source": [
    "**Viewing Schema and Data:**\n",
    "- printSchema() is used to display the schema of raw_df and game_df\n",
    "- show(10) is used to display the first 10 rows of raw_df and game_df"
   ]
  },
  {
   "cell_type": "code",
   "execution_count": 0,
   "metadata": {
    "application/vnd.databricks.v1+cell": {
     "cellMetadata": {
      "byteLimit": 2048000,
      "rowLimit": 10000
     },
     "inputWidgets": {},
     "nuid": "31339415-3480-42a8-8b21-84ca41a313d8",
     "showTitle": false,
     "tableResultSettingsMap": {},
     "title": ""
    }
   },
   "outputs": [
    {
     "output_type": "stream",
     "name": "stdout",
     "output_type": "stream",
     "text": [
      "root\n |-- member_id: integer (nullable = true)\n |-- game: string (nullable = true)\n |-- behavior: string (nullable = true)\n |-- value: double (nullable = true)\n\n"
     ]
    }
   ],
   "source": [
    "raw_df.printSchema()"
   ]
  },
  {
   "cell_type": "code",
   "execution_count": 0,
   "metadata": {
    "application/vnd.databricks.v1+cell": {
     "cellMetadata": {
      "byteLimit": 2048000,
      "rowLimit": 10000
     },
     "inputWidgets": {},
     "nuid": "864d90f4-803d-4a3b-80c8-45222cce020a",
     "showTitle": false,
     "tableResultSettingsMap": {},
     "title": ""
    }
   },
   "outputs": [
    {
     "output_type": "stream",
     "name": "stdout",
     "output_type": "stream",
     "text": [
      "root\n |-- game_id: integer (nullable = true)\n |-- game: string (nullable = true)\n\n"
     ]
    }
   ],
   "source": [
    "game_df.printSchema()"
   ]
  },
  {
   "cell_type": "code",
   "execution_count": 0,
   "metadata": {
    "application/vnd.databricks.v1+cell": {
     "cellMetadata": {
      "byteLimit": 2048000,
      "rowLimit": 10000
     },
     "inputWidgets": {},
     "nuid": "8d1f489a-7b53-46e2-a61b-2ad6a7427c94",
     "showTitle": false,
     "tableResultSettingsMap": {},
     "title": ""
    }
   },
   "outputs": [
    {
     "output_type": "stream",
     "name": "stdout",
     "output_type": "stream",
     "text": [
      "+---------+--------------------+--------+-----+\n|member_id|                game|behavior|value|\n+---------+--------------------+--------+-----+\n|151603712|The Elder Scrolls...|purchase|  1.0|\n|151603712|The Elder Scrolls...|    play|273.0|\n|151603712|           Fallout 4|purchase|  1.0|\n|151603712|           Fallout 4|    play| 87.0|\n|151603712|               Spore|purchase|  1.0|\n|151603712|               Spore|    play| 14.9|\n|151603712|   Fallout New Vegas|purchase|  1.0|\n|151603712|   Fallout New Vegas|    play| 12.1|\n|151603712|       Left 4 Dead 2|purchase|  1.0|\n|151603712|       Left 4 Dead 2|    play|  8.9|\n+---------+--------------------+--------+-----+\nonly showing top 10 rows\n\n"
     ]
    }
   ],
   "source": [
    "raw_df.show(10)"
   ]
  },
  {
   "cell_type": "code",
   "execution_count": 0,
   "metadata": {
    "application/vnd.databricks.v1+cell": {
     "cellMetadata": {
      "byteLimit": 2048000,
      "rowLimit": 10000
     },
     "inputWidgets": {},
     "nuid": "58f6b113-cbaf-4f17-9406-f58bcc2d1602",
     "showTitle": false,
     "tableResultSettingsMap": {},
     "title": ""
    }
   },
   "outputs": [
    {
     "output_type": "stream",
     "name": "stdout",
     "output_type": "stream",
     "text": [
      "+-------+--------------------+\n|game_id|                game|\n+-------+--------------------+\n|      1|The Elder Scrolls...|\n|      2|           Fallout 4|\n|      3|               Spore|\n|      4|   Fallout New Vegas|\n|      5|       Left 4 Dead 2|\n|      6|            HuniePop|\n|      7|       Path of Exile|\n|      8|         Poly Bridge|\n|      9|         Left 4 Dead|\n|     10|     Team Fortress 2|\n+-------+--------------------+\nonly showing top 10 rows\n\n"
     ]
    }
   ],
   "source": [
    "game_df.show(10)"
   ]
  },
  {
   "cell_type": "markdown",
   "metadata": {
    "application/vnd.databricks.v1+cell": {
     "cellMetadata": {
      "byteLimit": 2048000,
      "rowLimit": 10000
     },
     "inputWidgets": {},
     "nuid": "fea4ee54-ae4e-4d9c-8c23-42d5ca3d4c94",
     "showTitle": false,
     "tableResultSettingsMap": {},
     "title": ""
    }
   },
   "source": [
    "**Data Insights:**\n",
    "- Behavior distribution is analyzed to see the count of each unique behavior.\n",
    "- A list of distinct games is displayed to show unique game names.\n",
    "- The total number of distinct games is counted in game file."
   ]
  },
  {
   "cell_type": "code",
   "execution_count": 0,
   "metadata": {
    "application/vnd.databricks.v1+cell": {
     "cellMetadata": {
      "byteLimit": 2048000,
      "rowLimit": 10000
     },
     "inputWidgets": {},
     "nuid": "3ee7bb39-be7c-4fbf-ae87-47a0703040db",
     "showTitle": false,
     "tableResultSettingsMap": {},
     "title": ""
    }
   },
   "outputs": [
    {
     "output_type": "display_data",
     "data": {
      "image/png": "[encoded data removed]"
     },
     "metadata": {
      "application/vnd.databricks.v1+output": {
       "addedWidgets": {},
       "arguments": {},
       "data": "data:image/png;base64,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\n",
       "datasetInfos": [],
       "metadata": {},
       "removedWidgets": [],
       "type": "image"
      }
     },
     "output_type": "display_data"
    }
   ],
   "source": [
    "import matplotlib.pyplot as plt\n",
    "\n",
    "behavior_counts = raw_df.groupBy('behavior').count().toPandas()\n",
    "\n",
    "plt.figure(figsize=(3,4))\n",
    "plt.bar(behavior_counts['behavior'], behavior_counts['count'])\n",
    "plt.xlabel('Behavior')\n",
    "plt.ylabel('Count')\n",
    "plt.title('Behavior Counts')\n",
    "plt.show()"
   ]
  },
  {
   "cell_type": "code",
   "execution_count": 0,
   "metadata": {
    "application/vnd.databricks.v1+cell": {
     "cellMetadata": {
      "byteLimit": 2048000,
      "rowLimit": 10000
     },
     "inputWidgets": {},
     "nuid": "c225e95f-eb55-4b6b-a86f-126296e3f728",
     "showTitle": false,
     "tableResultSettingsMap": {},
     "title": ""
    }
   },
   "outputs": [
    {
     "output_type": "stream",
     "name": "stdout",
     "output_type": "stream",
     "text": [
      "+--------------------+\n|                game|\n+--------------------+\n|       Left 4 Dead 2|\n|           Fallout 4|\n|Dragon Age Origin...|\n|       Path of Exile|\n|         Tomb Raider|\n|         Left 4 Dead|\n|Realm of the Mad God|\n|   BioShock Infinite|\n|The Elder Scrolls...|\n|SEGA Genesis & Me...|\n|            HuniePop|\n|     The Banner Saga|\n| Grand Theft Auto IV|\n|Dead Island Epidemic|\n|  Marvel Heroes 2015|\n|             Eldevin|\n|   Fallout New Vegas|\n|               Spore|\n|     Team Fortress 2|\n|Fallout 3 - Game ...|\n+--------------------+\nonly showing top 20 rows\n\n"
     ]
    }
   ],
   "source": [
    "raw_df.select('game').distinct().show()"
   ]
  },
  {
   "cell_type": "code",
   "execution_count": 0,
   "metadata": {
    "application/vnd.databricks.v1+cell": {
     "cellMetadata": {
      "byteLimit": 2048000,
      "rowLimit": 10000
     },
     "inputWidgets": {},
     "nuid": "6712b8db-b939-496b-af74-18c749abc873",
     "showTitle": false,
     "tableResultSettingsMap": {},
     "title": ""
    }
   },
   "outputs": [
    {
     "output_type": "stream",
     "name": "stdout",
     "output_type": "stream",
     "text": [
      "Out[10]: 5155"
     ]
    }
   ],
   "source": [
    "raw_df.select('game').distinct().count()"
   ]
  },
  {
   "cell_type": "markdown",
   "metadata": {
    "application/vnd.databricks.v1+cell": {
     "cellMetadata": {},
     "inputWidgets": {},
     "nuid": "bea41ee2-5043-440e-90e5-a43124bf248c",
     "showTitle": false,
     "tableResultSettingsMap": {},
     "title": ""
    }
   },
   "source": [
    "#### Top 10 Most Purchased Games"
   ]
  },
  {
   "cell_type": "code",
   "execution_count": 0,
   "metadata": {
    "application/vnd.databricks.v1+cell": {
     "cellMetadata": {
      "byteLimit": 2048000,
      "rowLimit": 10000
     },
     "inputWidgets": {},
     "nuid": "db99dbb1-325f-4024-bb22-2cc5c8b735d0",
     "showTitle": false,
     "tableResultSettingsMap": {},
     "title": ""
    }
   },
   "outputs": [
    {
     "output_type": "stream",
     "name": "stdout",
     "output_type": "stream",
     "text": [
      "Top 10 Most Purchased Games:\n+--------------------+-------------+\n|                game|num_purchases|\n+--------------------+-------------+\n|              Dota 2|         4841|\n|     Team Fortress 2|         2323|\n|            Unturned|         1563|\n|Counter-Strike Gl...|         1412|\n|Half-Life 2 Lost ...|          981|\n|Counter-Strike So...|          978|\n|       Left 4 Dead 2|          951|\n|      Counter-Strike|          856|\n|            Warframe|          847|\n|Half-Life 2 Death...|          823|\n+--------------------+-------------+\nonly showing top 10 rows\n\n"
     ]
    }
   ],
   "source": [
    "from pyspark.sql.functions import col, count\n",
    "\n",
    "game_purchases_df = raw_df.filter(col(\"behavior\") == \"purchase\") \\\n",
    "    .groupBy(\"game\") \\\n",
    "    .agg(count(\"*\").alias(\"num_purchases\")) \\\n",
    "    .orderBy(col(\"num_purchases\").desc())\n",
    "\n",
    "print(\"Top 10 Most Purchased Games:\")\n",
    "game_purchases_df.show(10)"
   ]
  },
  {
   "cell_type": "markdown",
   "metadata": {
    "application/vnd.databricks.v1+cell": {
     "cellMetadata": {},
     "inputWidgets": {},
     "nuid": "c2976a0b-25bc-483f-b7d9-c963854e1569",
     "showTitle": false,
     "tableResultSettingsMap": {},
     "title": ""
    }
   },
   "source": [
    "#### Top 10 Most Played Games"
   ]
  },
  {
   "cell_type": "code",
   "execution_count": 0,
   "metadata": {
    "application/vnd.databricks.v1+cell": {
     "cellMetadata": {
      "byteLimit": 2048000,
      "rowLimit": 10000
     },
     "inputWidgets": {},
     "nuid": "08cfce7d-76ee-4a74-b0d7-65ff74466537",
     "showTitle": false,
     "tableResultSettingsMap": {},
     "title": ""
    }
   },
   "outputs": [
    {
     "output_type": "stream",
     "name": "stdout",
     "output_type": "stream",
     "text": [
      "Top 10 Most Played Games:\n+--------------------+------------------+\n|                game|    total_playtime|\n+--------------------+------------------+\n|              Dota 2| 981684.6000046805|\n|Counter-Strike Gl...|322771.60000587255|\n|     Team Fortress 2|173673.30000534654|\n|      Counter-Strike| 134261.1000032574|\n|Sid Meier's Civil...| 99821.30000032485|\n|Counter-Strike So...|  96075.4999980852|\n|The Elder Scrolls...| 70889.30000342429|\n|         Garry's Mod|49725.300001084805|\n|Call of Duty Mode...|  42009.8999973014|\n|       Left 4 Dead 2| 33596.70000024885|\n+--------------------+------------------+\nonly showing top 10 rows\n\n"
     ]
    }
   ],
   "source": [
    "from pyspark.sql.functions import col, sum\n",
    "\n",
    "raw_df = raw_df.withColumn(\"value\", col(\"value\").cast(\"float\"))\n",
    "\n",
    "game_playtime_df = raw_df.filter(col(\"behavior\") == \"play\") \\\n",
    "    .groupBy(\"game\") \\\n",
    "    .agg(sum(\"value\").alias(\"total_playtime\")) \\\n",
    "    .orderBy(col(\"total_playtime\").desc())\n",
    "\n",
    "print(\"Top 10 Most Played Games:\")\n",
    "game_playtime_df.show(10)"
   ]
  },
  {
   "cell_type": "markdown",
   "metadata": {
    "application/vnd.databricks.v1+cell": {
     "cellMetadata": {
      "byteLimit": 2048000,
      "rowLimit": 10000
     },
     "inputWidgets": {},
     "nuid": "7611236d-1e51-406a-baf1-3b688771c668",
     "showTitle": false,
     "tableResultSettingsMap": {},
     "title": ""
    }
   },
   "source": [
    "###Re-Structuring Data"
   ]
  },
  {
   "cell_type": "markdown",
   "metadata": {
    "application/vnd.databricks.v1+cell": {
     "cellMetadata": {
      "byteLimit": 2048000,
      "rowLimit": 10000
     },
     "inputWidgets": {},
     "nuid": "f773e691-334a-41ca-af51-305cbb53c28d",
     "showTitle": false,
     "tableResultSettingsMap": {},
     "title": ""
    }
   },
   "source": [
    "Based on our analysis, we have selected \"purchase\" as the target variable for our model. This decision is driven by two key factors:\n",
    "\n",
    "- **Data Sufficiency:** The \"purchase\" variable has the largest number of samples, providing a robust dataset for training our model.\n",
    "- **Correlation with Engagement:** Our analysis reveals a strong correlation between game purchases and playtime. The top 10 most purchased games are also among the most played, indicating a consistent pattern of behavior.\n",
    "\n",
    "By targeting \"purchase\" as our outcome variable, we aim to develop a model that can effectively predict user purchasing behavior and, by extension, inform game engagement strategies.\n",
    "\n",
    "- A new DataFrame purchase_df is created by filtering the raw_df to include only rows where the behavior is \"purchase\" and the value is 1.\n",
    "- Then the result confirms that the new DataFrame contains only one type of behavior.\n",
    "- Taking a peak at new datframe created."
   ]
  },
  {
   "cell_type": "code",
   "execution_count": 0,
   "metadata": {
    "application/vnd.databricks.v1+cell": {
     "cellMetadata": {
      "byteLimit": 2048000,
      "rowLimit": 10000
     },
     "inputWidgets": {},
     "nuid": "df0afb6c-1bf3-4bf7-b6a4-d771bae8c278",
     "showTitle": false,
     "tableResultSettingsMap": {},
     "title": ""
    }
   },
   "outputs": [],
   "source": [
    "from pyspark.sql.functions import col\n",
    "\n",
    "purchase_df = raw_df.filter((col(\"behavior\") == \"purchase\") & (col(\"value\") == 1))"
   ]
  },
  {
   "cell_type": "code",
   "execution_count": 0,
   "metadata": {
    "application/vnd.databricks.v1+cell": {
     "cellMetadata": {
      "byteLimit": 2048000,
      "rowLimit": 10000
     },
     "inputWidgets": {},
     "nuid": "e082cbf8-99ae-4f67-98f5-1f54e30ea78f",
     "showTitle": false,
     "tableResultSettingsMap": {},
     "title": ""
    }
   },
   "outputs": [
    {
     "output_type": "stream",
     "name": "stdout",
     "output_type": "stream",
     "text": [
      "+--------+------+\n|behavior| count|\n+--------+------+\n|purchase|129511|\n+--------+------+\n\n"
     ]
    }
   ],
   "source": [
    "purchase_df.groupBy('behavior').count().show()"
   ]
  },
  {
   "cell_type": "code",
   "execution_count": 0,
   "metadata": {
    "application/vnd.databricks.v1+cell": {
     "cellMetadata": {
      "byteLimit": 2048000,
      "rowLimit": 10000
     },
     "inputWidgets": {},
     "nuid": "411017aa-3242-4d46-935c-e79fdc95dce3",
     "showTitle": false,
     "tableResultSettingsMap": {},
     "title": ""
    }
   },
   "outputs": [
    {
     "output_type": "stream",
     "name": "stdout",
     "output_type": "stream",
     "text": [
      "+---------+--------------------+--------+-----+\n|member_id|                game|behavior|value|\n+---------+--------------------+--------+-----+\n|151603712|The Elder Scrolls...|purchase|  1.0|\n|151603712|           Fallout 4|purchase|  1.0|\n|151603712|               Spore|purchase|  1.0|\n|151603712|   Fallout New Vegas|purchase|  1.0|\n|151603712|       Left 4 Dead 2|purchase|  1.0|\n|151603712|            HuniePop|purchase|  1.0|\n|151603712|       Path of Exile|purchase|  1.0|\n|151603712|         Poly Bridge|purchase|  1.0|\n|151603712|         Left 4 Dead|purchase|  1.0|\n|151603712|     Team Fortress 2|purchase|  1.0|\n|151603712|         Tomb Raider|purchase|  1.0|\n|151603712|     The Banner Saga|purchase|  1.0|\n|151603712|Dead Island Epidemic|purchase|  1.0|\n|151603712|   BioShock Infinite|purchase|  1.0|\n|151603712|Dragon Age Origin...|purchase|  1.0|\n|151603712|Fallout 3 - Game ...|purchase|  1.0|\n|151603712|SEGA Genesis & Me...|purchase|  1.0|\n|151603712| Grand Theft Auto IV|purchase|  1.0|\n|151603712|Realm of the Mad God|purchase|  1.0|\n|151603712|  Marvel Heroes 2015|purchase|  1.0|\n+---------+--------------------+--------+-----+\nonly showing top 20 rows\n\n"
     ]
    }
   ],
   "source": [
    "purchase_df.show()"
   ]
  },
  {
   "cell_type": "markdown",
   "metadata": {
    "application/vnd.databricks.v1+cell": {
     "cellMetadata": {
      "byteLimit": 2048000,
      "rowLimit": 10000
     },
     "inputWidgets": {},
     "nuid": "8e01762a-1150-4077-a3e6-59541731f3ec",
     "showTitle": false,
     "tableResultSettingsMap": {},
     "title": ""
    }
   },
   "source": [
    "- The total number of games in the games file is compared with the total number of unique games in the Steam data file.\n",
    "- This comparison is done to ensure that an inner join can be performed between the two datasets, verifying that the games in the Steam data exist in the games file."
   ]
  },
  {
   "cell_type": "code",
   "execution_count": 0,
   "metadata": {
    "application/vnd.databricks.v1+cell": {
     "cellMetadata": {
      "byteLimit": 2048000,
      "rowLimit": 10000
     },
     "inputWidgets": {},
     "nuid": "e6f8c150-865b-4f7e-8c04-f6809d81c62f",
     "showTitle": false,
     "tableResultSettingsMap": {},
     "title": ""
    }
   },
   "outputs": [
    {
     "output_type": "stream",
     "name": "stdout",
     "output_type": "stream",
     "text": [
      "Out[14]: 5155"
     ]
    }
   ],
   "source": [
    "purchase_df.select(\"game\").distinct().count()"
   ]
  },
  {
   "cell_type": "code",
   "execution_count": 0,
   "metadata": {
    "application/vnd.databricks.v1+cell": {
     "cellMetadata": {
      "byteLimit": 2048000,
      "rowLimit": 10000
     },
     "inputWidgets": {},
     "nuid": "c376675d-4e24-494d-aad7-e14478089fdb",
     "showTitle": false,
     "tableResultSettingsMap": {},
     "title": ""
    }
   },
   "outputs": [],
   "source": [
    "merged_df = purchase_df.join(game_df, on=\"game\", how=\"inner\")"
   ]
  },
  {
   "cell_type": "code",
   "execution_count": 0,
   "metadata": {
    "application/vnd.databricks.v1+cell": {
     "cellMetadata": {
      "byteLimit": 2048000,
      "rowLimit": 10000
     },
     "inputWidgets": {},
     "nuid": "ef85dd53-dd3e-4cb6-b7bd-0871a5da4891",
     "showTitle": false,
     "tableResultSettingsMap": {},
     "title": ""
    }
   },
   "outputs": [
    {
     "output_type": "stream",
     "name": "stdout",
     "output_type": "stream",
     "text": [
      "Out[16]: 5155"
     ]
    }
   ],
   "source": [
    "merged_df.select(\"game_id\").distinct().count()"
   ]
  },
  {
   "cell_type": "markdown",
   "metadata": {
    "application/vnd.databricks.v1+cell": {
     "cellMetadata": {
      "byteLimit": 2048000,
      "rowLimit": 10000
     },
     "inputWidgets": {},
     "nuid": "e090db17-deee-47ca-8422-1c925ed7115d",
     "showTitle": false,
     "tableResultSettingsMap": {},
     "title": ""
    }
   },
   "source": [
    "- A single user's data is extracted from the merged DataFrame to display all games associated with that person, providing a comprehensive view of the data."
   ]
  },
  {
   "cell_type": "code",
   "execution_count": 0,
   "metadata": {
    "application/vnd.databricks.v1+cell": {
     "cellMetadata": {
      "byteLimit": 2048000,
      "rowLimit": 10000
     },
     "inputWidgets": {},
     "nuid": "797b06ef-7793-491a-8e9e-ffc351b748d0",
     "showTitle": false,
     "tableResultSettingsMap": {},
     "title": ""
    }
   },
   "outputs": [
    {
     "output_type": "stream",
     "name": "stdout",
     "output_type": "stream",
     "text": [
      "+-------------------------------------------+---------+--------+-----+-------+\n|game                                       |member_id|behavior|value|game_id|\n+-------------------------------------------+---------+--------+-----+-------+\n|The Elder Scrolls V Skyrim                 |151603712|purchase|1.0  |1      |\n|Fallout 4                                  |151603712|purchase|1.0  |2      |\n|Spore                                      |151603712|purchase|1.0  |3      |\n|Fallout New Vegas                          |151603712|purchase|1.0  |4      |\n|Left 4 Dead 2                              |151603712|purchase|1.0  |5      |\n|HuniePop                                   |151603712|purchase|1.0  |6      |\n|Path of Exile                              |151603712|purchase|1.0  |7      |\n|Poly Bridge                                |151603712|purchase|1.0  |8      |\n|Left 4 Dead                                |151603712|purchase|1.0  |9      |\n|Team Fortress 2                            |151603712|purchase|1.0  |10     |\n|Tomb Raider                                |151603712|purchase|1.0  |11     |\n|The Banner Saga                            |151603712|purchase|1.0  |12     |\n|Dead Island Epidemic                       |151603712|purchase|1.0  |13     |\n|BioShock Infinite                          |151603712|purchase|1.0  |14     |\n|Dragon Age Origins - Ultimate Edition      |151603712|purchase|1.0  |15     |\n|Fallout 3 - Game of the Year Edition       |151603712|purchase|1.0  |16     |\n|SEGA Genesis & Mega Drive Classics         |151603712|purchase|1.0  |17     |\n|Grand Theft Auto IV                        |151603712|purchase|1.0  |18     |\n|Realm of the Mad God                       |151603712|purchase|1.0  |19     |\n|Marvel Heroes 2015                         |151603712|purchase|1.0  |20     |\n|Eldevin                                    |151603712|purchase|1.0  |21     |\n|Dota 2                                     |151603712|purchase|1.0  |22     |\n|BioShock                                   |151603712|purchase|1.0  |23     |\n|Robocraft                                  |151603712|purchase|1.0  |24     |\n|Garry's Mod                                |151603712|purchase|1.0  |25     |\n|Jazzpunk                                   |151603712|purchase|1.0  |26     |\n|Alan Wake                                  |151603712|purchase|1.0  |27     |\n|BioShock 2                                 |151603712|purchase|1.0  |28     |\n|Fallen Earth                               |151603712|purchase|1.0  |29     |\n|Fallout New Vegas Courier's Stash          |151603712|purchase|1.0  |30     |\n|Fallout New Vegas Dead Money               |151603712|purchase|1.0  |31     |\n|Fallout New Vegas Honest Hearts            |151603712|purchase|1.0  |32     |\n|Grand Theft Auto Episodes from Liberty City|151603712|purchase|1.0  |33     |\n|Hitman Absolution                          |151603712|purchase|1.0  |34     |\n|HuniePop Official Digital Art Collection   |151603712|purchase|1.0  |35     |\n|HuniePop Original Soundtrack               |151603712|purchase|1.0  |36     |\n|The Banner Saga - Mod Content              |151603712|purchase|1.0  |37     |\n|The Elder Scrolls V Skyrim - Dawnguard     |151603712|purchase|1.0  |38     |\n|The Elder Scrolls V Skyrim - Dragonborn    |151603712|purchase|1.0  |39     |\n|The Elder Scrolls V Skyrim - Hearthfire    |151603712|purchase|1.0  |40     |\n+-------------------------------------------+---------+--------+-----+-------+\n\n"
     ]
    }
   ],
   "source": [
    "merged_df.filter(merged_df['member_id'] == 151603712).show(n=1000,truncate=False)"
   ]
  },
  {
   "cell_type": "markdown",
   "metadata": {
    "application/vnd.databricks.v1+cell": {
     "cellMetadata": {
      "byteLimit": 2048000,
      "rowLimit": 10000
     },
     "inputWidgets": {},
     "nuid": "c088c933-a619-4558-8fec-5097807f3d19",
     "showTitle": false,
     "tableResultSettingsMap": {},
     "title": ""
    }
   },
   "source": [
    "### Train Test Split\n",
    "\n",
    "- The merged DataFrame is randomly split into two subsets: a training set and a testing set.\n",
    "- The training set contains 80% of the data (train_df), while the testing set contains 20% of the data (test_df).\n",
    "- A seed value of 42 is used to ensure reproducibility of the split, allowing for consistent results."
   ]
  },
  {
   "cell_type": "code",
   "execution_count": 0,
   "metadata": {
    "application/vnd.databricks.v1+cell": {
     "cellMetadata": {
      "byteLimit": 2048000,
      "rowLimit": 10000
     },
     "inputWidgets": {},
     "nuid": "2ada07f7-d80a-49ca-b321-b46434079aea",
     "showTitle": false,
     "tableResultSettingsMap": {},
     "title": ""
    }
   },
   "outputs": [],
   "source": [
    "train_df, test_df = merged_df.randomSplit([0.8, 0.2], seed=42)"
   ]
  },
  {
   "cell_type": "markdown",
   "metadata": {
    "application/vnd.databricks.v1+cell": {
     "cellMetadata": {
      "byteLimit": 2048000,
      "rowLimit": 10000
     },
     "inputWidgets": {},
     "nuid": "855592cc-f540-41fd-b84e-51e7a90b922e",
     "showTitle": false,
     "tableResultSettingsMap": {},
     "title": ""
    }
   },
   "source": [
    "### Modeling"
   ]
  },
  {
   "cell_type": "markdown",
   "metadata": {
    "application/vnd.databricks.v1+cell": {
     "cellMetadata": {
      "byteLimit": 2048000,
      "rowLimit": 10000
     },
     "inputWidgets": {},
     "nuid": "222250fa-e6f3-4871-9520-4126284dd071",
     "showTitle": false,
     "tableResultSettingsMap": {},
     "title": ""
    }
   },
   "source": [
    "- An Alternating Least Squares (ALS) model is created to train a matrix factorization-based recommender system.\n",
    "- The ALS model is configured with the following parameters:\n",
    "> -   User ID column: \"member_id\"\n",
    "> -   Item ID column: \"game_id\"\n",
    "> -   Rating column: \"value\"\n",
    "> -   Cold start strategy: \"drop\"\n",
    "> -   Non-negative ratings: True\n",
    "> -   Implicit preferences: True\n",
    "> -   Maximum iterations: 10\n",
    "> -   Regularization parameter: 0.01\n",
    "> -   Alpha parameter: 20\n",
    "- The ALS model is trained on the training data (train_df) to produce a trained model.\n",
    "- The trained model is used to make predictions on the testing data (test_df).\n",
    "- A RegressionEvaluator is used to evaluate the performance of the model by calculating the Root Mean Squared Error (RMSE) between the predicted and actual ratings.\n",
    "- The RMSE is printed to the console."
   ]
  },
  {
   "cell_type": "code",
   "execution_count": 0,
   "metadata": {
    "application/vnd.databricks.v1+cell": {
     "cellMetadata": {
      "byteLimit": 2048000,
      "rowLimit": 10000
     },
     "inputWidgets": {},
     "nuid": "771cf40a-f2fe-44cb-8c41-64d16772a68f",
     "showTitle": false,
     "tableResultSettingsMap": {},
     "title": ""
    }
   },
   "outputs": [],
   "source": [
    "from pyspark.ml.recommendation import ALS\n",
    "from pyspark.ml.evaluation import RegressionEvaluator\n",
    "\n",
    "als_model = ALS(\n",
    "    userCol=\"member_id\", \n",
    "    itemCol=\"game_id\", \n",
    "    ratingCol=\"value\", \n",
    "    coldStartStrategy=\"drop\",\n",
    "    nonnegative=True,\n",
    "    implicitPrefs=True,\n",
    "    maxIter=10, \n",
    "    regParam=0.01, \n",
    "    alpha=20\n",
    ")"
   ]
  },
  {
   "cell_type": "markdown",
   "metadata": {
    "application/vnd.databricks.v1+cell": {
     "cellMetadata": {
      "byteLimit": 2048000,
      "rowLimit": 10000
     },
     "inputWidgets": {},
     "nuid": "6f1610ff-2cc3-4076-9151-358e3c061d4b",
     "showTitle": false,
     "tableResultSettingsMap": {},
     "title": ""
    }
   },
   "source": [
    "### Model Evaluation"
   ]
  },
  {
   "cell_type": "code",
   "execution_count": 0,
   "metadata": {
    "application/vnd.databricks.v1+cell": {
     "cellMetadata": {
      "byteLimit": 2048000,
      "rowLimit": 10000
     },
     "inputWidgets": {},
     "nuid": "855bab9c-8aa8-4fec-bc7a-ffea2265e1c0",
     "showTitle": false,
     "tableResultSettingsMap": {},
     "title": ""
    }
   },
   "outputs": [
    {
     "output_type": "stream",
     "name": "stdout",
     "output_type": "stream",
     "text": [
      "Root Mean Squared Error (RMSE): 0.5363574062398491\n"
     ]
    }
   ],
   "source": [
    "model = als_model.fit(train_df)\n",
    "\n",
    "predictions = model.transform(test_df)\n",
    "evaluator = RegressionEvaluator(\n",
    "    metricName=\"rmse\", \n",
    "    labelCol=\"value\", \n",
    "    predictionCol=\"prediction\"\n",
    ")\n",
    "\n",
    "rmse = evaluator.evaluate(predictions)\n",
    "print(f\"Root Mean Squared Error (RMSE): {rmse}\")"
   ]
  },
  {
   "cell_type": "markdown",
   "metadata": {
    "application/vnd.databricks.v1+cell": {
     "cellMetadata": {
      "byteLimit": 2048000,
      "rowLimit": 10000
     },
     "inputWidgets": {},
     "nuid": "498f832d-1c78-4573-b451-59a82c788763",
     "showTitle": false,
     "tableResultSettingsMap": {},
     "title": ""
    }
   },
   "source": [
    "### Hyperparameter Tuning"
   ]
  },
  {
   "cell_type": "markdown",
   "metadata": {
    "application/vnd.databricks.v1+cell": {
     "cellMetadata": {
      "byteLimit": 2048000,
      "rowLimit": 10000
     },
     "inputWidgets": {},
     "nuid": "91977666-8297-4754-9511-f6ef87e031ef",
     "showTitle": false,
     "tableResultSettingsMap": {},
     "title": ""
    }
   },
   "source": [
    "The table below shows the results of hyperparameter tuning for the ALS model. The goal was to find the optimal combination of parameters that yields the lowest RMSE (Root Mean Squared Error).\n",
    "\n",
    "**Why manual Parameter tuining?**\n",
    "\n",
    "Initially, an automated hit-and-trial approach was attempted, but it proved to be time-consuming and costly. To accelerate the process, a manual approach was adopted, where parameters were tuned based on observations and insights.\n",
    "\n",
    "The following parameters were tuned:\n",
    "- maxIter: The number of iterations was increased from 10 to 30, which resulted in a decrease in RMSE.\n",
    "- regParam: The regularization parameter was increased from 0.01 to 0.1, which had a mixed effect on RMSE.\n",
    "- alpha: The alpha parameter was increased from 20 to 1920, which significantly improved the RMSE.\n",
    "- rank: The rank parameter was increased from 0 to 18, which had a positive effect on RMSE.\n",
    "- nonnegative and implicitPrefs: These parameters were toggled between 0 and 1, which affected the RMSE.\n",
    "\n",
    "By manually tuning these parameters based on observations, the RMSE was reduced from 0.536 to 0.100, a significant improvement. This approach allowed for faster experimentation and identification of the optimal hyperparameters."
   ]
  },
  {
   "cell_type": "code",
   "execution_count": 0,
   "metadata": {
    "application/vnd.databricks.v1+cell": {
     "cellMetadata": {
      "byteLimit": 2048000,
      "rowLimit": 10000
     },
     "inputWidgets": {},
     "nuid": "1d1079d7-0871-4174-9e25-3ba34afa1645",
     "showTitle": false,
     "tableResultSettingsMap": {},
     "title": ""
    }
   },
   "outputs": [
    {
     "output_type": "display_data",
     "data": {
      "text/html": [
       "<html>\n",
       "<head><meta http-equiv=\"Content-Type\" content=\"text/html; charset=UTF-8\">\n",
       "\t\n",
       "\t<style>\n",
       "\t\t.ritz {\n",
       "\t\t\tfont-family: Arial, sans-serif;\n",
       "\t\t\tfont-size: 10pt;\n",
       "\t\t}\n",
       "\t\t\n",
       "\t\t.waffle {\n",
       "\t\t\tborder-collapse: collapse;\n",
       "\t\t\twidth: 100%;\n",
       "\t\t}\n",
       "\t\t\n",
       "\t\t.waffle th, .waffle td {\n",
       "\t\t\tborder: 1px solid #ddd;\n",
       "\t\t\tpadding: 2px 3px;\n",
       "\t\t}\n",
       "\t\t\n",
       "\t\t.waffle th {\n",
       "\t\t\tbackground-color: #fff2cc;\n",
       "\t\t\tfont-weight: bold;\n",
       "\t\t}\n",
       "\t\t\n",
       "\t\t.s0 {\n",
       "\t\t\tbackground-color: #fff2cc;\n",
       "\t\t\tfont-weight: bold;\n",
       "\t\t\ttext-align: center;\n",
       "\t\t}\n",
       "\t\t\n",
       "\t\t.s1, .s2 {\n",
       "\t\t\ttext-align: center;\n",
       "\t\t}\n",
       "\t\t\n",
       "\t\t.s1 {\n",
       "\t\t\tbackground-color: #fff2cc;\n",
       "\t\t\tfont-weight: bold;\n",
       "\t\t}\n",
       "\t\t\n",
       "\t\t.s2 {\n",
       "\t\t\tbackground-color: #ffffff;\n",
       "\t\t}\n",
       "\t\t\n",
       "\t\t.row-headers-background {\n",
       "\t\t\tbackground-color: #f0f0f0;\n",
       "\t\t}\n",
       "\t\t\n",
       "\t\t.column-headers-background {\n",
       "\t\t\tbackground-color: #f0f0f0;\n",
       "\t\t}\n",
       "\t\t\n",
       "\t\t.freezebar-origin-ltr {\n",
       "\t\t\tborder-right: 1px solid #ddd;\n",
       "\t\t}\n",
       "\t\t\n",
       "\t\t.grid-container {\n",
       "\t\t\toverflow-x: auto;\n",
       "\t\t}\n",
       "\t\t\n",
       "\t\t.ritz .waffle a {\n",
       "\t\t\tcolor: inherit;\n",
       "\t\t}\n",
       "\t\t\n",
       "\t\t.softmerge {\n",
       "\t\t\tposition: relative;\n",
       "\t\t}\n",
       "\t\t\n",
       "\t\t.softmerge-inner {\n",
       "\t\t\tposition: absolute;\n",
       "\t\t}\n",
       "\t</style>\n",
       "</head>\n",
       "<body>\n",
       "\t<div class=\"ritz grid-container\" dir=\"ltr\">\n",
       "\t\t<table class=\"waffle\" cellspacing=\"0\" cellpadding=\"0\">\n",
       "\t\t\t<thead>\n",
       "\t\t\t\t\n",
       "\t\t\t</thead>\n",
       "\t\t\t<tbody>\n",
       "\t\t\t\t<tr style=\"height: 20px\">\n",
       "\t\t\t\t\t\n",
       "\t\t\t\t\t\n",
       "\t\t\t\t\t\n",
       "<td class=\"s1\">coldStartStrategy</td><td class=\"s1\">nonnegative</td>\n",
       "\t\t\t\t\t<td class=\"s1\">implicitPrefs</td>\n",
       "\t\t\t\t\t<td class=\"s1\">maxIter</td>\n",
       "\t\t\t\t\t<td class=\"s1\">regParam</td>\n",
       "\t\t\t\t\t<td class=\"s1\">alpha</td>\n",
       "\t\t\t\t\t<td class=\"s1\">rank</td>\n",
       "\t\t\t\t\t<td class=\"s1\">RMSE</td>\n",
       "\t\t\t\t\t<td class=\"s1\">Runtime(Sec)</td>\n",
       "\t\t\t\t</tr>\n",
       "\t\t\t\t<tr style=\"height: 20px\">\n",
       "\t\t\t\t\t\n",
       "\t\t\t\t\t<td class=\"s2\">drop</td>\n",
       "\t\t\t\t\t<td class=\"s2\">1</td>\n",
       "\t\t\t\t\t<td class=\"s2\">1</td>\n",
       "\t\t\t\t\t<td class=\"s2\">10</td>\n",
       "\t\t\t\t\t<td class=\"s2\">0.01</td>\n",
       "\t\t\t\t\t<td class=\"s2\">20</td>\n",
       "\t\t\t\t\t<td class=\"s2\">0</td>\n",
       "\t\t\t\t\t<td class=\"s2\">0.5363574062</td>\n",
       "\t\t\t\t\t<td class=\"s2\">25</td>\n",
       "\t\t\t\t</tr>\n",
       "\t\t\t\t<tr style=\"height: 20px\">\n",
       "\t\t\t\t\t\n",
       "\t\t\t\t\t<td class=\"s2\">drop</td>\n",
       "\t\t\t\t\t<td class=\"s2\">1</td>\n",
       "\t\t\t\t\t<td class=\"s2\">1</td>\n",
       "\t\t\t\t\t<td class=\"s2\">15</td>\n",
       "\t\t\t\t\t<td class=\"s2\">0.01</td>\n",
       "\t\t\t\t\t<td class=\"s2\">20</td>\n",
       "\t\t\t\t\t<td class=\"s2\">0</td>\n",
       "\t\t\t\t\t<td class=\"s2\">0.5350651466</td>\n",
       "\t\t\t\t\t<td class=\"s2\">38</td>\n",
       "\t\t\t\t</tr>\n",
       "\t\t\t\t<tr style=\"height: 20px\">\n",
       "\t\t\t\t\t\n",
       "\t\t\t\t\t<td class=\"s2\">drop</td>\n",
       "\t\t\t\t\t<td class=\"s2\">1</td>\n",
       "\t\t\t\t\t<td class=\"s2\">1</td>\n",
       "\t\t\t\t\t<td class=\"s2\">30</td>\n",
       "\t\t\t\t\t<td class=\"s2\">0.01</td>\n",
       "\t\t\t\t\t<td class=\"s2\">20</td>\n",
       "\t\t\t\t\t<td class=\"s2\">0</td>\n",
       "\t\t\t\t\t<td class=\"s2\">0.5318273277</td>\n",
       "\t\t\t\t\t<td class=\"s2\">200</td>\n",
       "\t\t\t\t</tr>\n",
       "\t\t\t\t<tr style=\"height: 20px\">\n",
       "\t\t\t\t\t\n",
       "\t\t\t\t\t<td class=\"s2\">drop</td>\n",
       "\t\t\t\t\t<td class=\"s2\">1</td>\n",
       "\t\t\t\t\t<td class=\"s2\">1</td>\n",
       "\t\t\t\t\t<td class=\"s2\">10</td>\n",
       "\t\t\t\t\t<td class=\"s2\">0.05</td>\n",
       "\t\t\t\t\t<td class=\"s2\">20</td>\n",
       "\t\t\t\t\t<td class=\"s2\">0</td>\n",
       "\t\t\t\t\t<td class=\"s2\">0.540987296</td>\n",
       "\t\t\t\t\t<td class=\"s2\">27</td>\n",
       "\t\t\t\t</tr>\n",
       "\t\t\t\t<tr style=\"height: 20px\">\n",
       "\t\t\t\t\t\n",
       "\t\t\t\t\t<td class=\"s2\">drop</td>\n",
       "\t\t\t\t\t<td class=\"s2\">1</td>\n",
       "\t\t\t\t\t<td class=\"s2\">1</td>\n",
       "\t\t\t\t\t<td class=\"s2\">10</td>\n",
       "\t\t\t\t\t<td class=\"s2\">0.01</td>\n",
       "\t\t\t\t\t<td class=\"s2\">60</td>\n",
       "\t\t\t\t\t<td class=\"s2\">0</td>\n",
       "\t\t\t\t\t<td class=\"s2\">0.4190641109</td>\n",
       "\t\t\t\t\t<td class=\"s2\">25</td>\n",
       "\t\t\t\t</tr>\n",
       "\t\t\t\t<tr style=\"height: 20px\">\n",
       "\t\t\t\t\t\n",
       "\t\t\t\t\t<td class=\"s2\">drop</td>\n",
       "\t\t\t\t\t<td class=\"s2\">1</td>\n",
       "\t\t\t\t\t<td class=\"s2\">1</td>\n",
       "\t\t\t\t\t<td class=\"s2\">10</td>\n",
       "\t\t\t\t\t<td class=\"s2\">0.01</td>\n",
       "\t\t\t\t\t<td class=\"s2\">240</td>\n",
       "\t\t\t\t\t<td class=\"s2\">0</td>\n",
       "\t\t\t\t\t<td class=\"s2\">0.3148567643</td>\n",
       "\t\t\t\t\t<td class=\"s2\">26</td>\n",
       "\t\t\t\t</tr>\n",
       "\t\t\t\t<tr style=\"height: 20px\">\n",
       "\t\t\t\t\t\n",
       "\t\t\t\t\t<td class=\"s2\">drop</td>\n",
       "\t\t\t\t\t<td class=\"s2\">1</td>\n",
       "\t\t\t\t\t<td class=\"s2\">1</td>\n",
       "\t\t\t\t\t<td class=\"s2\">10</td>\n",
       "\t\t\t\t\t<td class=\"s2\">0.01</td>\n",
       "\t\t\t\t\t<td class=\"s2\">960</td>\n",
       "\t\t\t\t\t<td class=\"s2\">0</td>\n",
       "\t\t\t\t\t<td class=\"s2\">0.2611170836</td>\n",
       "\t\t\t\t\t<td class=\"s2\">25</td>\n",
       "\t\t\t\t</tr>\n",
       "\t\t\t\t<tr style=\"height: 20px\">\n",
       "\t\t\t\t\t\n",
       "\t\t\t\t\t<td class=\"s2\">drop</td>\n",
       "\t\t\t\t\t<td class=\"s2\">1</td>\n",
       "\t\t\t\t\t<td class=\"s2\">1</td>\n",
       "\t\t\t\t\t<td class=\"s2\">10</td>\n",
       "\t\t\t\t\t<td class=\"s2\">0.01</td>\n",
       "\t\t\t\t\t<td class=\"s2\">1920</td>\n",
       "\t\t\t\t\t<td class=\"s2\">0</td>\n",
       "\t\t\t\t\t<td class=\"s2\">0.2465886665</td>\n",
       "\t\t\t\t\t<td class=\"s2\">29</td>\n",
       "\t\t\t\t</tr>\n",
       "\t\t\t\t<tr style=\"height: 20px\">\n",
       "\t\t\t\t\t\n",
       "\t\t\t\t\t<td class=\"s2\">drop</td>\n",
       "\t\t\t\t\t<td class=\"s2\">1</td>\n",
       "\t\t\t\t\t<td class=\"s2\">1</td>\n",
       "\t\t\t\t\t<td class=\"s2\">10</td>\n",
       "\t\t\t\t\t<td class=\"s2\">0.1</td>\n",
       "\t\t\t\t\t<td class=\"s2\">1920</td>\n",
       "\t\t\t\t\t<td class=\"s2\">15</td>\n",
       "\t\t\t\t\t<td class=\"s2\">0.2785463465</td>\n",
       "\t\t\t\t\t<td class=\"s2\">31</td>\n",
       "\t\t\t\t</tr>\n",
       "\t\t\t\t<tr style=\"height: 20px\">\n",
       "\t\t\t\t\t\n",
       "\t\t\t\t\t<td class=\"s2\">drop</td>\n",
       "\t\t\t\t\t<td class=\"s2\">0</td>\n",
       "\t\t\t\t\t<td class=\"s2\">0</td>\n",
       "\t\t\t\t\t<td class=\"s2\">10</td>\n",
       "\t\t\t\t\t<td class=\"s2\">0.1</td>\n",
       "\t\t\t\t\t<td class=\"s2\">1920</td>\n",
       "\t\t\t\t\t<td class=\"s2\">15</td>\n",
       "\t\t\t\t\t<td class=\"s2\">0.1007530999</td>\n",
       "\t\t\t\t\t<td class=\"s2\">20</td>\n",
       "\t\t\t\t</tr>\n",
       "\t\t\t\t<tr style=\"height: 20px\">\n",
       "\t\t\t\t\t\n",
       "\t\t\t\t\t<td class=\"s2\">drop</td>\n",
       "\t\t\t\t\t<td class=\"s2\">0</td>\n",
       "\t\t\t\t\t<td class=\"s2\">0</td>\n",
       "\t\t\t\t\t<td class=\"s2\">10</td>\n",
       "\t\t\t\t\t<td class=\"s2\">0.1</td>\n",
       "\t\t\t\t\t<td class=\"s2\">1920</td>\n",
       "\t\t\t\t\t<td class=\"s2\">18</td>\n",
       "\t\t\t\t\t<td class=\"s2\">0.1001991316</td>\n",
       "\t\t\t\t\t<td class=\"s2\">480</td>\n",
       "\t\t\t\t</tr>\n",
       "\t\t\t</tbody>\n",
       "\t\t</table>\n",
       "\t\t<p><b>Dated ::</b> <i>20th March 2025 00.10</i></p>\n",
       "\t</div>\n",
       "\n",
       "</body>\n",
       "</html>"
      ]
     },
     "metadata": {
      "application/vnd.databricks.v1+output": {
       "addedWidgets": {},
       "arguments": {},
       "data": "<html>\n<head><meta http-equiv=\"Content-Type\" content=\"text/html; charset=UTF-8\">\n\t\n\t<style>\n\t\t.ritz {\n\t\t\tfont-family: Arial, sans-serif;\n\t\t\tfont-size: 10pt;\n\t\t}\n\t\t\n\t\t.waffle {\n\t\t\tborder-collapse: collapse;\n\t\t\twidth: 100%;\n\t\t}\n\t\t\n\t\t.waffle th, .waffle td {\n\t\t\tborder: 1px solid #ddd;\n\t\t\tpadding: 2px 3px;\n\t\t}\n\t\t\n\t\t.waffle th {\n\t\t\tbackground-color: #fff2cc;\n\t\t\tfont-weight: bold;\n\t\t}\n\t\t\n\t\t.s0 {\n\t\t\tbackground-color: #fff2cc;\n\t\t\tfont-weight: bold;\n\t\t\ttext-align: center;\n\t\t}\n\t\t\n\t\t.s1, .s2 {\n\t\t\ttext-align: center;\n\t\t}\n\t\t\n\t\t.s1 {\n\t\t\tbackground-color: #fff2cc;\n\t\t\tfont-weight: bold;\n\t\t}\n\t\t\n\t\t.s2 {\n\t\t\tbackground-color: #ffffff;\n\t\t}\n\t\t\n\t\t.row-headers-background {\n\t\t\tbackground-color: #f0f0f0;\n\t\t}\n\t\t\n\t\t.column-headers-background {\n\t\t\tbackground-color: #f0f0f0;\n\t\t}\n\t\t\n\t\t.freezebar-origin-ltr {\n\t\t\tborder-right: 1px solid #ddd;\n\t\t}\n\t\t\n\t\t.grid-container {\n\t\t\toverflow-x: auto;\n\t\t}\n\t\t\n\t\t.ritz .waffle a {\n\t\t\tcolor: inherit;\n\t\t}\n\t\t\n\t\t.softmerge {\n\t\t\tposition: relative;\n\t\t}\n\t\t\n\t\t.softmerge-inner {\n\t\t\tposition: absolute;\n\t\t}\n\t</style>\n</head>\n<body>\n\t<div class=\"ritz grid-container\" dir=\"ltr\">\n\t\t<table class=\"waffle\" cellspacing=\"0\" cellpadding=\"0\">\n\t\t\t<thead>\n\t\t\t\t\n\t\t\t</thead>\n\t\t\t<tbody>\n\t\t\t\t<tr style=\"height: 20px\">\n\t\t\t\t\t\n\t\t\t\t\t\n\t\t\t\t\t\n<td class=\"s1\">coldStartStrategy</td><td class=\"s1\">nonnegative</td>\n\t\t\t\t\t<td class=\"s1\">implicitPrefs</td>\n\t\t\t\t\t<td class=\"s1\">maxIter</td>\n\t\t\t\t\t<td class=\"s1\">regParam</td>\n\t\t\t\t\t<td class=\"s1\">alpha</td>\n\t\t\t\t\t<td class=\"s1\">rank</td>\n\t\t\t\t\t<td class=\"s1\">RMSE</td>\n\t\t\t\t\t<td class=\"s1\">Runtime(Sec)</td>\n\t\t\t\t</tr>\n\t\t\t\t<tr style=\"height: 20px\">\n\t\t\t\t\t\n\t\t\t\t\t<td class=\"s2\">drop</td>\n\t\t\t\t\t<td class=\"s2\">1</td>\n\t\t\t\t\t<td class=\"s2\">1</td>\n\t\t\t\t\t<td class=\"s2\">10</td>\n\t\t\t\t\t<td class=\"s2\">0.01</td>\n\t\t\t\t\t<td class=\"s2\">20</td>\n\t\t\t\t\t<td class=\"s2\">0</td>\n\t\t\t\t\t<td class=\"s2\">0.5363574062</td>\n\t\t\t\t\t<td class=\"s2\">25</td>\n\t\t\t\t</tr>\n\t\t\t\t<tr style=\"height: 20px\">\n\t\t\t\t\t\n\t\t\t\t\t<td class=\"s2\">drop</td>\n\t\t\t\t\t<td class=\"s2\">1</td>\n\t\t\t\t\t<td class=\"s2\">1</td>\n\t\t\t\t\t<td class=\"s2\">15</td>\n\t\t\t\t\t<td class=\"s2\">0.01</td>\n\t\t\t\t\t<td class=\"s2\">20</td>\n\t\t\t\t\t<td class=\"s2\">0</td>\n\t\t\t\t\t<td class=\"s2\">0.5350651466</td>\n\t\t\t\t\t<td class=\"s2\">38</td>\n\t\t\t\t</tr>\n\t\t\t\t<tr style=\"height: 20px\">\n\t\t\t\t\t\n\t\t\t\t\t<td class=\"s2\">drop</td>\n\t\t\t\t\t<td class=\"s2\">1</td>\n\t\t\t\t\t<td class=\"s2\">1</td>\n\t\t\t\t\t<td class=\"s2\">30</td>\n\t\t\t\t\t<td class=\"s2\">0.01</td>\n\t\t\t\t\t<td class=\"s2\">20</td>\n\t\t\t\t\t<td class=\"s2\">0</td>\n\t\t\t\t\t<td class=\"s2\">0.5318273277</td>\n\t\t\t\t\t<td class=\"s2\">200</td>\n\t\t\t\t</tr>\n\t\t\t\t<tr style=\"height: 20px\">\n\t\t\t\t\t\n\t\t\t\t\t<td class=\"s2\">drop</td>\n\t\t\t\t\t<td class=\"s2\">1</td>\n\t\t\t\t\t<td class=\"s2\">1</td>\n\t\t\t\t\t<td class=\"s2\">10</td>\n\t\t\t\t\t<td class=\"s2\">0.05</td>\n\t\t\t\t\t<td class=\"s2\">20</td>\n\t\t\t\t\t<td class=\"s2\">0</td>\n\t\t\t\t\t<td class=\"s2\">0.540987296</td>\n\t\t\t\t\t<td class=\"s2\">27</td>\n\t\t\t\t</tr>\n\t\t\t\t<tr style=\"height: 20px\">\n\t\t\t\t\t\n\t\t\t\t\t<td class=\"s2\">drop</td>\n\t\t\t\t\t<td class=\"s2\">1</td>\n\t\t\t\t\t<td class=\"s2\">1</td>\n\t\t\t\t\t<td class=\"s2\">10</td>\n\t\t\t\t\t<td class=\"s2\">0.01</td>\n\t\t\t\t\t<td class=\"s2\">60</td>\n\t\t\t\t\t<td class=\"s2\">0</td>\n\t\t\t\t\t<td class=\"s2\">0.4190641109</td>\n\t\t\t\t\t<td class=\"s2\">25</td>\n\t\t\t\t</tr>\n\t\t\t\t<tr style=\"height: 20px\">\n\t\t\t\t\t\n\t\t\t\t\t<td class=\"s2\">drop</td>\n\t\t\t\t\t<td class=\"s2\">1</td>\n\t\t\t\t\t<td class=\"s2\">1</td>\n\t\t\t\t\t<td class=\"s2\">10</td>\n\t\t\t\t\t<td class=\"s2\">0.01</td>\n\t\t\t\t\t<td class=\"s2\">240</td>\n\t\t\t\t\t<td class=\"s2\">0</td>\n\t\t\t\t\t<td class=\"s2\">0.3148567643</td>\n\t\t\t\t\t<td class=\"s2\">26</td>\n\t\t\t\t</tr>\n\t\t\t\t<tr style=\"height: 20px\">\n\t\t\t\t\t\n\t\t\t\t\t<td class=\"s2\">drop</td>\n\t\t\t\t\t<td class=\"s2\">1</td>\n\t\t\t\t\t<td class=\"s2\">1</td>\n\t\t\t\t\t<td class=\"s2\">10</td>\n\t\t\t\t\t<td class=\"s2\">0.01</td>\n\t\t\t\t\t<td class=\"s2\">960</td>\n\t\t\t\t\t<td class=\"s2\">0</td>\n\t\t\t\t\t<td class=\"s2\">0.2611170836</td>\n\t\t\t\t\t<td class=\"s2\">25</td>\n\t\t\t\t</tr>\n\t\t\t\t<tr style=\"height: 20px\">\n\t\t\t\t\t\n\t\t\t\t\t<td class=\"s2\">drop</td>\n\t\t\t\t\t<td class=\"s2\">1</td>\n\t\t\t\t\t<td class=\"s2\">1</td>\n\t\t\t\t\t<td class=\"s2\">10</td>\n\t\t\t\t\t<td class=\"s2\">0.01</td>\n\t\t\t\t\t<td class=\"s2\">1920</td>\n\t\t\t\t\t<td class=\"s2\">0</td>\n\t\t\t\t\t<td class=\"s2\">0.2465886665</td>\n\t\t\t\t\t<td class=\"s2\">29</td>\n\t\t\t\t</tr>\n\t\t\t\t<tr style=\"height: 20px\">\n\t\t\t\t\t\n\t\t\t\t\t<td class=\"s2\">drop</td>\n\t\t\t\t\t<td class=\"s2\">1</td>\n\t\t\t\t\t<td class=\"s2\">1</td>\n\t\t\t\t\t<td class=\"s2\">10</td>\n\t\t\t\t\t<td class=\"s2\">0.1</td>\n\t\t\t\t\t<td class=\"s2\">1920</td>\n\t\t\t\t\t<td class=\"s2\">15</td>\n\t\t\t\t\t<td class=\"s2\">0.2785463465</td>\n\t\t\t\t\t<td class=\"s2\">31</td>\n\t\t\t\t</tr>\n\t\t\t\t<tr style=\"height: 20px\">\n\t\t\t\t\t\n\t\t\t\t\t<td class=\"s2\">drop</td>\n\t\t\t\t\t<td class=\"s2\">0</td>\n\t\t\t\t\t<td class=\"s2\">0</td>\n\t\t\t\t\t<td class=\"s2\">10</td>\n\t\t\t\t\t<td class=\"s2\">0.1</td>\n\t\t\t\t\t<td class=\"s2\">1920</td>\n\t\t\t\t\t<td class=\"s2\">15</td>\n\t\t\t\t\t<td class=\"s2\">0.1007530999</td>\n\t\t\t\t\t<td class=\"s2\">20</td>\n\t\t\t\t</tr>\n\t\t\t\t<tr style=\"height: 20px\">\n\t\t\t\t\t\n\t\t\t\t\t<td class=\"s2\">drop</td>\n\t\t\t\t\t<td class=\"s2\">0</td>\n\t\t\t\t\t<td class=\"s2\">0</td>\n\t\t\t\t\t<td class=\"s2\">10</td>\n\t\t\t\t\t<td class=\"s2\">0.1</td>\n\t\t\t\t\t<td class=\"s2\">1920</td>\n\t\t\t\t\t<td class=\"s2\">18</td>\n\t\t\t\t\t<td class=\"s2\">0.1001991316</td>\n\t\t\t\t\t<td class=\"s2\">480</td>\n\t\t\t\t</tr>\n\t\t\t</tbody>\n\t\t</table>\n\t\t<p><b>Dated ::</b> <i>20th March 2025 00.10</i></p>\n\t</div>\n\n</body>\n</html>",
       "datasetInfos": [],
       "metadata": {},
       "removedWidgets": [],
       "textData": null,
       "type": "htmlSandbox"
      }
     },
     "output_type": "display_data"
    }
   ],
   "source": [
    "from IPython.display import HTML\n",
    "\n",
    "html_code = dbutils.fs.head('/FileStore/tables/assignment_2/code.html')\n",
    "\n",
    "HTML(html_code)"
   ]
  },
  {
   "cell_type": "code",
   "execution_count": 0,
   "metadata": {
    "application/vnd.databricks.v1+cell": {
     "cellMetadata": {
      "byteLimit": 2048000,
      "rowLimit": 10000
     },
     "inputWidgets": {},
     "nuid": "129a54ec-eef3-4a5a-befc-22ab77a8dd5b",
     "showTitle": false,
     "tableResultSettingsMap": {},
     "title": ""
    }
   },
   "outputs": [
    {
     "output_type": "stream",
     "name": "stdout",
     "output_type": "stream",
     "text": [
      "Root Mean Squared Error (RMSE): 0.5318273278856753\n"
     ]
    }
   ],
   "source": [
    "from pyspark.ml.recommendation import ALS\n",
    "from pyspark.ml.evaluation import RegressionEvaluator\n",
    "\n",
    "als_model = ALS(\n",
    "    userCol=\"member_id\", \n",
    "    itemCol=\"game_id\", \n",
    "    ratingCol=\"value\", \n",
    "    coldStartStrategy=\"drop\",\n",
    "    nonnegative=True,\n",
    "    implicitPrefs=True,\n",
    "    maxIter=30, \n",
    "    regParam=0.01, \n",
    "    alpha=20\n",
    ")\n",
    "\n",
    "model = als_model.fit(train_df)\n",
    "\n",
    "predictions = model.transform(test_df)\n",
    "evaluator = RegressionEvaluator(\n",
    "    metricName=\"rmse\", \n",
    "    labelCol=\"value\", \n",
    "    predictionCol=\"prediction\"\n",
    ")\n",
    "\n",
    "rmse = evaluator.evaluate(predictions)\n",
    "print(f\"Root Mean Squared Error (RMSE): {rmse}\")"
   ]
  },
  {
   "cell_type": "code",
   "execution_count": 0,
   "metadata": {
    "application/vnd.databricks.v1+cell": {
     "cellMetadata": {
      "byteLimit": 2048000,
      "rowLimit": 10000
     },
     "inputWidgets": {},
     "nuid": "1a1aa517-35d3-44e2-b67f-9f42c8c6cc63",
     "showTitle": false,
     "tableResultSettingsMap": {},
     "title": ""
    }
   },
   "outputs": [
    {
     "output_type": "stream",
     "name": "stdout",
     "output_type": "stream",
     "text": [
      "Root Mean Squared Error (RMSE): 0.5409872960215799\n"
     ]
    }
   ],
   "source": [
    "from pyspark.ml.recommendation import ALS\n",
    "from pyspark.ml.evaluation import RegressionEvaluator\n",
    "\n",
    "als_model = ALS(\n",
    "    userCol=\"member_id\", \n",
    "    itemCol=\"game_id\", \n",
    "    ratingCol=\"value\", \n",
    "    coldStartStrategy=\"drop\",\n",
    "    nonnegative=True,\n",
    "    implicitPrefs=True,\n",
    "    maxIter=10, \n",
    "    regParam=0.05, \n",
    "    alpha=20\n",
    ")\n",
    "\n",
    "model = als_model.fit(train_df)\n",
    "\n",
    "predictions = model.transform(test_df)\n",
    "evaluator = RegressionEvaluator(\n",
    "    metricName=\"rmse\", \n",
    "    labelCol=\"value\", \n",
    "    predictionCol=\"prediction\"\n",
    ")\n",
    "\n",
    "rmse = evaluator.evaluate(predictions)\n",
    "print(f\"Root Mean Squared Error (RMSE): {rmse}\")"
   ]
  },
  {
   "cell_type": "code",
   "execution_count": 0,
   "metadata": {
    "application/vnd.databricks.v1+cell": {
     "cellMetadata": {
      "byteLimit": 2048000,
      "rowLimit": 10000
     },
     "inputWidgets": {},
     "nuid": "03db8367-a1c5-4711-be88-1b7b51dc400f",
     "showTitle": false,
     "tableResultSettingsMap": {},
     "title": ""
    }
   },
   "outputs": [
    {
     "output_type": "stream",
     "name": "stdout",
     "output_type": "stream",
     "text": [
      "Root Mean Squared Error (RMSE): 0.41906411090660894\n"
     ]
    }
   ],
   "source": [
    "from pyspark.ml.recommendation import ALS\n",
    "from pyspark.ml.evaluation import RegressionEvaluator\n",
    "\n",
    "als_model = ALS(\n",
    "    userCol=\"member_id\", \n",
    "    itemCol=\"game_id\", \n",
    "    ratingCol=\"value\", \n",
    "    coldStartStrategy=\"drop\",\n",
    "    nonnegative=True,\n",
    "    implicitPrefs=True,\n",
    "    maxIter=10, \n",
    "    regParam=0.01, \n",
    "    alpha=60\n",
    ")\n",
    "\n",
    "model = als_model.fit(train_df)\n",
    "\n",
    "predictions = model.transform(test_df)\n",
    "evaluator = RegressionEvaluator(\n",
    "    metricName=\"rmse\", \n",
    "    labelCol=\"value\", \n",
    "    predictionCol=\"prediction\"\n",
    ")\n",
    "\n",
    "rmse = evaluator.evaluate(predictions)\n",
    "print(f\"Root Mean Squared Error (RMSE): {rmse}\")"
   ]
  },
  {
   "cell_type": "code",
   "execution_count": 0,
   "metadata": {
    "application/vnd.databricks.v1+cell": {
     "cellMetadata": {
      "byteLimit": 2048000,
      "rowLimit": 10000
     },
     "inputWidgets": {},
     "nuid": "a288e68d-c558-40c7-88ab-10f78d3cdc41",
     "showTitle": false,
     "tableResultSettingsMap": {},
     "title": ""
    }
   },
   "outputs": [
    {
     "output_type": "stream",
     "name": "stdout",
     "output_type": "stream",
     "text": [
      "Root Mean Squared Error (RMSE): 0.31485676433893667\n"
     ]
    }
   ],
   "source": [
    "from pyspark.ml.recommendation import ALS\n",
    "from pyspark.ml.evaluation import RegressionEvaluator\n",
    "\n",
    "als_model = ALS(\n",
    "    userCol=\"member_id\", \n",
    "    itemCol=\"game_id\", \n",
    "    ratingCol=\"value\", \n",
    "    coldStartStrategy=\"drop\",\n",
    "    nonnegative=True,\n",
    "    implicitPrefs=True,\n",
    "    maxIter=10, \n",
    "    regParam=0.01, \n",
    "    alpha=240\n",
    ")\n",
    "\n",
    "model = als_model.fit(train_df)\n",
    "\n",
    "predictions = model.transform(test_df)\n",
    "evaluator = RegressionEvaluator(\n",
    "    metricName=\"rmse\", \n",
    "    labelCol=\"value\", \n",
    "    predictionCol=\"prediction\"\n",
    ")\n",
    "\n",
    "rmse = evaluator.evaluate(predictions)\n",
    "print(f\"Root Mean Squared Error (RMSE): {rmse}\")"
   ]
  },
  {
   "cell_type": "code",
   "execution_count": 0,
   "metadata": {
    "application/vnd.databricks.v1+cell": {
     "cellMetadata": {
      "byteLimit": 2048000,
      "rowLimit": 10000
     },
     "inputWidgets": {},
     "nuid": "ff0db79e-0b3f-4451-8eb8-35be9552cee5",
     "showTitle": false,
     "tableResultSettingsMap": {},
     "title": ""
    }
   },
   "outputs": [
    {
     "output_type": "stream",
     "name": "stdout",
     "output_type": "stream",
     "text": [
      "Root Mean Squared Error (RMSE): 0.2611170836851742\n"
     ]
    }
   ],
   "source": [
    "from pyspark.ml.recommendation import ALS\n",
    "from pyspark.ml.evaluation import RegressionEvaluator\n",
    "\n",
    "als_model = ALS(\n",
    "    userCol=\"member_id\", \n",
    "    itemCol=\"game_id\", \n",
    "    ratingCol=\"value\", \n",
    "    coldStartStrategy=\"drop\",\n",
    "    nonnegative=True,\n",
    "    implicitPrefs=True,\n",
    "    maxIter=10, \n",
    "    regParam=0.01, \n",
    "    alpha=960\n",
    ")\n",
    "\n",
    "model = als_model.fit(train_df)\n",
    "\n",
    "predictions = model.transform(test_df)\n",
    "evaluator = RegressionEvaluator(\n",
    "    metricName=\"rmse\", \n",
    "    labelCol=\"value\", \n",
    "    predictionCol=\"prediction\"\n",
    ")\n",
    "\n",
    "rmse = evaluator.evaluate(predictions)\n",
    "print(f\"Root Mean Squared Error (RMSE): {rmse}\")"
   ]
  },
  {
   "cell_type": "code",
   "execution_count": 0,
   "metadata": {
    "application/vnd.databricks.v1+cell": {
     "cellMetadata": {
      "byteLimit": 2048000,
      "rowLimit": 10000
     },
     "inputWidgets": {},
     "nuid": "8cfe582f-469e-425b-a124-f60045cc6a83",
     "showTitle": false,
     "tableResultSettingsMap": {},
     "title": ""
    }
   },
   "outputs": [
    {
     "output_type": "stream",
     "name": "stdout",
     "output_type": "stream",
     "text": [
      "Root Mean Squared Error (RMSE): 0.2465886657946328\n"
     ]
    }
   ],
   "source": [
    "from pyspark.ml.recommendation import ALS\n",
    "from pyspark.ml.evaluation import RegressionEvaluator\n",
    "\n",
    "als_model = ALS(\n",
    "    userCol=\"member_id\", \n",
    "    itemCol=\"game_id\", \n",
    "    ratingCol=\"value\", \n",
    "    coldStartStrategy=\"drop\",\n",
    "    nonnegative=True,\n",
    "    implicitPrefs=True,\n",
    "    maxIter=10, \n",
    "    regParam=0.01, \n",
    "    alpha=1920\n",
    ")\n",
    "\n",
    "model = als_model.fit(train_df)\n",
    "\n",
    "predictions = model.transform(test_df)\n",
    "evaluator = RegressionEvaluator(\n",
    "    metricName=\"rmse\", \n",
    "    labelCol=\"value\", \n",
    "    predictionCol=\"prediction\"\n",
    ")\n",
    "\n",
    "rmse = evaluator.evaluate(predictions)\n",
    "print(f\"Root Mean Squared Error (RMSE): {rmse}\")"
   ]
  },
  {
   "cell_type": "code",
   "execution_count": 0,
   "metadata": {
    "application/vnd.databricks.v1+cell": {
     "cellMetadata": {
      "byteLimit": 2048000,
      "rowLimit": 10000
     },
     "inputWidgets": {},
     "nuid": "5f944422-3e6e-42b1-8d65-21e42f6ec0a9",
     "showTitle": false,
     "tableResultSettingsMap": {},
     "title": ""
    }
   },
   "outputs": [
    {
     "output_type": "stream",
     "name": "stdout",
     "output_type": "stream",
     "text": [
      "Root Mean Squared Error (RMSE): 0.27854634777575704\n"
     ]
    }
   ],
   "source": [
    "from pyspark.ml.recommendation import ALS\n",
    "from pyspark.ml.evaluation import RegressionEvaluator\n",
    "\n",
    "als_model = ALS(\n",
    "    userCol=\"member_id\", \n",
    "    itemCol=\"game_id\", \n",
    "    ratingCol=\"value\",\n",
    "    coldStartStrategy=\"drop\",\n",
    "    nonnegative=True,\n",
    "    implicitPrefs=True,\n",
    "    maxIter=10, \n",
    "    regParam=0.1, \n",
    "    rank=15, \n",
    "    alpha=1920\n",
    ")\n",
    "\n",
    "model = als_model.fit(train_df)\n",
    "\n",
    "predictions = model.transform(test_df)\n",
    "evaluator = RegressionEvaluator(\n",
    "    metricName=\"rmse\", \n",
    "    labelCol=\"value\", \n",
    "    predictionCol=\"prediction\"\n",
    ")\n",
    "\n",
    "rmse = evaluator.evaluate(predictions)\n",
    "print(f\"Root Mean Squared Error (RMSE): {rmse}\")"
   ]
  },
  {
   "cell_type": "code",
   "execution_count": 0,
   "metadata": {
    "application/vnd.databricks.v1+cell": {
     "cellMetadata": {
      "byteLimit": 2048000,
      "rowLimit": 10000
     },
     "inputWidgets": {},
     "nuid": "3f8224bf-32e1-499b-9654-7475ab5914cc",
     "showTitle": false,
     "tableResultSettingsMap": {},
     "title": ""
    }
   },
   "outputs": [
    {
     "output_type": "stream",
     "name": "stdout",
     "output_type": "stream",
     "text": [
      "Root Mean Squared Error (RMSE): 0.10075309993860049\n"
     ]
    }
   ],
   "source": [
    "from pyspark.ml.recommendation import ALS\n",
    "from pyspark.ml.evaluation import RegressionEvaluator\n",
    "\n",
    "als_model = ALS(\n",
    "    userCol=\"member_id\", \n",
    "    itemCol=\"game_id\", \n",
    "    ratingCol=\"value\",\n",
    "    coldStartStrategy=\"drop\",\n",
    "    nonnegative=False,\n",
    "    implicitPrefs=False,\n",
    "    maxIter=10, \n",
    "    regParam=0.1, \n",
    "    rank=15, \n",
    "    alpha=1920\n",
    ")\n",
    "\n",
    "model = als_model.fit(train_df)\n",
    "\n",
    "predictions = model.transform(test_df)\n",
    "evaluator = RegressionEvaluator(\n",
    "    metricName=\"rmse\", \n",
    "    labelCol=\"value\", \n",
    "    predictionCol=\"prediction\"\n",
    ")\n",
    "\n",
    "rmse = evaluator.evaluate(predictions)\n",
    "print(f\"Root Mean Squared Error (RMSE): {rmse}\")"
   ]
  },
  {
   "cell_type": "code",
   "execution_count": 0,
   "metadata": {
    "application/vnd.databricks.v1+cell": {
     "cellMetadata": {
      "byteLimit": 2048000,
      "rowLimit": 10000
     },
     "inputWidgets": {},
     "nuid": "8bccf323-fa24-4c5c-8476-bbf1e6b359ca",
     "showTitle": false,
     "tableResultSettingsMap": {},
     "title": ""
    }
   },
   "outputs": [
    {
     "output_type": "stream",
     "name": "stdout",
     "output_type": "stream",
     "text": [
      "Root Mean Squared Error (RMSE): 0.10054845306959367\n"
     ]
    }
   ],
   "source": [
    "from pyspark.ml.recommendation import ALS\n",
    "from pyspark.ml.evaluation import RegressionEvaluator\n",
    "\n",
    "als_model = ALS(\n",
    "    userCol=\"member_id\", \n",
    "    itemCol=\"game_id\", \n",
    "    ratingCol=\"value\",\n",
    "    coldStartStrategy=\"drop\",\n",
    "    nonnegative=False,\n",
    "    implicitPrefs=False,\n",
    "    maxIter=10, \n",
    "    regParam=0.1, \n",
    "    rank=18, \n",
    "    alpha=1920\n",
    ")\n",
    "\n",
    "model = als_model.fit(train_df)\n",
    "\n",
    "predictions = model.transform(test_df)\n",
    "evaluator = RegressionEvaluator(\n",
    "    metricName=\"rmse\", \n",
    "    labelCol=\"value\", \n",
    "    predictionCol=\"prediction\"\n",
    ")\n",
    "\n",
    "rmse = evaluator.evaluate(predictions)\n",
    "print(f\"Root Mean Squared Error (RMSE): {rmse}\")"
   ]
  },
  {
   "cell_type": "markdown",
   "metadata": {
    "application/vnd.databricks.v1+cell": {
     "cellMetadata": {
      "byteLimit": 2048000,
      "rowLimit": 10000
     },
     "inputWidgets": {},
     "nuid": "62cb6550-3c7b-4d38-824e-705689190c47",
     "showTitle": false,
     "tableResultSettingsMap": {},
     "title": ""
    }
   },
   "source": [
    "### Exploratory Testing "
   ]
  },
  {
   "cell_type": "markdown",
   "metadata": {
    "application/vnd.databricks.v1+cell": {
     "cellMetadata": {
      "byteLimit": 2048000,
      "rowLimit": 10000
     },
     "inputWidgets": {},
     "nuid": "674ef72c-c690-4081-9dcd-472d7d82d08a",
     "showTitle": false,
     "tableResultSettingsMap": {},
     "title": ""
    }
   },
   "source": [
    "The purpose of this Exploratory Testing is to evaluate the performance of a recommendation model by selecting a random member and analyzing the model's recommendations for that member. This approach allows for a qualitative assessment of the model's accuracy and relevance.\n",
    "Effectiveness compared to RMSE:\n",
    "- RMSE (Root Mean Squared Error) is a quantitative metric that measures the difference between predicted and actual ratings. While RMSE provides a numerical evaluation of the model's performance, it has some limitations:\n",
    "- RMSE does not provide insight into the quality of the recommendations.\n",
    "- RMSE can be influenced by outliers or biased data."
   ]
  },
  {
   "cell_type": "markdown",
   "metadata": {
    "application/vnd.databricks.v1+cell": {
     "cellMetadata": {},
     "inputWidgets": {},
     "nuid": "850f9f52-655a-46ea-8c98-028743305f7b",
     "showTitle": false,
     "tableResultSettingsMap": {},
     "title": ""
    }
   },
   "source": [
    "#### For Random Choosen One"
   ]
  },
  {
   "cell_type": "code",
   "execution_count": 0,
   "metadata": {
    "application/vnd.databricks.v1+cell": {
     "cellMetadata": {
      "byteLimit": 2048000,
      "rowLimit": 10000
     },
     "inputWidgets": {},
     "nuid": "0e1ba119-8be9-4f9f-a184-5598b1ac36d6",
     "showTitle": false,
     "tableResultSettingsMap": {},
     "title": ""
    }
   },
   "outputs": [
    {
     "output_type": "stream",
     "name": "stdout",
     "output_type": "stream",
     "text": [
      "Games Purchased by Member:\n+--------------------+\n|                game|\n+--------------------+\n|      Counter-Strike|\n|       Day of Defeat|\n|            NBA 2K15|\n|Call of Duty Blac...|\n|Call of Duty Blac...|\n|           Robocraft|\n|       Left 4 Dead 2|\n|          Dino D-Day|\n|           Half-Life|\n|            Ricochet|\n|Counter-Strike Ne...|\n|  Deathmatch Classic|\n|Half-Life 2 Death...|\n|Half-Life 2 Lost ...|\n|Half-Life Blue Shift|\n|Half-Life Opposin...|\n|Team Fortress Cla...|\n+--------------------+\n\n"
     ]
    }
   ],
   "source": [
    "from pyspark.sql.functions import rand\n",
    "\n",
    "random_member = merged_df.select(\"member_id\").distinct().orderBy(rand()).first()\n",
    "random_member_id = random_member.member_id\n",
    "\n",
    "member_purchases = merged_df.filter(col(\"member_id\") == random_member_id)\n",
    "\n",
    "print(\"Games Purchased by Member:\")\n",
    "member_purchases.select(\"game\").show()"
   ]
  },
  {
   "cell_type": "code",
   "execution_count": 0,
   "metadata": {
    "application/vnd.databricks.v1+cell": {
     "cellMetadata": {
      "byteLimit": 2048000,
      "rowLimit": 10000
     },
     "inputWidgets": {},
     "nuid": "295bee08-afb0-46b3-88b3-8d1f1974ce60",
     "showTitle": false,
     "tableResultSettingsMap": {},
     "title": ""
    }
   },
   "outputs": [
    {
     "output_type": "stream",
     "name": "stdout",
     "output_type": "stream",
     "text": [
      "\nTop 5 Recommended Games for Member:\n+--------------------+----------+\n|                game|prediction|\n+--------------------+----------+\n|           Robocraft| 0.8997473|\n|Counter-Strike Ne...|0.89974135|\n|            NBA 2K15| 0.8997261|\n|       Left 4 Dead 2| 0.8996839|\n|      Counter-Strike| 0.8996531|\n+--------------------+----------+\nonly showing top 5 rows\n\n"
     ]
    }
   ],
   "source": [
    "member_recommendations = model.transform(merged_df.filter(col(\"member_id\") == random_member_id))\n",
    "\n",
    "member_recommendations = member_recommendations.orderBy(col(\"prediction\").desc())\n",
    "\n",
    "print(\"\\nTop 5 Recommended Games for Member:\")\n",
    "member_recommendations.select(\"game\",\"prediction\").show(5)"
   ]
  },
  {
   "cell_type": "markdown",
   "metadata": {
    "application/vnd.databricks.v1+cell": {
     "cellMetadata": {
      "byteLimit": 2048000,
      "rowLimit": 10000
     },
     "inputWidgets": {},
     "nuid": "1abe7f5f-0977-4168-af6c-d3ee81c586bc",
     "showTitle": false,
     "tableResultSettingsMap": {},
     "title": ""
    }
   },
   "source": [
    "The output of the Exploratory Testing shows:\n",
    "- The games purchased by the selected member.\n",
    "- The top 5 recommended games for the member, ranked by the model's prediction score.\n",
    "\n",
    "The output is good because:\n",
    "- The recommended games are relevant to the member's purchase history.\n",
    "- The model is able to identify patterns in the member's behavior and provide personalized recommendations."
   ]
  },
  {
   "cell_type": "markdown",
   "metadata": {
    "application/vnd.databricks.v1+cell": {
     "cellMetadata": {
      "byteLimit": 2048000,
      "rowLimit": 10000
     },
     "inputWidgets": {},
     "nuid": "885d0c75-a19e-478b-bd41-4974ec2f73df",
     "showTitle": false,
     "tableResultSettingsMap": {},
     "title": ""
    }
   },
   "source": [
    "### General Recommendations "
   ]
  },
  {
   "cell_type": "markdown",
   "metadata": {
    "application/vnd.databricks.v1+cell": {
     "cellMetadata": {},
     "inputWidgets": {},
     "nuid": "3a366ff4-1e7c-4016-a901-e4b4e8bc2136",
     "showTitle": false,
     "tableResultSettingsMap": {},
     "title": ""
    }
   },
   "source": [
    "#### For All Users"
   ]
  },
  {
   "cell_type": "markdown",
   "metadata": {
    "application/vnd.databricks.v1+cell": {
     "cellMetadata": {
      "byteLimit": 2048000,
      "rowLimit": 10000
     },
     "inputWidgets": {},
     "nuid": "d618c7b5-2e51-42c3-b6ea-f09ad86a7881",
     "showTitle": false,
     "tableResultSettingsMap": {},
     "title": ""
    }
   },
   "source": [
    "- Create a dataset with all possible member-game combinations: The code generates a dataset containing all possible combinations of members and games.\n",
    "- Make predictions using the trained ALS model: The trained ALS model is used to make predictions on the dataset of all possible member-game combinations.\n",
    "- Rank recommendations by prediction score: The predictions are ranked in descending order based on their prediction scores.\n",
    "- Display top recommendations: The top recommendations are displayed, showing the member ID, game ID, and prediction score.\n",
    "- Generate general recommendations for any person: The code provides general recommendations that can be applied to any person, without requiring their specific rating history."
   ]
  },
  {
   "cell_type": "code",
   "execution_count": 0,
   "metadata": {
    "application/vnd.databricks.v1+cell": {
     "cellMetadata": {
      "byteLimit": 2048000,
      "rowLimit": 10000
     },
     "inputWidgets": {},
     "nuid": "b3af9518-d6ec-48f6-b10b-f7d9600afcbe",
     "showTitle": false,
     "tableResultSettingsMap": {},
     "title": ""
    }
   },
   "outputs": [
    {
     "output_type": "stream",
     "name": "stdout",
     "output_type": "stream",
     "text": [
      "Top 10 General Recommendations:\n+---------+-------+--------------------+----------+\n|member_id|game_id|                game|prediction|\n+---------+-------+--------------------+----------+\n| 62985928|   3301|Season of Mystery...| 0.9046717|\n| 62985928|   1442|Tom Clancy's Ghos...| 0.9045555|\n|213854339|   1442|Tom Clancy's Ghos...| 0.9042737|\n|213854339|   2659|             NBA 2K9| 0.9041987|\n| 61444633|   1442|Tom Clancy's Ghos...| 0.9041111|\n| 62985928|   5053|Midnight Mysterie...| 0.9040186|\n| 62985928|   5058|Samantha Swift an...| 0.9040186|\n|131130328|   5053|Midnight Mysterie...|0.90396327|\n|131130328|   5058|Samantha Swift an...|0.90396327|\n|131130328|   2336|   The Clockwork Man|0.90388155|\n+---------+-------+--------------------+----------+\nonly showing top 10 rows\n\n"
     ]
    }
   ],
   "source": [
    "all_members = train_df.select(\"member_id\").distinct()\n",
    "all_games = train_df.select(\"game_id\", \"game\").distinct()\n",
    "\n",
    "all_combinations = all_members.crossJoin(all_games)\n",
    "\n",
    "general_recommendations = model.transform(all_combinations)\n",
    "\n",
    "general_recommendations = general_recommendations.orderBy(col(\"prediction\").desc())\n",
    "\n",
    "print(\"Top 10 General Recommendations:\")\n",
    "general_recommendations.select(\"member_id\", \"game_id\", \"game\", \"prediction\").show(10)"
   ]
  }
 ],
 "metadata": {
  "application/vnd.databricks.v1+notebook": {
   "computePreferences": null,
   "dashboards": [],
   "environmentMetadata": {
    "base_environment": "",
    "environment_version": "1"
   },
   "inputWidgetPreferences": null,
   "language": "python",
   "notebookMetadata": {
    "mostRecentlyExecutedCommandWithImplicitDF": {
     "commandId": -1,
     "dataframes": [
      "_sqldf"
     ]
    },
    "pythonIndentUnit": 4
   },
   "notebookName": "Muhammad Hassan Mukhtar @00792908 Assignment 02 Task 02.ipynb",
   "widgets": {}
  }
 },
 "nbformat": 4,
 "nbformat_minor": 0
}
